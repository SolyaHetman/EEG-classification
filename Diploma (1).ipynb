{
  "nbformat": 4,
  "nbformat_minor": 0,
  "metadata": {
    "colab": {
      "provenance": [],
      "collapsed_sections": [
        "Hjwa_q6ZAvV6",
        "UP1ZcSiTEq2t",
        "H8HVDyY1Fj_I",
        "XOiBYZweF7Ka",
        "PbFnWNFv8HSB",
        "wBJuy0LN9EkU",
        "DuuWMojC-AXn"
      ]
    },
    "kernelspec": {
      "name": "python3",
      "display_name": "Python 3"
    },
    "language_info": {
      "name": "python"
    }
  },
  "cells": [
    {
      "cell_type": "code",
      "source": [
        "import numpy as np\n",
        "import matplotlib.pyplot as plt\n",
        "import pandas as pd\n",
        "import seaborn as sns\n",
        "sns.set()"
      ],
      "metadata": {
        "id": "OiUN6LER5Uwu"
      },
      "execution_count": 1,
      "outputs": []
    },
    {
      "cell_type": "code",
      "source": [
        "EEG_data_set = pd.read_csv('Epileptic Seizure Recognition.csv')"
      ],
      "metadata": {
        "id": "vrVNidCb5aLg"
      },
      "execution_count": 2,
      "outputs": []
    },
    {
      "cell_type": "code",
      "source": [
        "EEG_data_set.head()"
      ],
      "metadata": {
        "colab": {
          "base_uri": "https://localhost:8080/",
          "height": 235
        },
        "id": "qr9Ht7ug5fxR",
        "outputId": "45357fc9-d204-4137-f1af-a86569d69b15"
      },
      "execution_count": null,
      "outputs": [
        {
          "output_type": "execute_result",
          "data": {
            "text/plain": [
              "      Unnamed   X1   X2   X3   X4   X5   X6   X7   X8   X9  ...  X170  X171  \\\n",
              "0  X21.V1.791  135  190  229  223  192  125   55   -9  -33  ...   -17   -15   \n",
              "1  X15.V1.924  386  382  356  331  320  315  307  272  244  ...   164   150   \n",
              "2     X8.V1.1  -32  -39  -47  -37  -32  -36  -57  -73  -85  ...    57    64   \n",
              "3   X16.V1.60 -105 -101  -96  -92  -89  -95 -102 -100  -87  ...   -82   -81   \n",
              "4   X20.V1.54   -9  -65  -98 -102  -78  -48  -16    0  -21  ...     4     2   \n",
              "\n",
              "   X172  X173  X174  X175  X176  X177  X178  y  \n",
              "0   -31   -77  -103  -127  -116   -83   -51  4  \n",
              "1   146   152   157   156   154   143   129  1  \n",
              "2    48    19   -12   -30   -35   -35   -36  5  \n",
              "3   -80   -77   -85   -77   -72   -69   -65  5  \n",
              "4   -12   -32   -41   -65   -83   -89   -73  5  \n",
              "\n",
              "[5 rows x 180 columns]"
            ],
            "text/html": [
              "\n",
              "  <div id=\"df-1044ec6d-de8f-40a5-9adf-0159e1cf9ec0\">\n",
              "    <div class=\"colab-df-container\">\n",
              "      <div>\n",
              "<style scoped>\n",
              "    .dataframe tbody tr th:only-of-type {\n",
              "        vertical-align: middle;\n",
              "    }\n",
              "\n",
              "    .dataframe tbody tr th {\n",
              "        vertical-align: top;\n",
              "    }\n",
              "\n",
              "    .dataframe thead th {\n",
              "        text-align: right;\n",
              "    }\n",
              "</style>\n",
              "<table border=\"1\" class=\"dataframe\">\n",
              "  <thead>\n",
              "    <tr style=\"text-align: right;\">\n",
              "      <th></th>\n",
              "      <th>Unnamed</th>\n",
              "      <th>X1</th>\n",
              "      <th>X2</th>\n",
              "      <th>X3</th>\n",
              "      <th>X4</th>\n",
              "      <th>X5</th>\n",
              "      <th>X6</th>\n",
              "      <th>X7</th>\n",
              "      <th>X8</th>\n",
              "      <th>X9</th>\n",
              "      <th>...</th>\n",
              "      <th>X170</th>\n",
              "      <th>X171</th>\n",
              "      <th>X172</th>\n",
              "      <th>X173</th>\n",
              "      <th>X174</th>\n",
              "      <th>X175</th>\n",
              "      <th>X176</th>\n",
              "      <th>X177</th>\n",
              "      <th>X178</th>\n",
              "      <th>y</th>\n",
              "    </tr>\n",
              "  </thead>\n",
              "  <tbody>\n",
              "    <tr>\n",
              "      <th>0</th>\n",
              "      <td>X21.V1.791</td>\n",
              "      <td>135</td>\n",
              "      <td>190</td>\n",
              "      <td>229</td>\n",
              "      <td>223</td>\n",
              "      <td>192</td>\n",
              "      <td>125</td>\n",
              "      <td>55</td>\n",
              "      <td>-9</td>\n",
              "      <td>-33</td>\n",
              "      <td>...</td>\n",
              "      <td>-17</td>\n",
              "      <td>-15</td>\n",
              "      <td>-31</td>\n",
              "      <td>-77</td>\n",
              "      <td>-103</td>\n",
              "      <td>-127</td>\n",
              "      <td>-116</td>\n",
              "      <td>-83</td>\n",
              "      <td>-51</td>\n",
              "      <td>4</td>\n",
              "    </tr>\n",
              "    <tr>\n",
              "      <th>1</th>\n",
              "      <td>X15.V1.924</td>\n",
              "      <td>386</td>\n",
              "      <td>382</td>\n",
              "      <td>356</td>\n",
              "      <td>331</td>\n",
              "      <td>320</td>\n",
              "      <td>315</td>\n",
              "      <td>307</td>\n",
              "      <td>272</td>\n",
              "      <td>244</td>\n",
              "      <td>...</td>\n",
              "      <td>164</td>\n",
              "      <td>150</td>\n",
              "      <td>146</td>\n",
              "      <td>152</td>\n",
              "      <td>157</td>\n",
              "      <td>156</td>\n",
              "      <td>154</td>\n",
              "      <td>143</td>\n",
              "      <td>129</td>\n",
              "      <td>1</td>\n",
              "    </tr>\n",
              "    <tr>\n",
              "      <th>2</th>\n",
              "      <td>X8.V1.1</td>\n",
              "      <td>-32</td>\n",
              "      <td>-39</td>\n",
              "      <td>-47</td>\n",
              "      <td>-37</td>\n",
              "      <td>-32</td>\n",
              "      <td>-36</td>\n",
              "      <td>-57</td>\n",
              "      <td>-73</td>\n",
              "      <td>-85</td>\n",
              "      <td>...</td>\n",
              "      <td>57</td>\n",
              "      <td>64</td>\n",
              "      <td>48</td>\n",
              "      <td>19</td>\n",
              "      <td>-12</td>\n",
              "      <td>-30</td>\n",
              "      <td>-35</td>\n",
              "      <td>-35</td>\n",
              "      <td>-36</td>\n",
              "      <td>5</td>\n",
              "    </tr>\n",
              "    <tr>\n",
              "      <th>3</th>\n",
              "      <td>X16.V1.60</td>\n",
              "      <td>-105</td>\n",
              "      <td>-101</td>\n",
              "      <td>-96</td>\n",
              "      <td>-92</td>\n",
              "      <td>-89</td>\n",
              "      <td>-95</td>\n",
              "      <td>-102</td>\n",
              "      <td>-100</td>\n",
              "      <td>-87</td>\n",
              "      <td>...</td>\n",
              "      <td>-82</td>\n",
              "      <td>-81</td>\n",
              "      <td>-80</td>\n",
              "      <td>-77</td>\n",
              "      <td>-85</td>\n",
              "      <td>-77</td>\n",
              "      <td>-72</td>\n",
              "      <td>-69</td>\n",
              "      <td>-65</td>\n",
              "      <td>5</td>\n",
              "    </tr>\n",
              "    <tr>\n",
              "      <th>4</th>\n",
              "      <td>X20.V1.54</td>\n",
              "      <td>-9</td>\n",
              "      <td>-65</td>\n",
              "      <td>-98</td>\n",
              "      <td>-102</td>\n",
              "      <td>-78</td>\n",
              "      <td>-48</td>\n",
              "      <td>-16</td>\n",
              "      <td>0</td>\n",
              "      <td>-21</td>\n",
              "      <td>...</td>\n",
              "      <td>4</td>\n",
              "      <td>2</td>\n",
              "      <td>-12</td>\n",
              "      <td>-32</td>\n",
              "      <td>-41</td>\n",
              "      <td>-65</td>\n",
              "      <td>-83</td>\n",
              "      <td>-89</td>\n",
              "      <td>-73</td>\n",
              "      <td>5</td>\n",
              "    </tr>\n",
              "  </tbody>\n",
              "</table>\n",
              "<p>5 rows × 180 columns</p>\n",
              "</div>\n",
              "      <button class=\"colab-df-convert\" onclick=\"convertToInteractive('df-1044ec6d-de8f-40a5-9adf-0159e1cf9ec0')\"\n",
              "              title=\"Convert this dataframe to an interactive table.\"\n",
              "              style=\"display:none;\">\n",
              "        \n",
              "  <svg xmlns=\"http://www.w3.org/2000/svg\" height=\"24px\"viewBox=\"0 0 24 24\"\n",
              "       width=\"24px\">\n",
              "    <path d=\"M0 0h24v24H0V0z\" fill=\"none\"/>\n",
              "    <path d=\"M18.56 5.44l.94 2.06.94-2.06 2.06-.94-2.06-.94-.94-2.06-.94 2.06-2.06.94zm-11 1L8.5 8.5l.94-2.06 2.06-.94-2.06-.94L8.5 2.5l-.94 2.06-2.06.94zm10 10l.94 2.06.94-2.06 2.06-.94-2.06-.94-.94-2.06-.94 2.06-2.06.94z\"/><path d=\"M17.41 7.96l-1.37-1.37c-.4-.4-.92-.59-1.43-.59-.52 0-1.04.2-1.43.59L10.3 9.45l-7.72 7.72c-.78.78-.78 2.05 0 2.83L4 21.41c.39.39.9.59 1.41.59.51 0 1.02-.2 1.41-.59l7.78-7.78 2.81-2.81c.8-.78.8-2.07 0-2.86zM5.41 20L4 18.59l7.72-7.72 1.47 1.35L5.41 20z\"/>\n",
              "  </svg>\n",
              "      </button>\n",
              "      \n",
              "  <style>\n",
              "    .colab-df-container {\n",
              "      display:flex;\n",
              "      flex-wrap:wrap;\n",
              "      gap: 12px;\n",
              "    }\n",
              "\n",
              "    .colab-df-convert {\n",
              "      background-color: #E8F0FE;\n",
              "      border: none;\n",
              "      border-radius: 50%;\n",
              "      cursor: pointer;\n",
              "      display: none;\n",
              "      fill: #1967D2;\n",
              "      height: 32px;\n",
              "      padding: 0 0 0 0;\n",
              "      width: 32px;\n",
              "    }\n",
              "\n",
              "    .colab-df-convert:hover {\n",
              "      background-color: #E2EBFA;\n",
              "      box-shadow: 0px 1px 2px rgba(60, 64, 67, 0.3), 0px 1px 3px 1px rgba(60, 64, 67, 0.15);\n",
              "      fill: #174EA6;\n",
              "    }\n",
              "\n",
              "    [theme=dark] .colab-df-convert {\n",
              "      background-color: #3B4455;\n",
              "      fill: #D2E3FC;\n",
              "    }\n",
              "\n",
              "    [theme=dark] .colab-df-convert:hover {\n",
              "      background-color: #434B5C;\n",
              "      box-shadow: 0px 1px 3px 1px rgba(0, 0, 0, 0.15);\n",
              "      filter: drop-shadow(0px 1px 2px rgba(0, 0, 0, 0.3));\n",
              "      fill: #FFFFFF;\n",
              "    }\n",
              "  </style>\n",
              "\n",
              "      <script>\n",
              "        const buttonEl =\n",
              "          document.querySelector('#df-1044ec6d-de8f-40a5-9adf-0159e1cf9ec0 button.colab-df-convert');\n",
              "        buttonEl.style.display =\n",
              "          google.colab.kernel.accessAllowed ? 'block' : 'none';\n",
              "\n",
              "        async function convertToInteractive(key) {\n",
              "          const element = document.querySelector('#df-1044ec6d-de8f-40a5-9adf-0159e1cf9ec0');\n",
              "          const dataTable =\n",
              "            await google.colab.kernel.invokeFunction('convertToInteractive',\n",
              "                                                     [key], {});\n",
              "          if (!dataTable) return;\n",
              "\n",
              "          const docLinkHtml = 'Like what you see? Visit the ' +\n",
              "            '<a target=\"_blank\" href=https://colab.research.google.com/notebooks/data_table.ipynb>data table notebook</a>'\n",
              "            + ' to learn more about interactive tables.';\n",
              "          element.innerHTML = '';\n",
              "          dataTable['output_type'] = 'display_data';\n",
              "          await google.colab.output.renderOutput(dataTable, element);\n",
              "          const docLink = document.createElement('div');\n",
              "          docLink.innerHTML = docLinkHtml;\n",
              "          element.appendChild(docLink);\n",
              "        }\n",
              "      </script>\n",
              "    </div>\n",
              "  </div>\n",
              "  "
            ]
          },
          "metadata": {},
          "execution_count": 3
        }
      ]
    },
    {
      "cell_type": "code",
      "source": [
        "EEG_data_set['X1'].values[0]"
      ],
      "metadata": {
        "colab": {
          "base_uri": "https://localhost:8080/"
        },
        "id": "yHHQc_IbTEzW",
        "outputId": "b2984168-e6d0-4ea6-cb4c-6f778e0cce27"
      },
      "execution_count": null,
      "outputs": [
        {
          "output_type": "execute_result",
          "data": {
            "text/plain": [
              "135"
            ]
          },
          "metadata": {},
          "execution_count": 4
        }
      ]
    },
    {
      "cell_type": "code",
      "source": [
        "import matplotlib.pyplot as plt\n",
        "def hist(EEG_data_set,plt):\n",
        "  plt.hist(EEG_data_set[EEG_data_set[\"y\"]==1][\"y\"],label=\"epileptic seizure activity\")\n",
        "  plt.hist(EEG_data_set[EEG_data_set[\"y\"]!=1][\"y\"],label=\"not a seizure\")\n",
        "  plt.legend(loc='lower right')\n",
        "  plt.show()\n",
        "\n",
        "hist(EEG_data_set,plt)"
      ],
      "metadata": {
        "colab": {
          "base_uri": "https://localhost:8080/",
          "height": 268
        },
        "id": "yuP1VI4u5iVo",
        "outputId": "41e9c5d4-8f13-43a0-8689-4a8d326df773"
      },
      "execution_count": null,
      "outputs": [
        {
          "output_type": "display_data",
          "data": {
            "text/plain": [
              "<Figure size 432x288 with 1 Axes>"
            ],
            "image/png": "[encoded data removed]"
          },
          "metadata": {}
        }
      ]
    },
    {
      "cell_type": "code",
      "source": [
        "cols = EEG_data_set.columns\n",
        "tgt = EEG_data_set.y\n",
        "tgt[tgt>1]=0\n",
        "ax = sn.countplot(tgt,label=\"Count\", palette=['green', 'red'], )\n",
        "non_seizure, seizure = tgt.value_counts()\n",
        "print('The number of trials for the non-seizure class is:', non_seizure)\n",
        "print('The number of trials for the seizure class is:', seizure)\n"
      ],
      "metadata": {
        "colab": {
          "base_uri": "https://localhost:8080/",
          "height": 545
        },
        "id": "RNpf-ilrDPMA",
        "outputId": "44276ada-1ebb-4f72-ed17-539078000c62"
      },
      "execution_count": null,
      "outputs": [
        {
          "output_type": "stream",
          "name": "stdout",
          "text": [
            "The number of trials for the non-seizure class is: 9200\n",
            "The number of trials for the seizure class is: 2300\n"
          ]
        },
        {
          "output_type": "stream",
          "name": "stderr",
          "text": [
            "/usr/local/lib/python3.7/dist-packages/ipykernel_launcher.py:3: SettingWithCopyWarning: \n",
            "A value is trying to be set on a copy of a slice from a DataFrame\n",
            "\n",
            "See the caveats in the documentation: https://pandas.pydata.org/pandas-docs/stable/user_guide/indexing.html#returning-a-view-versus-a-copy\n",
            "  This is separate from the ipykernel package so we can avoid doing imports until\n",
            "/usr/local/lib/python3.7/dist-packages/seaborn/_decorators.py:43: FutureWarning: Pass the following variable as a keyword arg: x. From version 0.12, the only valid positional argument will be `data`, and passing other arguments without an explicit keyword will result in an error or misinterpretation.\n",
            "  FutureWarning\n"
          ]
        },
        {
          "output_type": "display_data",
          "data": {
            "text/plain": [
              "<Figure size 576x396 with 1 Axes>"
            ],
            "image/png": "[encoded data removed]"
          },
          "metadata": {}
        }
      ]
    },
    {
      "cell_type": "markdown",
      "source": [
        "# Хворі не хворі"
      ],
      "metadata": {
        "id": "AM3dt1JPOmiu"
      }
    },
    {
      "cell_type": "code",
      "source": [
        "seizure = EEG_data_set.loc[[1],:]\n",
        "seizure = seizure.drop('y',1)\n",
        "seizure = seizure.drop('Unnamed',1)\n",
        "print(seizure.values[0])"
      ],
      "metadata": {
        "colab": {
          "base_uri": "https://localhost:8080/"
        },
        "id": "L0sOktYwO1BH",
        "outputId": "3ca4cd35-1bfb-4c63-d3d4-be4ba68ab0fe"
      },
      "execution_count": null,
      "outputs": [
        {
          "output_type": "stream",
          "name": "stdout",
          "text": [
            "[  386   382   356   331   320   315   307   272   244   232   237   258\n",
            "   212     2  -267  -605  -850 -1001 -1109 -1090  -967  -746  -464  -152\n",
            "   118   318   427   473   485   447   397   339   312   314   326   335\n",
            "   332   324   310   312   309   309   303   297   295   295   293   286\n",
            "   279   283   301   308   285   252   215   194   169   111   -74  -388\n",
            "  -679  -892  -949  -972 -1001 -1006  -949  -847  -668  -432  -153    72\n",
            "   226   326   392   461   495   513   511   496   479   453   440   427\n",
            "   414   399   385   385   404   432   444   437   418   392   373   363\n",
            "   365   372   385   388   383   371   360   353   334   303   252   200\n",
            "   153   151   143    48  -206  -548  -859 -1067 -1069  -957  -780  -597\n",
            "  -460  -357  -276  -224  -210  -350  -930 -1413 -1716 -1360  -662   -96\n",
            "   243   323   241    29  -167  -228  -136    27   146   229   269   297\n",
            "   307   303   305   306   307   280   231   159    85    51    43    62\n",
            "    63    63    69    89   123   136   127   102    95   105   131   163\n",
            "   168   164   150   146   152   157   156   154   143   129]\n"
          ]
        },
        {
          "output_type": "stream",
          "name": "stderr",
          "text": [
            "/usr/local/lib/python3.7/dist-packages/ipykernel_launcher.py:2: FutureWarning: In a future version of pandas all arguments of DataFrame.drop except for the argument 'labels' will be keyword-only\n",
            "  \n",
            "/usr/local/lib/python3.7/dist-packages/ipykernel_launcher.py:3: FutureWarning: In a future version of pandas all arguments of DataFrame.drop except for the argument 'labels' will be keyword-only\n",
            "  This is separate from the ipykernel package so we can avoid doing imports until\n"
          ]
        }
      ]
    },
    {
      "cell_type": "code",
      "source": [
        "no_seizure = data = EEG_data_set[EEG_data_set['y']==1]          \n",
        "result2 = data['y'].values[0]      # gets value in relevant column\n",
        "no_seizure = EEG_data_set.loc[[0],:]\n",
        "no_seizure = no_seizure.drop('y',1)\n",
        "no_seizure = no_seizure.drop('Unnamed',1)\n",
        "print(no_seizure.values[0])"
      ],
      "metadata": {
        "colab": {
          "base_uri": "https://localhost:8080/"
        },
        "id": "TXKUgNAWmLc1",
        "outputId": "a9afc6e7-6e1e-441b-b17b-2cba1b3ad9da"
      },
      "execution_count": null,
      "outputs": [
        {
          "output_type": "stream",
          "name": "stdout",
          "text": [
            "[ 135  190  229  223  192  125   55   -9  -33  -38  -10   35   64  113\n",
            "  152  164  127   50  -47 -121 -138 -125 -101  -50   11   39   24   48\n",
            "   64   46   13  -19  -61  -96 -130 -132 -116 -115  -71  -14   25   19\n",
            "    6    9   21   13  -37  -58  -33    5   47   80  101   88   73   69\n",
            "   41  -13  -31  -61  -80  -77  -66  -43    5   87  129  121   88   12\n",
            "  -76 -150 -207 -186 -165 -148 -103  -33   40   94   75    8  -81 -155\n",
            " -227 -262 -233 -218 -187 -126  -65  -12   27   61   49    9  -46 -124\n",
            " -210 -281 -265 -181  -89   -4   53   53   38   43   31   34    9   -7\n",
            "  -34  -70  -84 -101  -70  -11   42   62   66   74   64   59   56   36\n",
            "  -11  -30  -43  -23    8   42   77  103  135  121   79   59   43   54\n",
            "   90  111  107   64   32   18  -25  -69  -65  -44  -33  -57  -88 -114\n",
            " -130 -114  -83  -53  -79  -72  -85 -109  -98  -72  -65  -63  -11   10\n",
            "    8  -17  -15  -31  -77 -103 -127 -116  -83  -51]\n"
          ]
        },
        {
          "output_type": "stream",
          "name": "stderr",
          "text": [
            "/usr/local/lib/python3.7/dist-packages/ipykernel_launcher.py:4: FutureWarning: In a future version of pandas all arguments of DataFrame.drop except for the argument 'labels' will be keyword-only\n",
            "  after removing the cwd from sys.path.\n",
            "/usr/local/lib/python3.7/dist-packages/ipykernel_launcher.py:5: FutureWarning: In a future version of pandas all arguments of DataFrame.drop except for the argument 'labels' will be keyword-only\n",
            "  \"\"\"\n"
          ]
        }
      ]
    },
    {
      "cell_type": "code",
      "source": [
        "plt.figure(figsize=(16,8))\n",
        "plt.subplot(2,1,1)\n",
        "plt.title('Non-Seizure')\n",
        "plt.plot(no_seizure.values[0], label = 'Non-Seizure', color='green')\n",
        "plt.subplot(2,1,2)\n",
        "plt.title('Seizure')\n",
        "plt.plot(seizure.values[0], label= 'Seizure', color='red')\n",
        "plt.show()"
      ],
      "metadata": {
        "colab": {
          "base_uri": "https://localhost:8080/",
          "height": 498
        },
        "id": "O0L-cxnkOqbG",
        "outputId": "22412cce-90c7-472d-b8d2-37f416e519cd"
      },
      "execution_count": null,
      "outputs": [
        {
          "output_type": "display_data",
          "data": {
            "text/plain": [
              "<Figure size 1152x576 with 2 Axes>"
            ],
            "image/png": "[encoded data removed]"
          },
          "metadata": {}
        }
      ]
    },
    {
      "cell_type": "markdown",
      "source": [
        "# Дані для пяти класів"
      ],
      "metadata": {
        "id": "Bwr47v8TmtzG"
      }
    },
    {
      "cell_type": "code",
      "source": [
        "#Seizure_data\n",
        "seizure = data = EEG_data_set[EEG_data_set['y']==1]          \n",
        "seizure = seizure.drop('y',1)\n",
        "seizure = seizure.drop('Unnamed',1)\n",
        "print(no_seizure.values[0])"
      ],
      "metadata": {
        "colab": {
          "base_uri": "https://localhost:8080/"
        },
        "id": "e9i2NXMzmnXi",
        "outputId": "594447f1-5c40-4519-d6b9-87389d0f8788"
      },
      "execution_count": null,
      "outputs": [
        {
          "output_type": "stream",
          "name": "stdout",
          "text": [
            "[ 135  190  229  223  192  125   55   -9  -33  -38  -10   35   64  113\n",
            "  152  164  127   50  -47 -121 -138 -125 -101  -50   11   39   24   48\n",
            "   64   46   13  -19  -61  -96 -130 -132 -116 -115  -71  -14   25   19\n",
            "    6    9   21   13  -37  -58  -33    5   47   80  101   88   73   69\n",
            "   41  -13  -31  -61  -80  -77  -66  -43    5   87  129  121   88   12\n",
            "  -76 -150 -207 -186 -165 -148 -103  -33   40   94   75    8  -81 -155\n",
            " -227 -262 -233 -218 -187 -126  -65  -12   27   61   49    9  -46 -124\n",
            " -210 -281 -265 -181  -89   -4   53   53   38   43   31   34    9   -7\n",
            "  -34  -70  -84 -101  -70  -11   42   62   66   74   64   59   56   36\n",
            "  -11  -30  -43  -23    8   42   77  103  135  121   79   59   43   54\n",
            "   90  111  107   64   32   18  -25  -69  -65  -44  -33  -57  -88 -114\n",
            " -130 -114  -83  -53  -79  -72  -85 -109  -98  -72  -65  -63  -11   10\n",
            "    8  -17  -15  -31  -77 -103 -127 -116  -83  -51]\n"
          ]
        },
        {
          "output_type": "stream",
          "name": "stderr",
          "text": [
            "/usr/local/lib/python3.7/dist-packages/ipykernel_launcher.py:3: FutureWarning: In a future version of pandas all arguments of DataFrame.drop except for the argument 'labels' will be keyword-only\n",
            "  This is separate from the ipykernel package so we can avoid doing imports until\n",
            "/usr/local/lib/python3.7/dist-packages/ipykernel_launcher.py:4: FutureWarning: In a future version of pandas all arguments of DataFrame.drop except for the argument 'labels' will be keyword-only\n",
            "  after removing the cwd from sys.path.\n"
          ]
        }
      ]
    },
    {
      "cell_type": "code",
      "source": [
        "EEG_data_set.head()"
      ],
      "metadata": {
        "colab": {
          "base_uri": "https://localhost:8080/",
          "height": 236
        },
        "id": "7drbDYEj6GL5",
        "outputId": "412657fd-bfce-4bb0-f912-4a5ff33970ca"
      },
      "execution_count": null,
      "outputs": [
        {
          "output_type": "execute_result",
          "data": {
            "text/plain": [
              "      Unnamed   X1   X2   X3   X4   X5   X6   X7   X8   X9  ...  X170  X171  \\\n",
              "0  X21.V1.791  135  190  229  223  192  125   55   -9  -33  ...   -17   -15   \n",
              "1  X15.V1.924  386  382  356  331  320  315  307  272  244  ...   164   150   \n",
              "2     X8.V1.1  -32  -39  -47  -37  -32  -36  -57  -73  -85  ...    57    64   \n",
              "3   X16.V1.60 -105 -101  -96  -92  -89  -95 -102 -100  -87  ...   -82   -81   \n",
              "4   X20.V1.54   -9  -65  -98 -102  -78  -48  -16    0  -21  ...     4     2   \n",
              "\n",
              "   X172  X173  X174  X175  X176  X177  X178  y  \n",
              "0   -31   -77  -103  -127  -116   -83   -51  0  \n",
              "1   146   152   157   156   154   143   129  1  \n",
              "2    48    19   -12   -30   -35   -35   -36  0  \n",
              "3   -80   -77   -85   -77   -72   -69   -65  0  \n",
              "4   -12   -32   -41   -65   -83   -89   -73  0  \n",
              "\n",
              "[5 rows x 180 columns]"
            ],
            "text/html": [
              "\n",
              "  <div id=\"df-dd75130c-aa44-42a9-b093-74ba5e7a65a7\">\n",
              "    <div class=\"colab-df-container\">\n",
              "      <div>\n",
              "<style scoped>\n",
              "    .dataframe tbody tr th:only-of-type {\n",
              "        vertical-align: middle;\n",
              "    }\n",
              "\n",
              "    .dataframe tbody tr th {\n",
              "        vertical-align: top;\n",
              "    }\n",
              "\n",
              "    .dataframe thead th {\n",
              "        text-align: right;\n",
              "    }\n",
              "</style>\n",
              "<table border=\"1\" class=\"dataframe\">\n",
              "  <thead>\n",
              "    <tr style=\"text-align: right;\">\n",
              "      <th></th>\n",
              "      <th>Unnamed</th>\n",
              "      <th>X1</th>\n",
              "      <th>X2</th>\n",
              "      <th>X3</th>\n",
              "      <th>X4</th>\n",
              "      <th>X5</th>\n",
              "      <th>X6</th>\n",
              "      <th>X7</th>\n",
              "      <th>X8</th>\n",
              "      <th>X9</th>\n",
              "      <th>...</th>\n",
              "      <th>X170</th>\n",
              "      <th>X171</th>\n",
              "      <th>X172</th>\n",
              "      <th>X173</th>\n",
              "      <th>X174</th>\n",
              "      <th>X175</th>\n",
              "      <th>X176</th>\n",
              "      <th>X177</th>\n",
              "      <th>X178</th>\n",
              "      <th>y</th>\n",
              "    </tr>\n",
              "  </thead>\n",
              "  <tbody>\n",
              "    <tr>\n",
              "      <th>0</th>\n",
              "      <td>X21.V1.791</td>\n",
              "      <td>135</td>\n",
              "      <td>190</td>\n",
              "      <td>229</td>\n",
              "      <td>223</td>\n",
              "      <td>192</td>\n",
              "      <td>125</td>\n",
              "      <td>55</td>\n",
              "      <td>-9</td>\n",
              "      <td>-33</td>\n",
              "      <td>...</td>\n",
              "      <td>-17</td>\n",
              "      <td>-15</td>\n",
              "      <td>-31</td>\n",
              "      <td>-77</td>\n",
              "      <td>-103</td>\n",
              "      <td>-127</td>\n",
              "      <td>-116</td>\n",
              "      <td>-83</td>\n",
              "      <td>-51</td>\n",
              "      <td>0</td>\n",
              "    </tr>\n",
              "    <tr>\n",
              "      <th>1</th>\n",
              "      <td>X15.V1.924</td>\n",
              "      <td>386</td>\n",
              "      <td>382</td>\n",
              "      <td>356</td>\n",
              "      <td>331</td>\n",
              "      <td>320</td>\n",
              "      <td>315</td>\n",
              "      <td>307</td>\n",
              "      <td>272</td>\n",
              "      <td>244</td>\n",
              "      <td>...</td>\n",
              "      <td>164</td>\n",
              "      <td>150</td>\n",
              "      <td>146</td>\n",
              "      <td>152</td>\n",
              "      <td>157</td>\n",
              "      <td>156</td>\n",
              "      <td>154</td>\n",
              "      <td>143</td>\n",
              "      <td>129</td>\n",
              "      <td>1</td>\n",
              "    </tr>\n",
              "    <tr>\n",
              "      <th>2</th>\n",
              "      <td>X8.V1.1</td>\n",
              "      <td>-32</td>\n",
              "      <td>-39</td>\n",
              "      <td>-47</td>\n",
              "      <td>-37</td>\n",
              "      <td>-32</td>\n",
              "      <td>-36</td>\n",
              "      <td>-57</td>\n",
              "      <td>-73</td>\n",
              "      <td>-85</td>\n",
              "      <td>...</td>\n",
              "      <td>57</td>\n",
              "      <td>64</td>\n",
              "      <td>48</td>\n",
              "      <td>19</td>\n",
              "      <td>-12</td>\n",
              "      <td>-30</td>\n",
              "      <td>-35</td>\n",
              "      <td>-35</td>\n",
              "      <td>-36</td>\n",
              "      <td>0</td>\n",
              "    </tr>\n",
              "    <tr>\n",
              "      <th>3</th>\n",
              "      <td>X16.V1.60</td>\n",
              "      <td>-105</td>\n",
              "      <td>-101</td>\n",
              "      <td>-96</td>\n",
              "      <td>-92</td>\n",
              "      <td>-89</td>\n",
              "      <td>-95</td>\n",
              "      <td>-102</td>\n",
              "      <td>-100</td>\n",
              "      <td>-87</td>\n",
              "      <td>...</td>\n",
              "      <td>-82</td>\n",
              "      <td>-81</td>\n",
              "      <td>-80</td>\n",
              "      <td>-77</td>\n",
              "      <td>-85</td>\n",
              "      <td>-77</td>\n",
              "      <td>-72</td>\n",
              "      <td>-69</td>\n",
              "      <td>-65</td>\n",
              "      <td>0</td>\n",
              "    </tr>\n",
              "    <tr>\n",
              "      <th>4</th>\n",
              "      <td>X20.V1.54</td>\n",
              "      <td>-9</td>\n",
              "      <td>-65</td>\n",
              "      <td>-98</td>\n",
              "      <td>-102</td>\n",
              "      <td>-78</td>\n",
              "      <td>-48</td>\n",
              "      <td>-16</td>\n",
              "      <td>0</td>\n",
              "      <td>-21</td>\n",
              "      <td>...</td>\n",
              "      <td>4</td>\n",
              "      <td>2</td>\n",
              "      <td>-12</td>\n",
              "      <td>-32</td>\n",
              "      <td>-41</td>\n",
              "      <td>-65</td>\n",
              "      <td>-83</td>\n",
              "      <td>-89</td>\n",
              "      <td>-73</td>\n",
              "      <td>0</td>\n",
              "    </tr>\n",
              "  </tbody>\n",
              "</table>\n",
              "<p>5 rows × 180 columns</p>\n",
              "</div>\n",
              "      <button class=\"colab-df-convert\" onclick=\"convertToInteractive('df-dd75130c-aa44-42a9-b093-74ba5e7a65a7')\"\n",
              "              title=\"Convert this dataframe to an interactive table.\"\n",
              "              style=\"display:none;\">\n",
              "        \n",
              "  <svg xmlns=\"http://www.w3.org/2000/svg\" height=\"24px\"viewBox=\"0 0 24 24\"\n",
              "       width=\"24px\">\n",
              "    <path d=\"M0 0h24v24H0V0z\" fill=\"none\"/>\n",
              "    <path d=\"M18.56 5.44l.94 2.06.94-2.06 2.06-.94-2.06-.94-.94-2.06-.94 2.06-2.06.94zm-11 1L8.5 8.5l.94-2.06 2.06-.94-2.06-.94L8.5 2.5l-.94 2.06-2.06.94zm10 10l.94 2.06.94-2.06 2.06-.94-2.06-.94-.94-2.06-.94 2.06-2.06.94z\"/><path d=\"M17.41 7.96l-1.37-1.37c-.4-.4-.92-.59-1.43-.59-.52 0-1.04.2-1.43.59L10.3 9.45l-7.72 7.72c-.78.78-.78 2.05 0 2.83L4 21.41c.39.39.9.59 1.41.59.51 0 1.02-.2 1.41-.59l7.78-7.78 2.81-2.81c.8-.78.8-2.07 0-2.86zM5.41 20L4 18.59l7.72-7.72 1.47 1.35L5.41 20z\"/>\n",
              "  </svg>\n",
              "      </button>\n",
              "      \n",
              "  <style>\n",
              "    .colab-df-container {\n",
              "      display:flex;\n",
              "      flex-wrap:wrap;\n",
              "      gap: 12px;\n",
              "    }\n",
              "\n",
              "    .colab-df-convert {\n",
              "      background-color: #E8F0FE;\n",
              "      border: none;\n",
              "      border-radius: 50%;\n",
              "      cursor: pointer;\n",
              "      display: none;\n",
              "      fill: #1967D2;\n",
              "      height: 32px;\n",
              "      padding: 0 0 0 0;\n",
              "      width: 32px;\n",
              "    }\n",
              "\n",
              "    .colab-df-convert:hover {\n",
              "      background-color: #E2EBFA;\n",
              "      box-shadow: 0px 1px 2px rgba(60, 64, 67, 0.3), 0px 1px 3px 1px rgba(60, 64, 67, 0.15);\n",
              "      fill: #174EA6;\n",
              "    }\n",
              "\n",
              "    [theme=dark] .colab-df-convert {\n",
              "      background-color: #3B4455;\n",
              "      fill: #D2E3FC;\n",
              "    }\n",
              "\n",
              "    [theme=dark] .colab-df-convert:hover {\n",
              "      background-color: #434B5C;\n",
              "      box-shadow: 0px 1px 3px 1px rgba(0, 0, 0, 0.15);\n",
              "      filter: drop-shadow(0px 1px 2px rgba(0, 0, 0, 0.3));\n",
              "      fill: #FFFFFF;\n",
              "    }\n",
              "  </style>\n",
              "\n",
              "      <script>\n",
              "        const buttonEl =\n",
              "          document.querySelector('#df-dd75130c-aa44-42a9-b093-74ba5e7a65a7 button.colab-df-convert');\n",
              "        buttonEl.style.display =\n",
              "          google.colab.kernel.accessAllowed ? 'block' : 'none';\n",
              "\n",
              "        async function convertToInteractive(key) {\n",
              "          const element = document.querySelector('#df-dd75130c-aa44-42a9-b093-74ba5e7a65a7');\n",
              "          const dataTable =\n",
              "            await google.colab.kernel.invokeFunction('convertToInteractive',\n",
              "                                                     [key], {});\n",
              "          if (!dataTable) return;\n",
              "\n",
              "          const docLinkHtml = 'Like what you see? Visit the ' +\n",
              "            '<a target=\"_blank\" href=https://colab.research.google.com/notebooks/data_table.ipynb>data table notebook</a>'\n",
              "            + ' to learn more about interactive tables.';\n",
              "          element.innerHTML = '';\n",
              "          dataTable['output_type'] = 'display_data';\n",
              "          await google.colab.output.renderOutput(dataTable, element);\n",
              "          const docLink = document.createElement('div');\n",
              "          docLink.innerHTML = docLinkHtml;\n",
              "          element.appendChild(docLink);\n",
              "        }\n",
              "      </script>\n",
              "    </div>\n",
              "  </div>\n",
              "  "
            ]
          },
          "metadata": {},
          "execution_count": 12
        }
      ]
    },
    {
      "cell_type": "code",
      "source": [
        "#They recorder the EEG from the area where the tumor was located\n",
        "EEG_data_2 = EEG_data_set[EEG_data_set['y']==2]          \n",
        "EEG_data_2 = EEG_data_2.drop('y',1)\n",
        "EEG_data_2 = EEG_data_2.drop('Unnamed',1)\n",
        "print(EEG_data_2.values[0])"
      ],
      "metadata": {
        "colab": {
          "base_uri": "https://localhost:8080/"
        },
        "id": "HBAgyGTK5RBe",
        "outputId": "7e68b542-f0d4-45d2-bb0c-99c7f141ed28"
      },
      "execution_count": null,
      "outputs": [
        {
          "output_type": "stream",
          "name": "stdout",
          "text": [
            "[   1   -2   -8  -11  -12  -17  -15  -16  -18  -17  -19  -18  -16  -15\n",
            "  -14  -21  -19  -24  -24  -24  -17  -20  -23  -15  -17  -20  -18  -19\n",
            "  -20  -19  -18  -20  -25  -27  -24  -22  -20   -9    0   12   18   25\n",
            "   23   20   17   12    6   -1   -5  -10  -13  -13  -17  -20  -20  -19\n",
            "  -20  -21  -22  -24  -27  -29  -31  -36  -45  -49  -60  -71  -83  -89\n",
            "  -97 -103 -105 -103 -104  -97  -99  -99 -101  -96  -91  -78  -64  -48\n",
            "  -36  -23  -15  -14  -17  -18  -15  -14  -13  -12  -17  -21  -22  -23\n",
            "  -14  -12   -9  -12  -18  -16  -19  -23  -21  -18  -17  -15  -10   -7\n",
            "   -9   -7   -2    0   11   18   26   30   30   39   38   28   14    4\n",
            "   -8   -9   -9   -8   -3    3    1   -4  -12  -15  -20  -25  -23  -20\n",
            "  -26  -24  -25  -35  -41  -41  -53  -61  -58  -59  -55  -53  -65  -78\n",
            "  -87  -97 -100 -106 -104 -107 -110 -110 -109 -104 -118 -111 -102  -80\n",
            "  -67  -79  -91  -97  -88  -76  -72  -66  -57  -39]\n"
          ]
        },
        {
          "output_type": "stream",
          "name": "stderr",
          "text": [
            "/usr/local/lib/python3.7/dist-packages/ipykernel_launcher.py:3: FutureWarning: In a future version of pandas all arguments of DataFrame.drop except for the argument 'labels' will be keyword-only\n",
            "  This is separate from the ipykernel package so we can avoid doing imports until\n",
            "/usr/local/lib/python3.7/dist-packages/ipykernel_launcher.py:4: FutureWarning: In a future version of pandas all arguments of DataFrame.drop except for the argument 'labels' will be keyword-only\n",
            "  after removing the cwd from sys.path.\n"
          ]
        }
      ]
    },
    {
      "cell_type": "code",
      "source": [
        "#Yes they identify where the region of the tumor was in the brain and recording the EEG activity from the healthy brain area\n",
        "EEG_data_3 = EEG_data_set[EEG_data_set['y']==3]          \n",
        "EEG_data_3 = EEG_data_3.drop('y',1)\n",
        "EEG_data_3 = EEG_data_3.drop('Unnamed',1)\n",
        "print(EEG_data_3.values[0])"
      ],
      "metadata": {
        "colab": {
          "base_uri": "https://localhost:8080/"
        },
        "id": "eMWSPL_h5qnB",
        "outputId": "07871175-cf78-4445-b14f-ae9cc72f64d7"
      },
      "execution_count": null,
      "outputs": [
        {
          "output_type": "stream",
          "name": "stdout",
          "text": [
            "[  92   49    0  -32  -51  -65  -37  -19  -25  -29  -52  -62  -85 -107\n",
            "  -97  -69  -46  -37  -48  -59  -58  -61  -83 -127 -147 -165 -175 -183\n",
            " -218 -259 -298 -275 -243 -214 -239 -258 -283 -285 -271 -262 -250 -237\n",
            " -211 -193 -189 -183 -174 -170 -164 -182 -165 -153 -116  -87  -68  -48\n",
            "  -44  -71  -95 -103  -94  -79  -62  -59  -59  -52  -58  -49  -70  -59\n",
            "  -53  -55  -54  -63  -43  -24    6   28   48   74   98   92  103   89\n",
            "   97   62   19  -11  -46  -59  -43  -37  -30  -22  -26  -42  -53  -71\n",
            "  -40  -13   28   23   22   12   -5  -25  -78  -85 -104 -106  -85  -96\n",
            "  -62  -72  -71  -57  -37  -34  -23  -31  -25  -14   14   18   18   11\n",
            "   -9  -34  -46  -73  -65  -82  -66  -59  -75  -67  -77  -92  -73  -40\n",
            "  -19  -14   -8    2   39   40   31   20   22   32   25    5  -17   -3\n",
            "    5   24   22   13    3  -11  -23  -39  -43  -32  -18  -30  -51  -72\n",
            "  -80  -56  -41  -40  -43  -32  -13   -1   -7  -44]\n"
          ]
        },
        {
          "output_type": "stream",
          "name": "stderr",
          "text": [
            "/usr/local/lib/python3.7/dist-packages/ipykernel_launcher.py:3: FutureWarning: In a future version of pandas all arguments of DataFrame.drop except for the argument 'labels' will be keyword-only\n",
            "  This is separate from the ipykernel package so we can avoid doing imports until\n",
            "/usr/local/lib/python3.7/dist-packages/ipykernel_launcher.py:4: FutureWarning: In a future version of pandas all arguments of DataFrame.drop except for the argument 'labels' will be keyword-only\n",
            "  after removing the cwd from sys.path.\n"
          ]
        }
      ]
    },
    {
      "cell_type": "code",
      "source": [
        "#eyes closed, means when they were recording the EEG signal the patient had their eyes closed\n",
        "EEG_data_4 = EEG_data_set[EEG_data_set['y']==4]          \n",
        "EEG_data_4 = EEG_data_4.drop('y',1)\n",
        "EEG_data_4 = EEG_data_4.drop('Unnamed',1)\n",
        "print(EEG_data_4.values[0])"
      ],
      "metadata": {
        "colab": {
          "base_uri": "https://localhost:8080/"
        },
        "id": "OJtf6msB5zIm",
        "outputId": "9b254e9b-4e3c-4d7f-9626-f7278988901b"
      },
      "execution_count": null,
      "outputs": [
        {
          "output_type": "stream",
          "name": "stdout",
          "text": [
            "[ 135  190  229  223  192  125   55   -9  -33  -38  -10   35   64  113\n",
            "  152  164  127   50  -47 -121 -138 -125 -101  -50   11   39   24   48\n",
            "   64   46   13  -19  -61  -96 -130 -132 -116 -115  -71  -14   25   19\n",
            "    6    9   21   13  -37  -58  -33    5   47   80  101   88   73   69\n",
            "   41  -13  -31  -61  -80  -77  -66  -43    5   87  129  121   88   12\n",
            "  -76 -150 -207 -186 -165 -148 -103  -33   40   94   75    8  -81 -155\n",
            " -227 -262 -233 -218 -187 -126  -65  -12   27   61   49    9  -46 -124\n",
            " -210 -281 -265 -181  -89   -4   53   53   38   43   31   34    9   -7\n",
            "  -34  -70  -84 -101  -70  -11   42   62   66   74   64   59   56   36\n",
            "  -11  -30  -43  -23    8   42   77  103  135  121   79   59   43   54\n",
            "   90  111  107   64   32   18  -25  -69  -65  -44  -33  -57  -88 -114\n",
            " -130 -114  -83  -53  -79  -72  -85 -109  -98  -72  -65  -63  -11   10\n",
            "    8  -17  -15  -31  -77 -103 -127 -116  -83  -51]\n"
          ]
        },
        {
          "output_type": "stream",
          "name": "stderr",
          "text": [
            "/usr/local/lib/python3.7/dist-packages/ipykernel_launcher.py:3: FutureWarning: In a future version of pandas all arguments of DataFrame.drop except for the argument 'labels' will be keyword-only\n",
            "  This is separate from the ipykernel package so we can avoid doing imports until\n",
            "/usr/local/lib/python3.7/dist-packages/ipykernel_launcher.py:4: FutureWarning: In a future version of pandas all arguments of DataFrame.drop except for the argument 'labels' will be keyword-only\n",
            "  after removing the cwd from sys.path.\n"
          ]
        }
      ]
    },
    {
      "cell_type": "code",
      "source": [
        "#eyes open, means when they were recording the EEG signal of the brain the patient had their eyes open\n",
        "EEG_data_5 = EEG_data_set[EEG_data_set['y']==4]          \n",
        "EEG_data_5 = EEG_data_5.drop('y',1)\n",
        "EEG_data_5 = EEG_data_5.drop('Unnamed',1)\n",
        "print(EEG_data_5.values[0])"
      ],
      "metadata": {
        "colab": {
          "base_uri": "https://localhost:8080/"
        },
        "id": "53wmAXNT5sIP",
        "outputId": "22c6bfc6-6084-41dc-bb4d-d315898de744"
      },
      "execution_count": null,
      "outputs": [
        {
          "output_type": "stream",
          "name": "stdout",
          "text": [
            "[ 135  190  229  223  192  125   55   -9  -33  -38  -10   35   64  113\n",
            "  152  164  127   50  -47 -121 -138 -125 -101  -50   11   39   24   48\n",
            "   64   46   13  -19  -61  -96 -130 -132 -116 -115  -71  -14   25   19\n",
            "    6    9   21   13  -37  -58  -33    5   47   80  101   88   73   69\n",
            "   41  -13  -31  -61  -80  -77  -66  -43    5   87  129  121   88   12\n",
            "  -76 -150 -207 -186 -165 -148 -103  -33   40   94   75    8  -81 -155\n",
            " -227 -262 -233 -218 -187 -126  -65  -12   27   61   49    9  -46 -124\n",
            " -210 -281 -265 -181  -89   -4   53   53   38   43   31   34    9   -7\n",
            "  -34  -70  -84 -101  -70  -11   42   62   66   74   64   59   56   36\n",
            "  -11  -30  -43  -23    8   42   77  103  135  121   79   59   43   54\n",
            "   90  111  107   64   32   18  -25  -69  -65  -44  -33  -57  -88 -114\n",
            " -130 -114  -83  -53  -79  -72  -85 -109  -98  -72  -65  -63  -11   10\n",
            "    8  -17  -15  -31  -77 -103 -127 -116  -83  -51]\n"
          ]
        },
        {
          "output_type": "stream",
          "name": "stderr",
          "text": [
            "/usr/local/lib/python3.7/dist-packages/ipykernel_launcher.py:3: FutureWarning: In a future version of pandas all arguments of DataFrame.drop except for the argument 'labels' will be keyword-only\n",
            "  This is separate from the ipykernel package so we can avoid doing imports until\n",
            "/usr/local/lib/python3.7/dist-packages/ipykernel_launcher.py:4: FutureWarning: In a future version of pandas all arguments of DataFrame.drop except for the argument 'labels' will be keyword-only\n",
            "  after removing the cwd from sys.path.\n"
          ]
        }
      ]
    },
    {
      "cell_type": "code",
      "source": [
        "plt.figure(figsize=(16,8))\n",
        "plt.subplot(5,1,1)\n",
        "plt.title('Tumor was located')\n",
        "plt.plot(EEG_data_2.values[0], label = 'Tumor was located',)\n",
        "plt.subplot(5,1,2)\n",
        "plt.title('Healthy brain area')\n",
        "plt.plot(EEG_data_3.values[0], label = 'Healthy brain area', color='brown')\n",
        "plt.subplot(5,1,3)\n",
        "plt.title('Eyes closed')\n",
        "plt.plot(EEG_data_4.values[0], label = 'Eyes closed', color='yellow')\n",
        "plt.subplot(5,1,4)\n",
        "plt.title('Eyes open')\n",
        "plt.plot(EEG_data_5.values[0], label = 'Eyes open', color='green')\n",
        "plt.subplot(5,1,5)\n",
        "plt.title('Seizure')\n",
        "plt.plot(seizure.values[0],label= 'Seizure', color='red')\n",
        "plt.show()"
      ],
      "metadata": {
        "colab": {
          "base_uri": "https://localhost:8080/",
          "height": 498
        },
        "id": "sjYO4nAO6d5E",
        "outputId": "15a1fce0-affd-485e-de66-e6696cc5ce9d"
      },
      "execution_count": null,
      "outputs": [
        {
          "output_type": "display_data",
          "data": {
            "text/plain": [
              "<Figure size 1152x576 with 5 Axes>"
            ],
            "image/png": "[encoded data removed]"
          },
          "metadata": {}
        }
      ]
    },
    {
      "cell_type": "markdown",
      "source": [
        "# Без WT перетіорення"
      ],
      "metadata": {
        "id": "I7d5aOFq5V8h"
      }
    },
    {
      "cell_type": "code",
      "source": [
        "EEG_data_set = pd.read_csv('Epileptic Seizure Recognition.csv')"
      ],
      "metadata": {
        "id": "rfV-s7SC5l10"
      },
      "execution_count": 94,
      "outputs": []
    },
    {
      "cell_type": "code",
      "source": [
        "EEG_data_set.drop('Unnamed',1)"
      ],
      "metadata": {
        "colab": {
          "base_uri": "https://localhost:8080/",
          "height": 478
        },
        "id": "UIt311gb5qEL",
        "outputId": "0dd406a3-7655-4e14-d6a6-eb327201c8f2"
      },
      "execution_count": 95,
      "outputs": [
        {
          "output_type": "stream",
          "name": "stderr",
          "text": [
            "/usr/local/lib/python3.7/dist-packages/ipykernel_launcher.py:1: FutureWarning: In a future version of pandas all arguments of DataFrame.drop except for the argument 'labels' will be keyword-only\n",
            "  \"\"\"Entry point for launching an IPython kernel.\n"
          ]
        },
        {
          "output_type": "execute_result",
          "data": {
            "text/plain": [
              "        X1   X2   X3   X4   X5   X6   X7   X8   X9  X10  ...  X170  X171  \\\n",
              "0      135  190  229  223  192  125   55   -9  -33  -38  ...   -17   -15   \n",
              "1      386  382  356  331  320  315  307  272  244  232  ...   164   150   \n",
              "2      -32  -39  -47  -37  -32  -36  -57  -73  -85  -94  ...    57    64   \n",
              "3     -105 -101  -96  -92  -89  -95 -102 -100  -87  -79  ...   -82   -81   \n",
              "4       -9  -65  -98 -102  -78  -48  -16    0  -21  -59  ...     4     2   \n",
              "...    ...  ...  ...  ...  ...  ...  ...  ...  ...  ...  ...   ...   ...   \n",
              "11495  -22  -22  -23  -26  -36  -42  -45  -42  -45  -49  ...    15    16   \n",
              "11496  -47  -11   28   77  141  211  246  240  193  136  ...   -65   -33   \n",
              "11497   14    6  -13  -16   10   26   27   -9    4   14  ...   -65   -48   \n",
              "11498  -40  -25   -9  -12   -2   12    7   19   22   29  ...   121   135   \n",
              "11499   29   41   57   72   74   62   54   43   31   23  ...   -59   -25   \n",
              "\n",
              "       X172  X173  X174  X175  X176  X177  X178  y  \n",
              "0       -31   -77  -103  -127  -116   -83   -51  4  \n",
              "1       146   152   157   156   154   143   129  1  \n",
              "2        48    19   -12   -30   -35   -35   -36  5  \n",
              "3       -80   -77   -85   -77   -72   -69   -65  5  \n",
              "4       -12   -32   -41   -65   -83   -89   -73  5  \n",
              "...     ...   ...   ...   ...   ...   ...   ... ..  \n",
              "11495    12     5    -1   -18   -37   -47   -48  2  \n",
              "11496    -7    14    27    48    77   117   170  1  \n",
              "11497   -61   -62   -67   -30    -2    -1    -8  5  \n",
              "11498   148   143   116    86    68    59    55  3  \n",
              "11499    -4     2     5     4    -2     2    20  4  \n",
              "\n",
              "[11500 rows x 179 columns]"
            ],
            "text/html": [
              "\n",
              "  <div id=\"df-a0fa8c7f-e2b2-4ae7-959f-bfd468d17ec1\">\n",
              "    <div class=\"colab-df-container\">\n",
              "      <div>\n",
              "<style scoped>\n",
              "    .dataframe tbody tr th:only-of-type {\n",
              "        vertical-align: middle;\n",
              "    }\n",
              "\n",
              "    .dataframe tbody tr th {\n",
              "        vertical-align: top;\n",
              "    }\n",
              "\n",
              "    .dataframe thead th {\n",
              "        text-align: right;\n",
              "    }\n",
              "</style>\n",
              "<table border=\"1\" class=\"dataframe\">\n",
              "  <thead>\n",
              "    <tr style=\"text-align: right;\">\n",
              "      <th></th>\n",
              "      <th>X1</th>\n",
              "      <th>X2</th>\n",
              "      <th>X3</th>\n",
              "      <th>X4</th>\n",
              "      <th>X5</th>\n",
              "      <th>X6</th>\n",
              "      <th>X7</th>\n",
              "      <th>X8</th>\n",
              "      <th>X9</th>\n",
              "      <th>X10</th>\n",
              "      <th>...</th>\n",
              "      <th>X170</th>\n",
              "      <th>X171</th>\n",
              "      <th>X172</th>\n",
              "      <th>X173</th>\n",
              "      <th>X174</th>\n",
              "      <th>X175</th>\n",
              "      <th>X176</th>\n",
              "      <th>X177</th>\n",
              "      <th>X178</th>\n",
              "      <th>y</th>\n",
              "    </tr>\n",
              "  </thead>\n",
              "  <tbody>\n",
              "    <tr>\n",
              "      <th>0</th>\n",
              "      <td>135</td>\n",
              "      <td>190</td>\n",
              "      <td>229</td>\n",
              "      <td>223</td>\n",
              "      <td>192</td>\n",
              "      <td>125</td>\n",
              "      <td>55</td>\n",
              "      <td>-9</td>\n",
              "      <td>-33</td>\n",
              "      <td>-38</td>\n",
              "      <td>...</td>\n",
              "      <td>-17</td>\n",
              "      <td>-15</td>\n",
              "      <td>-31</td>\n",
              "      <td>-77</td>\n",
              "      <td>-103</td>\n",
              "      <td>-127</td>\n",
              "      <td>-116</td>\n",
              "      <td>-83</td>\n",
              "      <td>-51</td>\n",
              "      <td>4</td>\n",
              "    </tr>\n",
              "    <tr>\n",
              "      <th>1</th>\n",
              "      <td>386</td>\n",
              "      <td>382</td>\n",
              "      <td>356</td>\n",
              "      <td>331</td>\n",
              "      <td>320</td>\n",
              "      <td>315</td>\n",
              "      <td>307</td>\n",
              "      <td>272</td>\n",
              "      <td>244</td>\n",
              "      <td>232</td>\n",
              "      <td>...</td>\n",
              "      <td>164</td>\n",
              "      <td>150</td>\n",
              "      <td>146</td>\n",
              "      <td>152</td>\n",
              "      <td>157</td>\n",
              "      <td>156</td>\n",
              "      <td>154</td>\n",
              "      <td>143</td>\n",
              "      <td>129</td>\n",
              "      <td>1</td>\n",
              "    </tr>\n",
              "    <tr>\n",
              "      <th>2</th>\n",
              "      <td>-32</td>\n",
              "      <td>-39</td>\n",
              "      <td>-47</td>\n",
              "      <td>-37</td>\n",
              "      <td>-32</td>\n",
              "      <td>-36</td>\n",
              "      <td>-57</td>\n",
              "      <td>-73</td>\n",
              "      <td>-85</td>\n",
              "      <td>-94</td>\n",
              "      <td>...</td>\n",
              "      <td>57</td>\n",
              "      <td>64</td>\n",
              "      <td>48</td>\n",
              "      <td>19</td>\n",
              "      <td>-12</td>\n",
              "      <td>-30</td>\n",
              "      <td>-35</td>\n",
              "      <td>-35</td>\n",
              "      <td>-36</td>\n",
              "      <td>5</td>\n",
              "    </tr>\n",
              "    <tr>\n",
              "      <th>3</th>\n",
              "      <td>-105</td>\n",
              "      <td>-101</td>\n",
              "      <td>-96</td>\n",
              "      <td>-92</td>\n",
              "      <td>-89</td>\n",
              "      <td>-95</td>\n",
              "      <td>-102</td>\n",
              "      <td>-100</td>\n",
              "      <td>-87</td>\n",
              "      <td>-79</td>\n",
              "      <td>...</td>\n",
              "      <td>-82</td>\n",
              "      <td>-81</td>\n",
              "      <td>-80</td>\n",
              "      <td>-77</td>\n",
              "      <td>-85</td>\n",
              "      <td>-77</td>\n",
              "      <td>-72</td>\n",
              "      <td>-69</td>\n",
              "      <td>-65</td>\n",
              "      <td>5</td>\n",
              "    </tr>\n",
              "    <tr>\n",
              "      <th>4</th>\n",
              "      <td>-9</td>\n",
              "      <td>-65</td>\n",
              "      <td>-98</td>\n",
              "      <td>-102</td>\n",
              "      <td>-78</td>\n",
              "      <td>-48</td>\n",
              "      <td>-16</td>\n",
              "      <td>0</td>\n",
              "      <td>-21</td>\n",
              "      <td>-59</td>\n",
              "      <td>...</td>\n",
              "      <td>4</td>\n",
              "      <td>2</td>\n",
              "      <td>-12</td>\n",
              "      <td>-32</td>\n",
              "      <td>-41</td>\n",
              "      <td>-65</td>\n",
              "      <td>-83</td>\n",
              "      <td>-89</td>\n",
              "      <td>-73</td>\n",
              "      <td>5</td>\n",
              "    </tr>\n",
              "    <tr>\n",
              "      <th>...</th>\n",
              "      <td>...</td>\n",
              "      <td>...</td>\n",
              "      <td>...</td>\n",
              "      <td>...</td>\n",
              "      <td>...</td>\n",
              "      <td>...</td>\n",
              "      <td>...</td>\n",
              "      <td>...</td>\n",
              "      <td>...</td>\n",
              "      <td>...</td>\n",
              "      <td>...</td>\n",
              "      <td>...</td>\n",
              "      <td>...</td>\n",
              "      <td>...</td>\n",
              "      <td>...</td>\n",
              "      <td>...</td>\n",
              "      <td>...</td>\n",
              "      <td>...</td>\n",
              "      <td>...</td>\n",
              "      <td>...</td>\n",
              "      <td>...</td>\n",
              "    </tr>\n",
              "    <tr>\n",
              "      <th>11495</th>\n",
              "      <td>-22</td>\n",
              "      <td>-22</td>\n",
              "      <td>-23</td>\n",
              "      <td>-26</td>\n",
              "      <td>-36</td>\n",
              "      <td>-42</td>\n",
              "      <td>-45</td>\n",
              "      <td>-42</td>\n",
              "      <td>-45</td>\n",
              "      <td>-49</td>\n",
              "      <td>...</td>\n",
              "      <td>15</td>\n",
              "      <td>16</td>\n",
              "      <td>12</td>\n",
              "      <td>5</td>\n",
              "      <td>-1</td>\n",
              "      <td>-18</td>\n",
              "      <td>-37</td>\n",
              "      <td>-47</td>\n",
              "      <td>-48</td>\n",
              "      <td>2</td>\n",
              "    </tr>\n",
              "    <tr>\n",
              "      <th>11496</th>\n",
              "      <td>-47</td>\n",
              "      <td>-11</td>\n",
              "      <td>28</td>\n",
              "      <td>77</td>\n",
              "      <td>141</td>\n",
              "      <td>211</td>\n",
              "      <td>246</td>\n",
              "      <td>240</td>\n",
              "      <td>193</td>\n",
              "      <td>136</td>\n",
              "      <td>...</td>\n",
              "      <td>-65</td>\n",
              "      <td>-33</td>\n",
              "      <td>-7</td>\n",
              "      <td>14</td>\n",
              "      <td>27</td>\n",
              "      <td>48</td>\n",
              "      <td>77</td>\n",
              "      <td>117</td>\n",
              "      <td>170</td>\n",
              "      <td>1</td>\n",
              "    </tr>\n",
              "    <tr>\n",
              "      <th>11497</th>\n",
              "      <td>14</td>\n",
              "      <td>6</td>\n",
              "      <td>-13</td>\n",
              "      <td>-16</td>\n",
              "      <td>10</td>\n",
              "      <td>26</td>\n",
              "      <td>27</td>\n",
              "      <td>-9</td>\n",
              "      <td>4</td>\n",
              "      <td>14</td>\n",
              "      <td>...</td>\n",
              "      <td>-65</td>\n",
              "      <td>-48</td>\n",
              "      <td>-61</td>\n",
              "      <td>-62</td>\n",
              "      <td>-67</td>\n",
              "      <td>-30</td>\n",
              "      <td>-2</td>\n",
              "      <td>-1</td>\n",
              "      <td>-8</td>\n",
              "      <td>5</td>\n",
              "    </tr>\n",
              "    <tr>\n",
              "      <th>11498</th>\n",
              "      <td>-40</td>\n",
              "      <td>-25</td>\n",
              "      <td>-9</td>\n",
              "      <td>-12</td>\n",
              "      <td>-2</td>\n",
              "      <td>12</td>\n",
              "      <td>7</td>\n",
              "      <td>19</td>\n",
              "      <td>22</td>\n",
              "      <td>29</td>\n",
              "      <td>...</td>\n",
              "      <td>121</td>\n",
              "      <td>135</td>\n",
              "      <td>148</td>\n",
              "      <td>143</td>\n",
              "      <td>116</td>\n",
              "      <td>86</td>\n",
              "      <td>68</td>\n",
              "      <td>59</td>\n",
              "      <td>55</td>\n",
              "      <td>3</td>\n",
              "    </tr>\n",
              "    <tr>\n",
              "      <th>11499</th>\n",
              "      <td>29</td>\n",
              "      <td>41</td>\n",
              "      <td>57</td>\n",
              "      <td>72</td>\n",
              "      <td>74</td>\n",
              "      <td>62</td>\n",
              "      <td>54</td>\n",
              "      <td>43</td>\n",
              "      <td>31</td>\n",
              "      <td>23</td>\n",
              "      <td>...</td>\n",
              "      <td>-59</td>\n",
              "      <td>-25</td>\n",
              "      <td>-4</td>\n",
              "      <td>2</td>\n",
              "      <td>5</td>\n",
              "      <td>4</td>\n",
              "      <td>-2</td>\n",
              "      <td>2</td>\n",
              "      <td>20</td>\n",
              "      <td>4</td>\n",
              "    </tr>\n",
              "  </tbody>\n",
              "</table>\n",
              "<p>11500 rows × 179 columns</p>\n",
              "</div>\n",
              "      <button class=\"colab-df-convert\" onclick=\"convertToInteractive('df-a0fa8c7f-e2b2-4ae7-959f-bfd468d17ec1')\"\n",
              "              title=\"Convert this dataframe to an interactive table.\"\n",
              "              style=\"display:none;\">\n",
              "        \n",
              "  <svg xmlns=\"http://www.w3.org/2000/svg\" height=\"24px\"viewBox=\"0 0 24 24\"\n",
              "       width=\"24px\">\n",
              "    <path d=\"M0 0h24v24H0V0z\" fill=\"none\"/>\n",
              "    <path d=\"M18.56 5.44l.94 2.06.94-2.06 2.06-.94-2.06-.94-.94-2.06-.94 2.06-2.06.94zm-11 1L8.5 8.5l.94-2.06 2.06-.94-2.06-.94L8.5 2.5l-.94 2.06-2.06.94zm10 10l.94 2.06.94-2.06 2.06-.94-2.06-.94-.94-2.06-.94 2.06-2.06.94z\"/><path d=\"M17.41 7.96l-1.37-1.37c-.4-.4-.92-.59-1.43-.59-.52 0-1.04.2-1.43.59L10.3 9.45l-7.72 7.72c-.78.78-.78 2.05 0 2.83L4 21.41c.39.39.9.59 1.41.59.51 0 1.02-.2 1.41-.59l7.78-7.78 2.81-2.81c.8-.78.8-2.07 0-2.86zM5.41 20L4 18.59l7.72-7.72 1.47 1.35L5.41 20z\"/>\n",
              "  </svg>\n",
              "      </button>\n",
              "      \n",
              "  <style>\n",
              "    .colab-df-container {\n",
              "      display:flex;\n",
              "      flex-wrap:wrap;\n",
              "      gap: 12px;\n",
              "    }\n",
              "\n",
              "    .colab-df-convert {\n",
              "      background-color: #E8F0FE;\n",
              "      border: none;\n",
              "      border-radius: 50%;\n",
              "      cursor: pointer;\n",
              "      display: none;\n",
              "      fill: #1967D2;\n",
              "      height: 32px;\n",
              "      padding: 0 0 0 0;\n",
              "      width: 32px;\n",
              "    }\n",
              "\n",
              "    .colab-df-convert:hover {\n",
              "      background-color: #E2EBFA;\n",
              "      box-shadow: 0px 1px 2px rgba(60, 64, 67, 0.3), 0px 1px 3px 1px rgba(60, 64, 67, 0.15);\n",
              "      fill: #174EA6;\n",
              "    }\n",
              "\n",
              "    [theme=dark] .colab-df-convert {\n",
              "      background-color: #3B4455;\n",
              "      fill: #D2E3FC;\n",
              "    }\n",
              "\n",
              "    [theme=dark] .colab-df-convert:hover {\n",
              "      background-color: #434B5C;\n",
              "      box-shadow: 0px 1px 3px 1px rgba(0, 0, 0, 0.15);\n",
              "      filter: drop-shadow(0px 1px 2px rgba(0, 0, 0, 0.3));\n",
              "      fill: #FFFFFF;\n",
              "    }\n",
              "  </style>\n",
              "\n",
              "      <script>\n",
              "        const buttonEl =\n",
              "          document.querySelector('#df-a0fa8c7f-e2b2-4ae7-959f-bfd468d17ec1 button.colab-df-convert');\n",
              "        buttonEl.style.display =\n",
              "          google.colab.kernel.accessAllowed ? 'block' : 'none';\n",
              "\n",
              "        async function convertToInteractive(key) {\n",
              "          const element = document.querySelector('#df-a0fa8c7f-e2b2-4ae7-959f-bfd468d17ec1');\n",
              "          const dataTable =\n",
              "            await google.colab.kernel.invokeFunction('convertToInteractive',\n",
              "                                                     [key], {});\n",
              "          if (!dataTable) return;\n",
              "\n",
              "          const docLinkHtml = 'Like what you see? Visit the ' +\n",
              "            '<a target=\"_blank\" href=https://colab.research.google.com/notebooks/data_table.ipynb>data table notebook</a>'\n",
              "            + ' to learn more about interactive tables.';\n",
              "          element.innerHTML = '';\n",
              "          dataTable['output_type'] = 'display_data';\n",
              "          await google.colab.output.renderOutput(dataTable, element);\n",
              "          const docLink = document.createElement('div');\n",
              "          docLink.innerHTML = docLinkHtml;\n",
              "          element.appendChild(docLink);\n",
              "        }\n",
              "      </script>\n",
              "    </div>\n",
              "  </div>\n",
              "  "
            ]
          },
          "metadata": {},
          "execution_count": 95
        }
      ]
    },
    {
      "cell_type": "code",
      "source": [
        "def prepareData(df):\n",
        "  df[\"y\"]=[1 if df[\"y\"][i]==1 else 0 for i in range(len(df[\"y\"]))]\n",
        "  target=df[\"y\"]\n",
        "  df_copy = df.drop(\"Unnamed\",1)\n",
        "  return df_copy,target\n",
        "\n",
        "df_copy,target=prepareData(EEG_data_set)"
      ],
      "metadata": {
        "colab": {
          "base_uri": "https://localhost:8080/"
        },
        "id": "pekGWKQW-89S",
        "outputId": "f8aa1fe4-5bd5-4cd8-8a78-95918c435cb0"
      },
      "execution_count": 96,
      "outputs": [
        {
          "output_type": "stream",
          "name": "stderr",
          "text": [
            "/usr/local/lib/python3.7/dist-packages/ipykernel_launcher.py:4: FutureWarning: In a future version of pandas all arguments of DataFrame.drop except for the argument 'labels' will be keyword-only\n",
            "  after removing the cwd from sys.path.\n"
          ]
        }
      ]
    },
    {
      "cell_type": "code",
      "source": [
        "print(df_copy)"
      ],
      "metadata": {
        "colab": {
          "base_uri": "https://localhost:8080/"
        },
        "id": "myEUwbij9YwP",
        "outputId": "12e5d5e4-f666-453c-9679-7dd63a867e09"
      },
      "execution_count": 18,
      "outputs": [
        {
          "output_type": "stream",
          "name": "stdout",
          "text": [
            "        X1   X2   X3   X4   X5   X6   X7   X8   X9  X10  ...  X170  X171  \\\n",
            "0      135  190  229  223  192  125   55   -9  -33  -38  ...   -17   -15   \n",
            "1      386  382  356  331  320  315  307  272  244  232  ...   164   150   \n",
            "2      -32  -39  -47  -37  -32  -36  -57  -73  -85  -94  ...    57    64   \n",
            "3     -105 -101  -96  -92  -89  -95 -102 -100  -87  -79  ...   -82   -81   \n",
            "4       -9  -65  -98 -102  -78  -48  -16    0  -21  -59  ...     4     2   \n",
            "...    ...  ...  ...  ...  ...  ...  ...  ...  ...  ...  ...   ...   ...   \n",
            "11495  -22  -22  -23  -26  -36  -42  -45  -42  -45  -49  ...    15    16   \n",
            "11496  -47  -11   28   77  141  211  246  240  193  136  ...   -65   -33   \n",
            "11497   14    6  -13  -16   10   26   27   -9    4   14  ...   -65   -48   \n",
            "11498  -40  -25   -9  -12   -2   12    7   19   22   29  ...   121   135   \n",
            "11499   29   41   57   72   74   62   54   43   31   23  ...   -59   -25   \n",
            "\n",
            "       X172  X173  X174  X175  X176  X177  X178  y  \n",
            "0       -31   -77  -103  -127  -116   -83   -51  0  \n",
            "1       146   152   157   156   154   143   129  1  \n",
            "2        48    19   -12   -30   -35   -35   -36  0  \n",
            "3       -80   -77   -85   -77   -72   -69   -65  0  \n",
            "4       -12   -32   -41   -65   -83   -89   -73  0  \n",
            "...     ...   ...   ...   ...   ...   ...   ... ..  \n",
            "11495    12     5    -1   -18   -37   -47   -48  0  \n",
            "11496    -7    14    27    48    77   117   170  1  \n",
            "11497   -61   -62   -67   -30    -2    -1    -8  0  \n",
            "11498   148   143   116    86    68    59    55  0  \n",
            "11499    -4     2     5     4    -2     2    20  0  \n",
            "\n",
            "[11500 rows x 179 columns]\n"
          ]
        }
      ]
    },
    {
      "cell_type": "code",
      "source": [
        "from sklearn.utils import shuffle\n",
        "def createBalancedDataset(data,random_state):\n",
        "  #shuffling for random sampling\n",
        "  X = shuffle(data,random_state=random_state)\n",
        "  #getting first 6500 value\n",
        "  return X.sort_values(by='y', ascending=False).iloc[:6500].index"
      ],
      "metadata": {
        "id": "WkkvturV6PpY"
      },
      "execution_count": 146,
      "outputs": []
    },
    {
      "cell_type": "code",
      "source": [
        "v=createBalancedDataset(df_copy,42)"
      ],
      "metadata": {
        "id": "EtHPOpGy6MLw"
      },
      "execution_count": 147,
      "outputs": []
    },
    {
      "cell_type": "code",
      "source": [
        "#normalizing dataset\n",
        "from sklearn.preprocessing import MinMaxScaler\n",
        "scaler = MinMaxScaler()\n",
        "scaler.fit(df_copy.drop(['y'],axis=1))\n",
        "n_df_fea=pd.DataFrame(scaler.transform(df_copy.drop(['y'],axis=1)))"
      ],
      "metadata": {
        "id": "JXJiSTg287I2"
      },
      "execution_count": 148,
      "outputs": []
    },
    {
      "cell_type": "code",
      "source": [
        "import numpy as np\n",
        "from sklearn.model_selection import train_test_split\n",
        "X_trainr, X_testr, y_trainr, y_testr = train_test_split(n_df_fea.iloc[v], target.iloc[v], test_size=0.33, random_state=42)"
      ],
      "metadata": {
        "id": "BF7AiHHZ9Jpl"
      },
      "execution_count": 149,
      "outputs": []
    },
    {
      "cell_type": "code",
      "source": [
        "from sklearn.neighbors import KNeighborsClassifier\n",
        "from sklearn.metrics import classification_report\n",
        "from sklearn.metrics import accuracy_score\n",
        "from sklearn.metrics import roc_curve\n",
        "from sklearn import svm\n",
        "from sklearn.ensemble import RandomForestClassifier\n",
        "from sklearn.naive_bayes import GaussianNB\n",
        "import matplotlib.pyplot as plt\n",
        "%matplotlib inline"
      ],
      "metadata": {
        "id": "jDv9DjgpA1h9"
      },
      "execution_count": 150,
      "outputs": []
    },
    {
      "cell_type": "markdown",
      "source": [
        "#KNN"
      ],
      "metadata": {
        "id": "Hjwa_q6ZAvV6"
      }
    },
    {
      "cell_type": "code",
      "source": [
        "knn = KNeighborsClassifier(n_neighbors=100)\n",
        "knn.fit(X_trainr, y_trainr)\n",
        "y_pred = knn.predict(X_testr)\n",
        "\n",
        "print(classification_report(y_testr, y_pred))"
      ],
      "metadata": {
        "colab": {
          "base_uri": "https://localhost:8080/"
        },
        "id": "KE8fpnJhAzqd",
        "outputId": "a2ab23b8-baae-4934-e5ca-886bac18f8c9"
      },
      "execution_count": 24,
      "outputs": [
        {
          "output_type": "stream",
          "name": "stdout",
          "text": [
            "              precision    recall  f1-score   support\n",
            "\n",
            "           0       0.68      1.00      0.81      1373\n",
            "           1       1.00      0.17      0.29       772\n",
            "\n",
            "    accuracy                           0.70      2145\n",
            "   macro avg       0.84      0.59      0.55      2145\n",
            "weighted avg       0.80      0.70      0.62      2145\n",
            "\n"
          ]
        }
      ]
    },
    {
      "cell_type": "code",
      "source": [
        "print(\"Accuracy: \", accuracy_score(y_testr, y_pred))"
      ],
      "metadata": {
        "colab": {
          "base_uri": "https://localhost:8080/"
        },
        "id": "JbnNvwD4BqM7",
        "outputId": "54d25536-82ba-4417-a6d0-394791f4c861"
      },
      "execution_count": 25,
      "outputs": [
        {
          "output_type": "stream",
          "name": "stdout",
          "text": [
            "Accuracy:  0.7016317016317016\n"
          ]
        }
      ]
    },
    {
      "cell_type": "code",
      "source": [
        "from sklearn.metrics import confusion_matrix\n",
        "conmat = confusion_matrix(y_testr, y_pred)\n",
        "sns.heatmap(conmat, annot=True, fmt=\"d\", cmap=\"Greens\")"
      ],
      "metadata": {
        "colab": {
          "base_uri": "https://localhost:8080/",
          "height": 0
        },
        "id": "761Fl2GSByqc",
        "outputId": "23aeed2a-b875-44c9-f290-2976421ae6d5"
      },
      "execution_count": 26,
      "outputs": [
        {
          "output_type": "execute_result",
          "data": {
            "text/plain": [
              "<matplotlib.axes._subplots.AxesSubplot at 0x7f0e2b938750>"
            ]
          },
          "metadata": {},
          "execution_count": 26
        },
        {
          "output_type": "display_data",
          "data": {
            "text/plain": [
              "<Figure size 432x288 with 2 Axes>"
            ],
            "image/png": "[encoded data removed]"
          },
          "metadata": {
            "needs_background": "light"
          }
        }
      ]
    },
    {
      "cell_type": "code",
      "source": [
        "fpr, tpr, thresholds = roc_curve(y_testr,y_pred)\n",
        "\n",
        "plt.plot(fpr, tpr, label='ROC curve', color=\"red\")\n",
        "plt.plot([0, 1], [0, 1], 'k--', label='Random guess', color=\"green\")\n",
        "plt.xlabel('False Positive Rate')\n",
        "plt.ylabel('True Positive Rate')\n",
        "plt.title('ROC Curve')\n",
        "plt.xlim([-0.02, 1])\n",
        "plt.ylim([0, 1.02])\n",
        "plt.legend(loc=\"lower right\")"
      ],
      "metadata": {
        "colab": {
          "base_uri": "https://localhost:8080/",
          "height": 0
        },
        "id": "13-0194vEQ5u",
        "outputId": "b4e3d992-ac5e-4bbb-89d3-8b5bb4c65354"
      },
      "execution_count": 27,
      "outputs": [
        {
          "output_type": "execute_result",
          "data": {
            "text/plain": [
              "<matplotlib.legend.Legend at 0x7f0e28f27b50>"
            ]
          },
          "metadata": {},
          "execution_count": 27
        },
        {
          "output_type": "display_data",
          "data": {
            "text/plain": [
              "<Figure size 432x288 with 1 Axes>"
            ],
            "image/png": "[encoded data removed]"
          },
          "metadata": {
            "needs_background": "light"
          }
        }
      ]
    },
    {
      "cell_type": "markdown",
      "source": [
        "# SVM\n"
      ],
      "metadata": {
        "id": "UP1ZcSiTEq2t"
      }
    },
    {
      "cell_type": "code",
      "source": [
        "clf = svm.SVC(kernel=\"linear\")\n",
        "clf.fit(X_trainr, y_trainr)\n",
        "y_pred = clf.predict(X_testr)\n",
        "\n",
        "print(classification_report(y_testr, y_pred))"
      ],
      "metadata": {
        "colab": {
          "base_uri": "https://localhost:8080/"
        },
        "id": "bylBD_vZE2T0",
        "outputId": "28b62b47-122f-4b9a-e49b-a3361c34dd71"
      },
      "execution_count": null,
      "outputs": [
        {
          "output_type": "stream",
          "name": "stdout",
          "text": [
            "              precision    recall  f1-score   support\n",
            "\n",
            "           0       0.66      1.00      0.80      1373\n",
            "           1       1.00      0.10      0.19       772\n",
            "\n",
            "    accuracy                           0.68      2145\n",
            "   macro avg       0.83      0.55      0.49      2145\n",
            "weighted avg       0.79      0.68      0.58      2145\n",
            "\n"
          ]
        }
      ]
    },
    {
      "cell_type": "code",
      "source": [
        "print(\"Accuracy: \", accuracy_score(y_testr, y_pred))"
      ],
      "metadata": {
        "colab": {
          "base_uri": "https://localhost:8080/"
        },
        "id": "k3TIoyDVFGU2",
        "outputId": "19e60ce8-ae6f-4955-8b51-fe92c10fba66"
      },
      "execution_count": null,
      "outputs": [
        {
          "output_type": "stream",
          "name": "stdout",
          "text": [
            "Accuracy:  0.6773892773892773\n"
          ]
        }
      ]
    },
    {
      "cell_type": "code",
      "source": [
        "from sklearn.metrics import confusion_matrix\n",
        "conmat = confusion_matrix(y_testr, y_pred)\n",
        "sns.heatmap(conmat, annot=True, fmt=\"d\", cmap=\"Greens\")"
      ],
      "metadata": {
        "colab": {
          "base_uri": "https://localhost:8080/",
          "height": 286
        },
        "id": "lVUBQRKKFHDu",
        "outputId": "9aa448ff-2d30-4c81-a2bd-ae4db0b3ff77"
      },
      "execution_count": null,
      "outputs": [
        {
          "output_type": "execute_result",
          "data": {
            "text/plain": [
              "<matplotlib.axes._subplots.AxesSubplot at 0x7fc13b33c2d0>"
            ]
          },
          "metadata": {},
          "execution_count": 99
        },
        {
          "output_type": "display_data",
          "data": {
            "text/plain": [
              "<Figure size 432x288 with 2 Axes>"
            ],
            "image/png": "[encoded data removed]"
          },
          "metadata": {
            "needs_background": "light"
          }
        }
      ]
    },
    {
      "cell_type": "code",
      "source": [
        "fpr, tpr, thresholds = roc_curve(y_testr,y_pred)\n",
        "\n",
        "plt.plot(fpr, tpr, label='ROC curve', color=\"red\")\n",
        "plt.plot([0, 1], [0, 1], 'k--', label='Random guess', color=\"green\")\n",
        "plt.xlabel('False Positive Rate')\n",
        "plt.ylabel('True Positive Rate')\n",
        "plt.title('ROC Curve')\n",
        "plt.xlim([-0.02, 1])\n",
        "plt.ylim([0, 1.02])\n",
        "plt.legend(loc=\"lower right\")"
      ],
      "metadata": {
        "colab": {
          "base_uri": "https://localhost:8080/",
          "height": 319
        },
        "id": "346WFmUXFZLp",
        "outputId": "ee54fe7e-edf4-4edb-a64b-98ea78ea0a21"
      },
      "execution_count": null,
      "outputs": [
        {
          "output_type": "execute_result",
          "data": {
            "text/plain": [
              "<matplotlib.legend.Legend at 0x7fc13b049a10>"
            ]
          },
          "metadata": {},
          "execution_count": 100
        },
        {
          "output_type": "display_data",
          "data": {
            "text/plain": [
              "<Figure size 432x288 with 1 Axes>"
            ],
            "image/png": "[encoded data removed]"
          },
          "metadata": {
            "needs_background": "light"
          }
        }
      ]
    },
    {
      "cell_type": "markdown",
      "source": [
        "# Random Forest"
      ],
      "metadata": {
        "id": "H8HVDyY1Fj_I"
      }
    },
    {
      "cell_type": "code",
      "source": [
        "clf=RandomForestClassifier(n_estimators=100)\n",
        "clf.fit(X_trainr, y_trainr)\n",
        "\n",
        "y_pred = clf.predict(X_testr)\n",
        "\n",
        "print(classification_report(y_testr, y_pred))\n"
      ],
      "metadata": {
        "colab": {
          "base_uri": "https://localhost:8080/"
        },
        "id": "8hGF5pBrFngS",
        "outputId": "c560062a-f0ff-471f-c438-57f1ba837d0b"
      },
      "execution_count": 78,
      "outputs": [
        {
          "output_type": "stream",
          "name": "stdout",
          "text": [
            "              precision    recall  f1-score   support\n",
            "\n",
            "           0       0.85      0.97      0.91      6136\n",
            "           1       0.88      0.55      0.68      2279\n",
            "\n",
            "    accuracy                           0.86      8415\n",
            "   macro avg       0.87      0.76      0.79      8415\n",
            "weighted avg       0.86      0.86      0.85      8415\n",
            "\n"
          ]
        }
      ]
    },
    {
      "cell_type": "code",
      "source": [
        "print(\"Accuracy: \", accuracy_score(y_testr, y_pred))"
      ],
      "metadata": {
        "colab": {
          "base_uri": "https://localhost:8080/"
        },
        "id": "QVrsAp74Fxz-",
        "outputId": "3138ad89-c435-4ef8-b81d-9c659b2f863b"
      },
      "execution_count": 79,
      "outputs": [
        {
          "output_type": "stream",
          "name": "stdout",
          "text": [
            "Accuracy:  0.8577540106951872\n"
          ]
        }
      ]
    },
    {
      "cell_type": "code",
      "source": [
        "from sklearn.metrics import confusion_matrix\n",
        "conmat = confusion_matrix(y_testr, y_pred)\n",
        "sns.heatmap(conmat, annot=True, fmt=\"d\", cmap=\"Greens\")"
      ],
      "metadata": {
        "colab": {
          "base_uri": "https://localhost:8080/",
          "height": 0
        },
        "id": "OZFhgrASIB3B",
        "outputId": "7f3eacbd-f7f2-49e2-c8bc-6e2d2596cf32"
      },
      "execution_count": 81,
      "outputs": [
        {
          "output_type": "execute_result",
          "data": {
            "text/plain": [
              "<matplotlib.axes._subplots.AxesSubplot at 0x7f0e27ba4b10>"
            ]
          },
          "metadata": {},
          "execution_count": 81
        },
        {
          "output_type": "display_data",
          "data": {
            "text/plain": [
              "<Figure size 432x288 with 2 Axes>"
            ],
            "image/png": "[encoded data removed]"
          },
          "metadata": {
            "needs_background": "light"
          }
        }
      ]
    },
    {
      "cell_type": "code",
      "source": [
        "fpr, tpr, thresholds = roc_curve(y_testr,y_pred)\n",
        "\n",
        "plt.plot(fpr, tpr, label='ROC curve', color=\"red\")\n",
        "plt.plot([0, 1], [0, 1], 'k--', label='Random guess', color=\"green\")\n",
        "plt.xlabel('False Positive Rate')\n",
        "plt.ylabel('True Positive Rate')\n",
        "plt.title('ROC Curve')\n",
        "plt.xlim([-0.02, 1])\n",
        "plt.ylim([0, 1.02])\n",
        "plt.legend(loc=\"lower right\")"
      ],
      "metadata": {
        "colab": {
          "base_uri": "https://localhost:8080/",
          "height": 0
        },
        "id": "FEb9vc0DF2Br",
        "outputId": "eb55c806-09b7-4284-abbd-b4d3acf0eff4"
      },
      "execution_count": 80,
      "outputs": [
        {
          "output_type": "execute_result",
          "data": {
            "text/plain": [
              "<matplotlib.legend.Legend at 0x7f0e287c9950>"
            ]
          },
          "metadata": {},
          "execution_count": 80
        },
        {
          "output_type": "display_data",
          "data": {
            "text/plain": [
              "<Figure size 432x288 with 1 Axes>"
            ],
            "image/png": "[encoded data removed]"
          },
          "metadata": {
            "needs_background": "light"
          }
        }
      ]
    },
    {
      "cell_type": "markdown",
      "source": [
        "# Naive Bayes"
      ],
      "metadata": {
        "id": "XOiBYZweF7Ka"
      }
    },
    {
      "cell_type": "code",
      "source": [
        "model = GaussianNB()\n",
        "model.fit(X_trainr, y_trainr);\n",
        "y_pred = model.predict(X_testr)\n",
        "\n",
        "print(classification_report(y_testr, y_pred))"
      ],
      "metadata": {
        "colab": {
          "base_uri": "https://localhost:8080/"
        },
        "id": "smttKbgLF_9z",
        "outputId": "ddfeb1bc-25cb-4bec-ecc8-14ad3571c7be"
      },
      "execution_count": 151,
      "outputs": [
        {
          "output_type": "stream",
          "name": "stdout",
          "text": [
            "              precision    recall  f1-score   support\n",
            "\n",
            "           0       0.94      0.98      0.96      1373\n",
            "           1       0.96      0.89      0.93       772\n",
            "\n",
            "    accuracy                           0.95      2145\n",
            "   macro avg       0.95      0.94      0.94      2145\n",
            "weighted avg       0.95      0.95      0.95      2145\n",
            "\n"
          ]
        }
      ]
    },
    {
      "cell_type": "code",
      "source": [
        "print(\"Accuracy: \", accuracy_score(y_testr, y_pred))"
      ],
      "metadata": {
        "colab": {
          "base_uri": "https://localhost:8080/"
        },
        "id": "1-1GKkq6GFrU",
        "outputId": "a1e07954-ab90-4f72-fea8-be08fc38d270"
      },
      "execution_count": 152,
      "outputs": [
        {
          "output_type": "stream",
          "name": "stdout",
          "text": [
            "Accuracy:  0.9482517482517483\n"
          ]
        }
      ]
    },
    {
      "cell_type": "code",
      "source": [
        "from sklearn.metrics import confusion_matrix\n",
        "conmat = confusion_matrix(y_testr, y_pred)\n",
        "sns.heatmap(conmat, annot=True, fmt=\"d\", cmap=\"Greens\")"
      ],
      "metadata": {
        "colab": {
          "base_uri": "https://localhost:8080/",
          "height": 286
        },
        "id": "T2CWS0kNIEYj",
        "outputId": "3268c564-8e35-4a13-d779-7ec27ddf92ae"
      },
      "execution_count": null,
      "outputs": [
        {
          "output_type": "execute_result",
          "data": {
            "text/plain": [
              "<matplotlib.axes._subplots.AxesSubplot at 0x7fc13ac73e10>"
            ]
          },
          "metadata": {},
          "execution_count": 146
        },
        {
          "output_type": "display_data",
          "data": {
            "text/plain": [
              "<Figure size 432x288 with 2 Axes>"
            ],
            "image/png": "[encoded data removed]"
          },
          "metadata": {
            "needs_background": "light"
          }
        }
      ]
    },
    {
      "cell_type": "code",
      "source": [
        "fpr, tpr, thresholds = roc_curve(y_testr,y_pred)\n",
        "\n",
        "plt.plot(fpr, tpr, label='ROC curve', color=\"red\")\n",
        "plt.plot([0, 1], [0, 1], 'k--', label='Random guess', color=\"green\")\n",
        "plt.xlabel('False Positive Rate')\n",
        "plt.ylabel('True Positive Rate')\n",
        "plt.title('ROC Curve')\n",
        "plt.xlim([-0.02, 1])\n",
        "plt.ylim([0, 1.02])\n",
        "plt.legend(loc=\"lower right\")"
      ],
      "metadata": {
        "colab": {
          "base_uri": "https://localhost:8080/",
          "height": 319
        },
        "id": "2GnfYNJKGIW1",
        "outputId": "d79e2094-4ad2-449f-c1c4-fb89512b9037"
      },
      "execution_count": null,
      "outputs": [
        {
          "output_type": "execute_result",
          "data": {
            "text/plain": [
              "<matplotlib.legend.Legend at 0x7fc13af1a390>"
            ]
          },
          "metadata": {},
          "execution_count": 106
        },
        {
          "output_type": "display_data",
          "data": {
            "text/plain": [
              "<Figure size 432x288 with 1 Axes>"
            ],
            "image/png": "[encoded data removed]"
          },
          "metadata": {
            "needs_background": "light"
          }
        }
      ]
    },
    {
      "cell_type": "markdown",
      "source": [
        "# Data preprocessing"
      ],
      "metadata": {
        "id": "3kZtU6BZJtu9"
      }
    },
    {
      "cell_type": "code",
      "source": [
        "EEG_data_set = pd.read_csv('Epileptic Seizure Recognition.csv')"
      ],
      "metadata": {
        "id": "h7w0mzqlaqBi"
      },
      "execution_count": null,
      "outputs": []
    },
    {
      "cell_type": "code",
      "source": [
        "EEG_data_set.isnull().sum()"
      ],
      "metadata": {
        "colab": {
          "base_uri": "https://localhost:8080/"
        },
        "id": "VNJqsYt9JlTj",
        "outputId": "7fd77933-9230-44e0-80a8-8787b0362684"
      },
      "execution_count": null,
      "outputs": [
        {
          "output_type": "execute_result",
          "data": {
            "text/plain": [
              "Unnamed    0\n",
              "X1         0\n",
              "X2         0\n",
              "X3         0\n",
              "X4         0\n",
              "          ..\n",
              "X175       0\n",
              "X176       0\n",
              "X177       0\n",
              "X178       0\n",
              "y          0\n",
              "Length: 180, dtype: int64"
            ]
          },
          "metadata": {},
          "execution_count": 108
        }
      ]
    },
    {
      "cell_type": "code",
      "source": [
        "EEG_data_set.head()"
      ],
      "metadata": {
        "colab": {
          "base_uri": "https://localhost:8080/",
          "height": 235
        },
        "id": "c7UJ3HdwasXg",
        "outputId": "a2a54a1e-30ca-457b-93b6-57c43b17bc24"
      },
      "execution_count": null,
      "outputs": [
        {
          "output_type": "execute_result",
          "data": {
            "text/plain": [
              "      Unnamed   X1   X2   X3   X4   X5   X6   X7   X8   X9  ...  X170  X171  \\\n",
              "0  X21.V1.791  135  190  229  223  192  125   55   -9  -33  ...   -17   -15   \n",
              "1  X15.V1.924  386  382  356  331  320  315  307  272  244  ...   164   150   \n",
              "2     X8.V1.1  -32  -39  -47  -37  -32  -36  -57  -73  -85  ...    57    64   \n",
              "3   X16.V1.60 -105 -101  -96  -92  -89  -95 -102 -100  -87  ...   -82   -81   \n",
              "4   X20.V1.54   -9  -65  -98 -102  -78  -48  -16    0  -21  ...     4     2   \n",
              "\n",
              "   X172  X173  X174  X175  X176  X177  X178  y  \n",
              "0   -31   -77  -103  -127  -116   -83   -51  4  \n",
              "1   146   152   157   156   154   143   129  1  \n",
              "2    48    19   -12   -30   -35   -35   -36  5  \n",
              "3   -80   -77   -85   -77   -72   -69   -65  5  \n",
              "4   -12   -32   -41   -65   -83   -89   -73  5  \n",
              "\n",
              "[5 rows x 180 columns]"
            ],
            "text/html": [
              "\n",
              "  <div id=\"df-4b0d1416-ca30-4d71-8922-c284e52d7807\">\n",
              "    <div class=\"colab-df-container\">\n",
              "      <div>\n",
              "<style scoped>\n",
              "    .dataframe tbody tr th:only-of-type {\n",
              "        vertical-align: middle;\n",
              "    }\n",
              "\n",
              "    .dataframe tbody tr th {\n",
              "        vertical-align: top;\n",
              "    }\n",
              "\n",
              "    .dataframe thead th {\n",
              "        text-align: right;\n",
              "    }\n",
              "</style>\n",
              "<table border=\"1\" class=\"dataframe\">\n",
              "  <thead>\n",
              "    <tr style=\"text-align: right;\">\n",
              "      <th></th>\n",
              "      <th>Unnamed</th>\n",
              "      <th>X1</th>\n",
              "      <th>X2</th>\n",
              "      <th>X3</th>\n",
              "      <th>X4</th>\n",
              "      <th>X5</th>\n",
              "      <th>X6</th>\n",
              "      <th>X7</th>\n",
              "      <th>X8</th>\n",
              "      <th>X9</th>\n",
              "      <th>...</th>\n",
              "      <th>X170</th>\n",
              "      <th>X171</th>\n",
              "      <th>X172</th>\n",
              "      <th>X173</th>\n",
              "      <th>X174</th>\n",
              "      <th>X175</th>\n",
              "      <th>X176</th>\n",
              "      <th>X177</th>\n",
              "      <th>X178</th>\n",
              "      <th>y</th>\n",
              "    </tr>\n",
              "  </thead>\n",
              "  <tbody>\n",
              "    <tr>\n",
              "      <th>0</th>\n",
              "      <td>X21.V1.791</td>\n",
              "      <td>135</td>\n",
              "      <td>190</td>\n",
              "      <td>229</td>\n",
              "      <td>223</td>\n",
              "      <td>192</td>\n",
              "      <td>125</td>\n",
              "      <td>55</td>\n",
              "      <td>-9</td>\n",
              "      <td>-33</td>\n",
              "      <td>...</td>\n",
              "      <td>-17</td>\n",
              "      <td>-15</td>\n",
              "      <td>-31</td>\n",
              "      <td>-77</td>\n",
              "      <td>-103</td>\n",
              "      <td>-127</td>\n",
              "      <td>-116</td>\n",
              "      <td>-83</td>\n",
              "      <td>-51</td>\n",
              "      <td>4</td>\n",
              "    </tr>\n",
              "    <tr>\n",
              "      <th>1</th>\n",
              "      <td>X15.V1.924</td>\n",
              "      <td>386</td>\n",
              "      <td>382</td>\n",
              "      <td>356</td>\n",
              "      <td>331</td>\n",
              "      <td>320</td>\n",
              "      <td>315</td>\n",
              "      <td>307</td>\n",
              "      <td>272</td>\n",
              "      <td>244</td>\n",
              "      <td>...</td>\n",
              "      <td>164</td>\n",
              "      <td>150</td>\n",
              "      <td>146</td>\n",
              "      <td>152</td>\n",
              "      <td>157</td>\n",
              "      <td>156</td>\n",
              "      <td>154</td>\n",
              "      <td>143</td>\n",
              "      <td>129</td>\n",
              "      <td>1</td>\n",
              "    </tr>\n",
              "    <tr>\n",
              "      <th>2</th>\n",
              "      <td>X8.V1.1</td>\n",
              "      <td>-32</td>\n",
              "      <td>-39</td>\n",
              "      <td>-47</td>\n",
              "      <td>-37</td>\n",
              "      <td>-32</td>\n",
              "      <td>-36</td>\n",
              "      <td>-57</td>\n",
              "      <td>-73</td>\n",
              "      <td>-85</td>\n",
              "      <td>...</td>\n",
              "      <td>57</td>\n",
              "      <td>64</td>\n",
              "      <td>48</td>\n",
              "      <td>19</td>\n",
              "      <td>-12</td>\n",
              "      <td>-30</td>\n",
              "      <td>-35</td>\n",
              "      <td>-35</td>\n",
              "      <td>-36</td>\n",
              "      <td>5</td>\n",
              "    </tr>\n",
              "    <tr>\n",
              "      <th>3</th>\n",
              "      <td>X16.V1.60</td>\n",
              "      <td>-105</td>\n",
              "      <td>-101</td>\n",
              "      <td>-96</td>\n",
              "      <td>-92</td>\n",
              "      <td>-89</td>\n",
              "      <td>-95</td>\n",
              "      <td>-102</td>\n",
              "      <td>-100</td>\n",
              "      <td>-87</td>\n",
              "      <td>...</td>\n",
              "      <td>-82</td>\n",
              "      <td>-81</td>\n",
              "      <td>-80</td>\n",
              "      <td>-77</td>\n",
              "      <td>-85</td>\n",
              "      <td>-77</td>\n",
              "      <td>-72</td>\n",
              "      <td>-69</td>\n",
              "      <td>-65</td>\n",
              "      <td>5</td>\n",
              "    </tr>\n",
              "    <tr>\n",
              "      <th>4</th>\n",
              "      <td>X20.V1.54</td>\n",
              "      <td>-9</td>\n",
              "      <td>-65</td>\n",
              "      <td>-98</td>\n",
              "      <td>-102</td>\n",
              "      <td>-78</td>\n",
              "      <td>-48</td>\n",
              "      <td>-16</td>\n",
              "      <td>0</td>\n",
              "      <td>-21</td>\n",
              "      <td>...</td>\n",
              "      <td>4</td>\n",
              "      <td>2</td>\n",
              "      <td>-12</td>\n",
              "      <td>-32</td>\n",
              "      <td>-41</td>\n",
              "      <td>-65</td>\n",
              "      <td>-83</td>\n",
              "      <td>-89</td>\n",
              "      <td>-73</td>\n",
              "      <td>5</td>\n",
              "    </tr>\n",
              "  </tbody>\n",
              "</table>\n",
              "<p>5 rows × 180 columns</p>\n",
              "</div>\n",
              "      <button class=\"colab-df-convert\" onclick=\"convertToInteractive('df-4b0d1416-ca30-4d71-8922-c284e52d7807')\"\n",
              "              title=\"Convert this dataframe to an interactive table.\"\n",
              "              style=\"display:none;\">\n",
              "        \n",
              "  <svg xmlns=\"http://www.w3.org/2000/svg\" height=\"24px\"viewBox=\"0 0 24 24\"\n",
              "       width=\"24px\">\n",
              "    <path d=\"M0 0h24v24H0V0z\" fill=\"none\"/>\n",
              "    <path d=\"M18.56 5.44l.94 2.06.94-2.06 2.06-.94-2.06-.94-.94-2.06-.94 2.06-2.06.94zm-11 1L8.5 8.5l.94-2.06 2.06-.94-2.06-.94L8.5 2.5l-.94 2.06-2.06.94zm10 10l.94 2.06.94-2.06 2.06-.94-2.06-.94-.94-2.06-.94 2.06-2.06.94z\"/><path d=\"M17.41 7.96l-1.37-1.37c-.4-.4-.92-.59-1.43-.59-.52 0-1.04.2-1.43.59L10.3 9.45l-7.72 7.72c-.78.78-.78 2.05 0 2.83L4 21.41c.39.39.9.59 1.41.59.51 0 1.02-.2 1.41-.59l7.78-7.78 2.81-2.81c.8-.78.8-2.07 0-2.86zM5.41 20L4 18.59l7.72-7.72 1.47 1.35L5.41 20z\"/>\n",
              "  </svg>\n",
              "      </button>\n",
              "      \n",
              "  <style>\n",
              "    .colab-df-container {\n",
              "      display:flex;\n",
              "      flex-wrap:wrap;\n",
              "      gap: 12px;\n",
              "    }\n",
              "\n",
              "    .colab-df-convert {\n",
              "      background-color: #E8F0FE;\n",
              "      border: none;\n",
              "      border-radius: 50%;\n",
              "      cursor: pointer;\n",
              "      display: none;\n",
              "      fill: #1967D2;\n",
              "      height: 32px;\n",
              "      padding: 0 0 0 0;\n",
              "      width: 32px;\n",
              "    }\n",
              "\n",
              "    .colab-df-convert:hover {\n",
              "      background-color: #E2EBFA;\n",
              "      box-shadow: 0px 1px 2px rgba(60, 64, 67, 0.3), 0px 1px 3px 1px rgba(60, 64, 67, 0.15);\n",
              "      fill: #174EA6;\n",
              "    }\n",
              "\n",
              "    [theme=dark] .colab-df-convert {\n",
              "      background-color: #3B4455;\n",
              "      fill: #D2E3FC;\n",
              "    }\n",
              "\n",
              "    [theme=dark] .colab-df-convert:hover {\n",
              "      background-color: #434B5C;\n",
              "      box-shadow: 0px 1px 3px 1px rgba(0, 0, 0, 0.15);\n",
              "      filter: drop-shadow(0px 1px 2px rgba(0, 0, 0, 0.3));\n",
              "      fill: #FFFFFF;\n",
              "    }\n",
              "  </style>\n",
              "\n",
              "      <script>\n",
              "        const buttonEl =\n",
              "          document.querySelector('#df-4b0d1416-ca30-4d71-8922-c284e52d7807 button.colab-df-convert');\n",
              "        buttonEl.style.display =\n",
              "          google.colab.kernel.accessAllowed ? 'block' : 'none';\n",
              "\n",
              "        async function convertToInteractive(key) {\n",
              "          const element = document.querySelector('#df-4b0d1416-ca30-4d71-8922-c284e52d7807');\n",
              "          const dataTable =\n",
              "            await google.colab.kernel.invokeFunction('convertToInteractive',\n",
              "                                                     [key], {});\n",
              "          if (!dataTable) return;\n",
              "\n",
              "          const docLinkHtml = 'Like what you see? Visit the ' +\n",
              "            '<a target=\"_blank\" href=https://colab.research.google.com/notebooks/data_table.ipynb>data table notebook</a>'\n",
              "            + ' to learn more about interactive tables.';\n",
              "          element.innerHTML = '';\n",
              "          dataTable['output_type'] = 'display_data';\n",
              "          await google.colab.output.renderOutput(dataTable, element);\n",
              "          const docLink = document.createElement('div');\n",
              "          docLink.innerHTML = docLinkHtml;\n",
              "          element.appendChild(docLink);\n",
              "        }\n",
              "      </script>\n",
              "    </div>\n",
              "  </div>\n",
              "  "
            ]
          },
          "metadata": {},
          "execution_count": 109
        }
      ]
    },
    {
      "cell_type": "code",
      "source": [
        "EEG_data_set.drop('Unnamed',1)"
      ],
      "metadata": {
        "colab": {
          "base_uri": "https://localhost:8080/",
          "height": 480
        },
        "id": "oI7x3Y6XbhGS",
        "outputId": "d5a24728-e6ab-4ef5-dd3f-6fc47f5d5456"
      },
      "execution_count": null,
      "outputs": [
        {
          "output_type": "stream",
          "name": "stderr",
          "text": [
            "/usr/local/lib/python3.7/dist-packages/ipykernel_launcher.py:1: FutureWarning: In a future version of pandas all arguments of DataFrame.drop except for the argument 'labels' will be keyword-only\n",
            "  \"\"\"Entry point for launching an IPython kernel.\n"
          ]
        },
        {
          "output_type": "execute_result",
          "data": {
            "text/plain": [
              "        X1   X2   X3   X4   X5   X6   X7   X8   X9  X10  ...  X170  X171  \\\n",
              "0      135  190  229  223  192  125   55   -9  -33  -38  ...   -17   -15   \n",
              "1      386  382  356  331  320  315  307  272  244  232  ...   164   150   \n",
              "2      -32  -39  -47  -37  -32  -36  -57  -73  -85  -94  ...    57    64   \n",
              "3     -105 -101  -96  -92  -89  -95 -102 -100  -87  -79  ...   -82   -81   \n",
              "4       -9  -65  -98 -102  -78  -48  -16    0  -21  -59  ...     4     2   \n",
              "...    ...  ...  ...  ...  ...  ...  ...  ...  ...  ...  ...   ...   ...   \n",
              "11495  -22  -22  -23  -26  -36  -42  -45  -42  -45  -49  ...    15    16   \n",
              "11496  -47  -11   28   77  141  211  246  240  193  136  ...   -65   -33   \n",
              "11497   14    6  -13  -16   10   26   27   -9    4   14  ...   -65   -48   \n",
              "11498  -40  -25   -9  -12   -2   12    7   19   22   29  ...   121   135   \n",
              "11499   29   41   57   72   74   62   54   43   31   23  ...   -59   -25   \n",
              "\n",
              "       X172  X173  X174  X175  X176  X177  X178  y  \n",
              "0       -31   -77  -103  -127  -116   -83   -51  4  \n",
              "1       146   152   157   156   154   143   129  1  \n",
              "2        48    19   -12   -30   -35   -35   -36  5  \n",
              "3       -80   -77   -85   -77   -72   -69   -65  5  \n",
              "4       -12   -32   -41   -65   -83   -89   -73  5  \n",
              "...     ...   ...   ...   ...   ...   ...   ... ..  \n",
              "11495    12     5    -1   -18   -37   -47   -48  2  \n",
              "11496    -7    14    27    48    77   117   170  1  \n",
              "11497   -61   -62   -67   -30    -2    -1    -8  5  \n",
              "11498   148   143   116    86    68    59    55  3  \n",
              "11499    -4     2     5     4    -2     2    20  4  \n",
              "\n",
              "[11500 rows x 179 columns]"
            ],
            "text/html": [
              "\n",
              "  <div id=\"df-896883c9-05fe-4b9c-8467-ffad318b1e2c\">\n",
              "    <div class=\"colab-df-container\">\n",
              "      <div>\n",
              "<style scoped>\n",
              "    .dataframe tbody tr th:only-of-type {\n",
              "        vertical-align: middle;\n",
              "    }\n",
              "\n",
              "    .dataframe tbody tr th {\n",
              "        vertical-align: top;\n",
              "    }\n",
              "\n",
              "    .dataframe thead th {\n",
              "        text-align: right;\n",
              "    }\n",
              "</style>\n",
              "<table border=\"1\" class=\"dataframe\">\n",
              "  <thead>\n",
              "    <tr style=\"text-align: right;\">\n",
              "      <th></th>\n",
              "      <th>X1</th>\n",
              "      <th>X2</th>\n",
              "      <th>X3</th>\n",
              "      <th>X4</th>\n",
              "      <th>X5</th>\n",
              "      <th>X6</th>\n",
              "      <th>X7</th>\n",
              "      <th>X8</th>\n",
              "      <th>X9</th>\n",
              "      <th>X10</th>\n",
              "      <th>...</th>\n",
              "      <th>X170</th>\n",
              "      <th>X171</th>\n",
              "      <th>X172</th>\n",
              "      <th>X173</th>\n",
              "      <th>X174</th>\n",
              "      <th>X175</th>\n",
              "      <th>X176</th>\n",
              "      <th>X177</th>\n",
              "      <th>X178</th>\n",
              "      <th>y</th>\n",
              "    </tr>\n",
              "  </thead>\n",
              "  <tbody>\n",
              "    <tr>\n",
              "      <th>0</th>\n",
              "      <td>135</td>\n",
              "      <td>190</td>\n",
              "      <td>229</td>\n",
              "      <td>223</td>\n",
              "      <td>192</td>\n",
              "      <td>125</td>\n",
              "      <td>55</td>\n",
              "      <td>-9</td>\n",
              "      <td>-33</td>\n",
              "      <td>-38</td>\n",
              "      <td>...</td>\n",
              "      <td>-17</td>\n",
              "      <td>-15</td>\n",
              "      <td>-31</td>\n",
              "      <td>-77</td>\n",
              "      <td>-103</td>\n",
              "      <td>-127</td>\n",
              "      <td>-116</td>\n",
              "      <td>-83</td>\n",
              "      <td>-51</td>\n",
              "      <td>4</td>\n",
              "    </tr>\n",
              "    <tr>\n",
              "      <th>1</th>\n",
              "      <td>386</td>\n",
              "      <td>382</td>\n",
              "      <td>356</td>\n",
              "      <td>331</td>\n",
              "      <td>320</td>\n",
              "      <td>315</td>\n",
              "      <td>307</td>\n",
              "      <td>272</td>\n",
              "      <td>244</td>\n",
              "      <td>232</td>\n",
              "      <td>...</td>\n",
              "      <td>164</td>\n",
              "      <td>150</td>\n",
              "      <td>146</td>\n",
              "      <td>152</td>\n",
              "      <td>157</td>\n",
              "      <td>156</td>\n",
              "      <td>154</td>\n",
              "      <td>143</td>\n",
              "      <td>129</td>\n",
              "      <td>1</td>\n",
              "    </tr>\n",
              "    <tr>\n",
              "      <th>2</th>\n",
              "      <td>-32</td>\n",
              "      <td>-39</td>\n",
              "      <td>-47</td>\n",
              "      <td>-37</td>\n",
              "      <td>-32</td>\n",
              "      <td>-36</td>\n",
              "      <td>-57</td>\n",
              "      <td>-73</td>\n",
              "      <td>-85</td>\n",
              "      <td>-94</td>\n",
              "      <td>...</td>\n",
              "      <td>57</td>\n",
              "      <td>64</td>\n",
              "      <td>48</td>\n",
              "      <td>19</td>\n",
              "      <td>-12</td>\n",
              "      <td>-30</td>\n",
              "      <td>-35</td>\n",
              "      <td>-35</td>\n",
              "      <td>-36</td>\n",
              "      <td>5</td>\n",
              "    </tr>\n",
              "    <tr>\n",
              "      <th>3</th>\n",
              "      <td>-105</td>\n",
              "      <td>-101</td>\n",
              "      <td>-96</td>\n",
              "      <td>-92</td>\n",
              "      <td>-89</td>\n",
              "      <td>-95</td>\n",
              "      <td>-102</td>\n",
              "      <td>-100</td>\n",
              "      <td>-87</td>\n",
              "      <td>-79</td>\n",
              "      <td>...</td>\n",
              "      <td>-82</td>\n",
              "      <td>-81</td>\n",
              "      <td>-80</td>\n",
              "      <td>-77</td>\n",
              "      <td>-85</td>\n",
              "      <td>-77</td>\n",
              "      <td>-72</td>\n",
              "      <td>-69</td>\n",
              "      <td>-65</td>\n",
              "      <td>5</td>\n",
              "    </tr>\n",
              "    <tr>\n",
              "      <th>4</th>\n",
              "      <td>-9</td>\n",
              "      <td>-65</td>\n",
              "      <td>-98</td>\n",
              "      <td>-102</td>\n",
              "      <td>-78</td>\n",
              "      <td>-48</td>\n",
              "      <td>-16</td>\n",
              "      <td>0</td>\n",
              "      <td>-21</td>\n",
              "      <td>-59</td>\n",
              "      <td>...</td>\n",
              "      <td>4</td>\n",
              "      <td>2</td>\n",
              "      <td>-12</td>\n",
              "      <td>-32</td>\n",
              "      <td>-41</td>\n",
              "      <td>-65</td>\n",
              "      <td>-83</td>\n",
              "      <td>-89</td>\n",
              "      <td>-73</td>\n",
              "      <td>5</td>\n",
              "    </tr>\n",
              "    <tr>\n",
              "      <th>...</th>\n",
              "      <td>...</td>\n",
              "      <td>...</td>\n",
              "      <td>...</td>\n",
              "      <td>...</td>\n",
              "      <td>...</td>\n",
              "      <td>...</td>\n",
              "      <td>...</td>\n",
              "      <td>...</td>\n",
              "      <td>...</td>\n",
              "      <td>...</td>\n",
              "      <td>...</td>\n",
              "      <td>...</td>\n",
              "      <td>...</td>\n",
              "      <td>...</td>\n",
              "      <td>...</td>\n",
              "      <td>...</td>\n",
              "      <td>...</td>\n",
              "      <td>...</td>\n",
              "      <td>...</td>\n",
              "      <td>...</td>\n",
              "      <td>...</td>\n",
              "    </tr>\n",
              "    <tr>\n",
              "      <th>11495</th>\n",
              "      <td>-22</td>\n",
              "      <td>-22</td>\n",
              "      <td>-23</td>\n",
              "      <td>-26</td>\n",
              "      <td>-36</td>\n",
              "      <td>-42</td>\n",
              "      <td>-45</td>\n",
              "      <td>-42</td>\n",
              "      <td>-45</td>\n",
              "      <td>-49</td>\n",
              "      <td>...</td>\n",
              "      <td>15</td>\n",
              "      <td>16</td>\n",
              "      <td>12</td>\n",
              "      <td>5</td>\n",
              "      <td>-1</td>\n",
              "      <td>-18</td>\n",
              "      <td>-37</td>\n",
              "      <td>-47</td>\n",
              "      <td>-48</td>\n",
              "      <td>2</td>\n",
              "    </tr>\n",
              "    <tr>\n",
              "      <th>11496</th>\n",
              "      <td>-47</td>\n",
              "      <td>-11</td>\n",
              "      <td>28</td>\n",
              "      <td>77</td>\n",
              "      <td>141</td>\n",
              "      <td>211</td>\n",
              "      <td>246</td>\n",
              "      <td>240</td>\n",
              "      <td>193</td>\n",
              "      <td>136</td>\n",
              "      <td>...</td>\n",
              "      <td>-65</td>\n",
              "      <td>-33</td>\n",
              "      <td>-7</td>\n",
              "      <td>14</td>\n",
              "      <td>27</td>\n",
              "      <td>48</td>\n",
              "      <td>77</td>\n",
              "      <td>117</td>\n",
              "      <td>170</td>\n",
              "      <td>1</td>\n",
              "    </tr>\n",
              "    <tr>\n",
              "      <th>11497</th>\n",
              "      <td>14</td>\n",
              "      <td>6</td>\n",
              "      <td>-13</td>\n",
              "      <td>-16</td>\n",
              "      <td>10</td>\n",
              "      <td>26</td>\n",
              "      <td>27</td>\n",
              "      <td>-9</td>\n",
              "      <td>4</td>\n",
              "      <td>14</td>\n",
              "      <td>...</td>\n",
              "      <td>-65</td>\n",
              "      <td>-48</td>\n",
              "      <td>-61</td>\n",
              "      <td>-62</td>\n",
              "      <td>-67</td>\n",
              "      <td>-30</td>\n",
              "      <td>-2</td>\n",
              "      <td>-1</td>\n",
              "      <td>-8</td>\n",
              "      <td>5</td>\n",
              "    </tr>\n",
              "    <tr>\n",
              "      <th>11498</th>\n",
              "      <td>-40</td>\n",
              "      <td>-25</td>\n",
              "      <td>-9</td>\n",
              "      <td>-12</td>\n",
              "      <td>-2</td>\n",
              "      <td>12</td>\n",
              "      <td>7</td>\n",
              "      <td>19</td>\n",
              "      <td>22</td>\n",
              "      <td>29</td>\n",
              "      <td>...</td>\n",
              "      <td>121</td>\n",
              "      <td>135</td>\n",
              "      <td>148</td>\n",
              "      <td>143</td>\n",
              "      <td>116</td>\n",
              "      <td>86</td>\n",
              "      <td>68</td>\n",
              "      <td>59</td>\n",
              "      <td>55</td>\n",
              "      <td>3</td>\n",
              "    </tr>\n",
              "    <tr>\n",
              "      <th>11499</th>\n",
              "      <td>29</td>\n",
              "      <td>41</td>\n",
              "      <td>57</td>\n",
              "      <td>72</td>\n",
              "      <td>74</td>\n",
              "      <td>62</td>\n",
              "      <td>54</td>\n",
              "      <td>43</td>\n",
              "      <td>31</td>\n",
              "      <td>23</td>\n",
              "      <td>...</td>\n",
              "      <td>-59</td>\n",
              "      <td>-25</td>\n",
              "      <td>-4</td>\n",
              "      <td>2</td>\n",
              "      <td>5</td>\n",
              "      <td>4</td>\n",
              "      <td>-2</td>\n",
              "      <td>2</td>\n",
              "      <td>20</td>\n",
              "      <td>4</td>\n",
              "    </tr>\n",
              "  </tbody>\n",
              "</table>\n",
              "<p>11500 rows × 179 columns</p>\n",
              "</div>\n",
              "      <button class=\"colab-df-convert\" onclick=\"convertToInteractive('df-896883c9-05fe-4b9c-8467-ffad318b1e2c')\"\n",
              "              title=\"Convert this dataframe to an interactive table.\"\n",
              "              style=\"display:none;\">\n",
              "        \n",
              "  <svg xmlns=\"http://www.w3.org/2000/svg\" height=\"24px\"viewBox=\"0 0 24 24\"\n",
              "       width=\"24px\">\n",
              "    <path d=\"M0 0h24v24H0V0z\" fill=\"none\"/>\n",
              "    <path d=\"M18.56 5.44l.94 2.06.94-2.06 2.06-.94-2.06-.94-.94-2.06-.94 2.06-2.06.94zm-11 1L8.5 8.5l.94-2.06 2.06-.94-2.06-.94L8.5 2.5l-.94 2.06-2.06.94zm10 10l.94 2.06.94-2.06 2.06-.94-2.06-.94-.94-2.06-.94 2.06-2.06.94z\"/><path d=\"M17.41 7.96l-1.37-1.37c-.4-.4-.92-.59-1.43-.59-.52 0-1.04.2-1.43.59L10.3 9.45l-7.72 7.72c-.78.78-.78 2.05 0 2.83L4 21.41c.39.39.9.59 1.41.59.51 0 1.02-.2 1.41-.59l7.78-7.78 2.81-2.81c.8-.78.8-2.07 0-2.86zM5.41 20L4 18.59l7.72-7.72 1.47 1.35L5.41 20z\"/>\n",
              "  </svg>\n",
              "      </button>\n",
              "      \n",
              "  <style>\n",
              "    .colab-df-container {\n",
              "      display:flex;\n",
              "      flex-wrap:wrap;\n",
              "      gap: 12px;\n",
              "    }\n",
              "\n",
              "    .colab-df-convert {\n",
              "      background-color: #E8F0FE;\n",
              "      border: none;\n",
              "      border-radius: 50%;\n",
              "      cursor: pointer;\n",
              "      display: none;\n",
              "      fill: #1967D2;\n",
              "      height: 32px;\n",
              "      padding: 0 0 0 0;\n",
              "      width: 32px;\n",
              "    }\n",
              "\n",
              "    .colab-df-convert:hover {\n",
              "      background-color: #E2EBFA;\n",
              "      box-shadow: 0px 1px 2px rgba(60, 64, 67, 0.3), 0px 1px 3px 1px rgba(60, 64, 67, 0.15);\n",
              "      fill: #174EA6;\n",
              "    }\n",
              "\n",
              "    [theme=dark] .colab-df-convert {\n",
              "      background-color: #3B4455;\n",
              "      fill: #D2E3FC;\n",
              "    }\n",
              "\n",
              "    [theme=dark] .colab-df-convert:hover {\n",
              "      background-color: #434B5C;\n",
              "      box-shadow: 0px 1px 3px 1px rgba(0, 0, 0, 0.15);\n",
              "      filter: drop-shadow(0px 1px 2px rgba(0, 0, 0, 0.3));\n",
              "      fill: #FFFFFF;\n",
              "    }\n",
              "  </style>\n",
              "\n",
              "      <script>\n",
              "        const buttonEl =\n",
              "          document.querySelector('#df-896883c9-05fe-4b9c-8467-ffad318b1e2c button.colab-df-convert');\n",
              "        buttonEl.style.display =\n",
              "          google.colab.kernel.accessAllowed ? 'block' : 'none';\n",
              "\n",
              "        async function convertToInteractive(key) {\n",
              "          const element = document.querySelector('#df-896883c9-05fe-4b9c-8467-ffad318b1e2c');\n",
              "          const dataTable =\n",
              "            await google.colab.kernel.invokeFunction('convertToInteractive',\n",
              "                                                     [key], {});\n",
              "          if (!dataTable) return;\n",
              "\n",
              "          const docLinkHtml = 'Like what you see? Visit the ' +\n",
              "            '<a target=\"_blank\" href=https://colab.research.google.com/notebooks/data_table.ipynb>data table notebook</a>'\n",
              "            + ' to learn more about interactive tables.';\n",
              "          element.innerHTML = '';\n",
              "          dataTable['output_type'] = 'display_data';\n",
              "          await google.colab.output.renderOutput(dataTable, element);\n",
              "          const docLink = document.createElement('div');\n",
              "          docLink.innerHTML = docLinkHtml;\n",
              "          element.appendChild(docLink);\n",
              "        }\n",
              "      </script>\n",
              "    </div>\n",
              "  </div>\n",
              "  "
            ]
          },
          "metadata": {},
          "execution_count": 110
        }
      ]
    },
    {
      "cell_type": "code",
      "source": [
        "pip install hurst #installing hurst module to get hurst values"
      ],
      "metadata": {
        "id": "2unThKlTbqOB",
        "colab": {
          "base_uri": "https://localhost:8080/"
        },
        "outputId": "43efec9f-e15d-4f93-ca83-e39dd03e0738"
      },
      "execution_count": null,
      "outputs": [
        {
          "output_type": "stream",
          "name": "stdout",
          "text": [
            "Looking in indexes: https://pypi.org/simple, https://us-python.pkg.dev/colab-wheels/public/simple/\n",
            "Requirement already satisfied: hurst in /usr/local/lib/python3.7/dist-packages (0.0.5)\n",
            "Requirement already satisfied: numpy>=1.10 in /usr/local/lib/python3.7/dist-packages (from hurst) (1.21.6)\n",
            "Requirement already satisfied: pandas>=0.18 in /usr/local/lib/python3.7/dist-packages (from hurst) (1.3.5)\n",
            "Requirement already satisfied: python-dateutil>=2.7.3 in /usr/local/lib/python3.7/dist-packages (from pandas>=0.18->hurst) (2.8.2)\n",
            "Requirement already satisfied: pytz>=2017.3 in /usr/local/lib/python3.7/dist-packages (from pandas>=0.18->hurst) (2022.6)\n",
            "Requirement already satisfied: six>=1.5 in /usr/local/lib/python3.7/dist-packages (from python-dateutil>=2.7.3->pandas>=0.18->hurst) (1.15.0)\n"
          ]
        }
      ]
    },
    {
      "cell_type": "code",
      "source": [
        "import pywt #importing pywt for getting wavelet transform features\n",
        "from hurst import compute_Hc"
      ],
      "metadata": {
        "id": "wdVq_tcvn7Bc"
      },
      "execution_count": null,
      "outputs": []
    },
    {
      "cell_type": "code",
      "source": [
        "def getHurst(df_copy):\n",
        "  df_copy[\"hurst_ex\"]=[compute_Hc(df_copy.iloc[i], kind=\"change\", simplified=True)[0] for i in range(len(df_copy))]\n",
        "  df_copy[\"hurst_c\"]=[compute_Hc(df_copy.iloc[i], kind=\"change\", simplified=True)[1] for i in range(len(df_copy))]\n",
        "  return df_copy\n",
        "\n",
        "\n",
        "def getStatsForHurst(df_copy):\n",
        "  plt.scatter(df_copy[\"hurst_ex\"],target)\n",
        "  print(\"mean value of hurst exponent for class 1:\",np.mean(df_copy.iloc[target[target==1].index][\"hurst_ex\"]))\n",
        "  print(\"mean value of hurst exponent for class 0:\",np.mean(df_copy.iloc[target[target==0].index][\"hurst_ex\"]))\n",
        "  print(\"mean value of hurst constant for class 1:\",np.mean(df_copy.iloc[target[target==1].index][\"hurst_c\"]))\n",
        "  print(\"mean value of hurst constant for class 0:\",np.mean(df_copy.iloc[target[target==0].index][\"hurst_c\"]))\n",
        "  print(\"median value of hurst exponent for class 1:\",np.median(df_copy.iloc[target[target==1].index][\"hurst_ex\"]))\n",
        "  print(\"median value of hurst exponent for class 0:\",np.median(df_copy.iloc[target[target==0].index][\"hurst_ex\"]))\n",
        "  print(\"median value of hurst constant for class 1:\",np.median(df_copy.iloc[target[target==1].index][\"hurst_c\"]))\n",
        "  print(\"median value of hurst constant for class 0:\",np.median(df_copy.iloc[target[target==0].index][\"hurst_c\"]))"
      ],
      "metadata": {
        "id": "ZCtx34ptn9cF"
      },
      "execution_count": null,
      "outputs": []
    },
    {
      "cell_type": "code",
      "source": [
        "#These methods create a new dataset with wavelet transform\n",
        "#In getWaveletFeatures method, i get a group of wavelet coeffient and hurst exponent and the constant for all instance \n",
        "#give these values to statisticsForWavelet function to get coeffients quartiles,mean,median,standart deviation,variance,root mean square and some other values.\n",
        "#Lastly createDfWavelet method give all these values and return a new dataframe\n",
        "def getWaveletFeatures(data,target):\n",
        "    list_features = []\n",
        "    for signal in range(len(data)):\n",
        "        list_coeff = pywt.wavedec(data.iloc[signal], \"db4\")\n",
        "        features = []\n",
        "        features.append(data.iloc[signal][\"hurst_ex\"])\n",
        "        features.append(data.iloc[signal][\"hurst_c\"])\n",
        "        for coeff in list_coeff:\n",
        "            features += statisticsForWavelet(coeff)\n",
        "        list_features.append(features)\n",
        "    return createDfWavelet(list_features,target)\n",
        "#This method taken from [9]\n",
        "def statisticsForWavelet(coefs):\n",
        "    n5 = np.nanpercentile(coefs, 5)\n",
        "    n25 = np.nanpercentile(coefs, 25)\n",
        "    n75 = np.nanpercentile(coefs, 75)\n",
        "    n95 = np.nanpercentile(coefs, 95)\n",
        "    median = np.nanpercentile(coefs, 50)\n",
        "    mean = np.nanmean(coefs)\n",
        "    std = np.nanstd(coefs)\n",
        "    var = np.nanvar(coefs)\n",
        "    rms = np.nanmean(np.sqrt(coefs**2))\n",
        "    return [n5, n25, n75, n95, median, mean, std, var, rms]\n",
        "\n",
        "def createDfWavelet(data,target):\n",
        "  for i in range(len(data)):\n",
        "    data[i].append(target[i])\n",
        "  return pd.DataFrame(data)        "
      ],
      "metadata": {
        "id": "Q61ytsMjoBvc"
      },
      "execution_count": null,
      "outputs": []
    },
    {
      "cell_type": "code",
      "source": [
        "#These methods create a new dataset with wavelet transform\n",
        "#In getWaveletFeatures method, i get a group of wavelet coeffient and hurst exponent and the constant for all instance \n",
        "#give these values to statisticsForWavelet function to get coeffients quartiles,mean,median,standart deviation,variance,root mean square and some other values.\n",
        "#Lastly createDfWavelet method give all these values and return a new dataframe\n",
        "def getWaveletFeatures(data,target):\n",
        "    list_features = []\n",
        "    for signal in range(len(data)):\n",
        "        list_coeff = pywt.wavedec(data.iloc[signal], \"db4\")\n",
        "        features = []\n",
        "        features.append(data.iloc[signal][\"hurst_ex\"])\n",
        "        features.append(data.iloc[signal][\"hurst_c\"])\n",
        "        for coeff in list_coeff:\n",
        "            features += statisticsForWavelet(coeff)\n",
        "        list_features.append(features)\n",
        "    return createDfWavelet(list_features,target)\n",
        "#This method taken from [9]\n",
        "def statisticsForWavelet(coefs):\n",
        "    n5 = np.nanpercentile(coefs, 5)\n",
        "    n25 = np.nanpercentile(coefs, 25)\n",
        "    n75 = np.nanpercentile(coefs, 75)\n",
        "    n95 = np.nanpercentile(coefs, 95)\n",
        "    median = np.nanpercentile(coefs, 50)\n",
        "    mean = np.nanmean(coefs)\n",
        "    std = np.nanstd(coefs)\n",
        "    var = np.nanvar(coefs)\n",
        "    rms = np.nanmean(np.sqrt(coefs**2))\n",
        "    return [n5, n25, n75, n95, median, mean, std, var, rms]\n",
        "\n",
        "def createDfWavelet(data,target):\n",
        "  for i in range(len(data)):\n",
        "    data[i].append(target[i])\n",
        "  return pd.DataFrame(data)        "
      ],
      "metadata": {
        "id": "AL4EFOizod3b"
      },
      "execution_count": null,
      "outputs": []
    },
    {
      "cell_type": "code",
      "source": [
        "df_copy=getHurst(df_copy)\n",
        "getStatsForHurst(df_copy)"
      ],
      "metadata": {
        "colab": {
          "base_uri": "https://localhost:8080/",
          "height": 414
        },
        "id": "3MjIMdTGogZ0",
        "outputId": "74e6835f-14f9-497a-ef3c-7732be5a1a7a"
      },
      "execution_count": null,
      "outputs": [
        {
          "output_type": "stream",
          "name": "stdout",
          "text": [
            "mean value of hurst exponent for class 1: 0.19722822350703645\n",
            "mean value of hurst exponent for class 0: 0.5160753908505218\n",
            "mean value of hurst constant for class 1: 21.66698806700332\n",
            "mean value of hurst constant for class 0: 9.445640952454635\n",
            "median value of hurst exponent for class 1: 0.18869720999866674\n",
            "median value of hurst exponent for class 0: 0.5211514082666511\n",
            "median value of hurst constant for class 1: 10.024556108007065\n",
            "median value of hurst constant for class 0: 5.133644535567621\n"
          ]
        },
        {
          "output_type": "display_data",
          "data": {
            "text/plain": [
              "<Figure size 432x288 with 1 Axes>"
            ],
            "image/png": "[encoded data removed]"
          },
          "metadata": {
            "needs_background": "light"
          }
        }
      ]
    },
    {
      "cell_type": "code",
      "source": [
        "df_copy_fea=getWaveletFeatures(df_copy,target)"
      ],
      "metadata": {
        "id": "WeWYOYShohaG"
      },
      "execution_count": null,
      "outputs": []
    },
    {
      "cell_type": "code",
      "source": [
        "df_copy_fea.head()#our new dataset is ready"
      ],
      "metadata": {
        "colab": {
          "base_uri": "https://localhost:8080/",
          "height": 299
        },
        "id": "HrB00HaCoki3",
        "outputId": "5ece07c9-01bc-49cb-f8fd-19e600260190"
      },
      "execution_count": null,
      "outputs": [
        {
          "output_type": "execute_result",
          "data": {
            "text/plain": [
              "         0          1            2           3            4            5   \\\n",
              "0  0.558289   2.639291  -308.299401 -151.216527   723.449162   776.917001   \n",
              "1 -0.198679  72.702377 -1242.996307 -488.612159  1410.560129  1774.820173   \n",
              "2  0.749217   3.457187  -309.409139 -210.090841  -117.128242    -3.197720   \n",
              "3  0.779146  11.983561  -392.667105 -384.158663  -274.167224  -158.602710   \n",
              "4  0.621978   2.549678  -276.585954 -255.283369    12.713043    92.977333   \n",
              "\n",
              "           6           7            8             9   ...         38  \\\n",
              "0    7.281575  185.673279   420.961831  1.772089e+05  ... -15.858685   \n",
              "1  599.383780  504.747903  1218.647761  1.485102e+06  ... -39.440931   \n",
              "2 -153.466544 -159.635662    95.480663  9.116557e+03  ...  -7.354442   \n",
              "3 -295.930482 -292.206483   106.654199  1.137512e+04  ...  -5.060153   \n",
              "4  -79.855665  -96.795548   139.487881  1.945687e+04  ...  -9.754492   \n",
              "\n",
              "         39        40         41        42        43         44          45  \\\n",
              "0 -5.558773  5.772536  13.346173  0.048504 -0.210034   9.121751   83.206344   \n",
              "1 -6.574785  4.870545  42.662344 -0.634462 -0.683798  30.900234  954.824490   \n",
              "2 -3.472210  3.388624   6.927034 -0.256622 -0.249847   4.955513   24.557105   \n",
              "3 -2.330815  2.307951   5.368949  0.230629  0.038440   5.344979   28.568803   \n",
              "4 -3.206273  3.667923   9.537925  0.063130  0.177617   7.173130   51.453787   \n",
              "\n",
              "          46  47  \n",
              "0   7.212415   0  \n",
              "1  15.101415   1  \n",
              "2   3.826032   0  \n",
              "3   3.161617   0  \n",
              "4   4.891576   0  \n",
              "\n",
              "[5 rows x 48 columns]"
            ],
            "text/html": [
              "\n",
              "  <div id=\"df-a618bfc6-f218-436c-95c5-4b0b94fa97f3\">\n",
              "    <div class=\"colab-df-container\">\n",
              "      <div>\n",
              "<style scoped>\n",
              "    .dataframe tbody tr th:only-of-type {\n",
              "        vertical-align: middle;\n",
              "    }\n",
              "\n",
              "    .dataframe tbody tr th {\n",
              "        vertical-align: top;\n",
              "    }\n",
              "\n",
              "    .dataframe thead th {\n",
              "        text-align: right;\n",
              "    }\n",
              "</style>\n",
              "<table border=\"1\" class=\"dataframe\">\n",
              "  <thead>\n",
              "    <tr style=\"text-align: right;\">\n",
              "      <th></th>\n",
              "      <th>0</th>\n",
              "      <th>1</th>\n",
              "      <th>2</th>\n",
              "      <th>3</th>\n",
              "      <th>4</th>\n",
              "      <th>5</th>\n",
              "      <th>6</th>\n",
              "      <th>7</th>\n",
              "      <th>8</th>\n",
              "      <th>9</th>\n",
              "      <th>...</th>\n",
              "      <th>38</th>\n",
              "      <th>39</th>\n",
              "      <th>40</th>\n",
              "      <th>41</th>\n",
              "      <th>42</th>\n",
              "      <th>43</th>\n",
              "      <th>44</th>\n",
              "      <th>45</th>\n",
              "      <th>46</th>\n",
              "      <th>47</th>\n",
              "    </tr>\n",
              "  </thead>\n",
              "  <tbody>\n",
              "    <tr>\n",
              "      <th>0</th>\n",
              "      <td>0.558289</td>\n",
              "      <td>2.639291</td>\n",
              "      <td>-308.299401</td>\n",
              "      <td>-151.216527</td>\n",
              "      <td>723.449162</td>\n",
              "      <td>776.917001</td>\n",
              "      <td>7.281575</td>\n",
              "      <td>185.673279</td>\n",
              "      <td>420.961831</td>\n",
              "      <td>1.772089e+05</td>\n",
              "      <td>...</td>\n",
              "      <td>-15.858685</td>\n",
              "      <td>-5.558773</td>\n",
              "      <td>5.772536</td>\n",
              "      <td>13.346173</td>\n",
              "      <td>0.048504</td>\n",
              "      <td>-0.210034</td>\n",
              "      <td>9.121751</td>\n",
              "      <td>83.206344</td>\n",
              "      <td>7.212415</td>\n",
              "      <td>0</td>\n",
              "    </tr>\n",
              "    <tr>\n",
              "      <th>1</th>\n",
              "      <td>-0.198679</td>\n",
              "      <td>72.702377</td>\n",
              "      <td>-1242.996307</td>\n",
              "      <td>-488.612159</td>\n",
              "      <td>1410.560129</td>\n",
              "      <td>1774.820173</td>\n",
              "      <td>599.383780</td>\n",
              "      <td>504.747903</td>\n",
              "      <td>1218.647761</td>\n",
              "      <td>1.485102e+06</td>\n",
              "      <td>...</td>\n",
              "      <td>-39.440931</td>\n",
              "      <td>-6.574785</td>\n",
              "      <td>4.870545</td>\n",
              "      <td>42.662344</td>\n",
              "      <td>-0.634462</td>\n",
              "      <td>-0.683798</td>\n",
              "      <td>30.900234</td>\n",
              "      <td>954.824490</td>\n",
              "      <td>15.101415</td>\n",
              "      <td>1</td>\n",
              "    </tr>\n",
              "    <tr>\n",
              "      <th>2</th>\n",
              "      <td>0.749217</td>\n",
              "      <td>3.457187</td>\n",
              "      <td>-309.409139</td>\n",
              "      <td>-210.090841</td>\n",
              "      <td>-117.128242</td>\n",
              "      <td>-3.197720</td>\n",
              "      <td>-153.466544</td>\n",
              "      <td>-159.635662</td>\n",
              "      <td>95.480663</td>\n",
              "      <td>9.116557e+03</td>\n",
              "      <td>...</td>\n",
              "      <td>-7.354442</td>\n",
              "      <td>-3.472210</td>\n",
              "      <td>3.388624</td>\n",
              "      <td>6.927034</td>\n",
              "      <td>-0.256622</td>\n",
              "      <td>-0.249847</td>\n",
              "      <td>4.955513</td>\n",
              "      <td>24.557105</td>\n",
              "      <td>3.826032</td>\n",
              "      <td>0</td>\n",
              "    </tr>\n",
              "    <tr>\n",
              "      <th>3</th>\n",
              "      <td>0.779146</td>\n",
              "      <td>11.983561</td>\n",
              "      <td>-392.667105</td>\n",
              "      <td>-384.158663</td>\n",
              "      <td>-274.167224</td>\n",
              "      <td>-158.602710</td>\n",
              "      <td>-295.930482</td>\n",
              "      <td>-292.206483</td>\n",
              "      <td>106.654199</td>\n",
              "      <td>1.137512e+04</td>\n",
              "      <td>...</td>\n",
              "      <td>-5.060153</td>\n",
              "      <td>-2.330815</td>\n",
              "      <td>2.307951</td>\n",
              "      <td>5.368949</td>\n",
              "      <td>0.230629</td>\n",
              "      <td>0.038440</td>\n",
              "      <td>5.344979</td>\n",
              "      <td>28.568803</td>\n",
              "      <td>3.161617</td>\n",
              "      <td>0</td>\n",
              "    </tr>\n",
              "    <tr>\n",
              "      <th>4</th>\n",
              "      <td>0.621978</td>\n",
              "      <td>2.549678</td>\n",
              "      <td>-276.585954</td>\n",
              "      <td>-255.283369</td>\n",
              "      <td>12.713043</td>\n",
              "      <td>92.977333</td>\n",
              "      <td>-79.855665</td>\n",
              "      <td>-96.795548</td>\n",
              "      <td>139.487881</td>\n",
              "      <td>1.945687e+04</td>\n",
              "      <td>...</td>\n",
              "      <td>-9.754492</td>\n",
              "      <td>-3.206273</td>\n",
              "      <td>3.667923</td>\n",
              "      <td>9.537925</td>\n",
              "      <td>0.063130</td>\n",
              "      <td>0.177617</td>\n",
              "      <td>7.173130</td>\n",
              "      <td>51.453787</td>\n",
              "      <td>4.891576</td>\n",
              "      <td>0</td>\n",
              "    </tr>\n",
              "  </tbody>\n",
              "</table>\n",
              "<p>5 rows × 48 columns</p>\n",
              "</div>\n",
              "      <button class=\"colab-df-convert\" onclick=\"convertToInteractive('df-a618bfc6-f218-436c-95c5-4b0b94fa97f3')\"\n",
              "              title=\"Convert this dataframe to an interactive table.\"\n",
              "              style=\"display:none;\">\n",
              "        \n",
              "  <svg xmlns=\"http://www.w3.org/2000/svg\" height=\"24px\"viewBox=\"0 0 24 24\"\n",
              "       width=\"24px\">\n",
              "    <path d=\"M0 0h24v24H0V0z\" fill=\"none\"/>\n",
              "    <path d=\"M18.56 5.44l.94 2.06.94-2.06 2.06-.94-2.06-.94-.94-2.06-.94 2.06-2.06.94zm-11 1L8.5 8.5l.94-2.06 2.06-.94-2.06-.94L8.5 2.5l-.94 2.06-2.06.94zm10 10l.94 2.06.94-2.06 2.06-.94-2.06-.94-.94-2.06-.94 2.06-2.06.94z\"/><path d=\"M17.41 7.96l-1.37-1.37c-.4-.4-.92-.59-1.43-.59-.52 0-1.04.2-1.43.59L10.3 9.45l-7.72 7.72c-.78.78-.78 2.05 0 2.83L4 21.41c.39.39.9.59 1.41.59.51 0 1.02-.2 1.41-.59l7.78-7.78 2.81-2.81c.8-.78.8-2.07 0-2.86zM5.41 20L4 18.59l7.72-7.72 1.47 1.35L5.41 20z\"/>\n",
              "  </svg>\n",
              "      </button>\n",
              "      \n",
              "  <style>\n",
              "    .colab-df-container {\n",
              "      display:flex;\n",
              "      flex-wrap:wrap;\n",
              "      gap: 12px;\n",
              "    }\n",
              "\n",
              "    .colab-df-convert {\n",
              "      background-color: #E8F0FE;\n",
              "      border: none;\n",
              "      border-radius: 50%;\n",
              "      cursor: pointer;\n",
              "      display: none;\n",
              "      fill: #1967D2;\n",
              "      height: 32px;\n",
              "      padding: 0 0 0 0;\n",
              "      width: 32px;\n",
              "    }\n",
              "\n",
              "    .colab-df-convert:hover {\n",
              "      background-color: #E2EBFA;\n",
              "      box-shadow: 0px 1px 2px rgba(60, 64, 67, 0.3), 0px 1px 3px 1px rgba(60, 64, 67, 0.15);\n",
              "      fill: #174EA6;\n",
              "    }\n",
              "\n",
              "    [theme=dark] .colab-df-convert {\n",
              "      background-color: #3B4455;\n",
              "      fill: #D2E3FC;\n",
              "    }\n",
              "\n",
              "    [theme=dark] .colab-df-convert:hover {\n",
              "      background-color: #434B5C;\n",
              "      box-shadow: 0px 1px 3px 1px rgba(0, 0, 0, 0.15);\n",
              "      filter: drop-shadow(0px 1px 2px rgba(0, 0, 0, 0.3));\n",
              "      fill: #FFFFFF;\n",
              "    }\n",
              "  </style>\n",
              "\n",
              "      <script>\n",
              "        const buttonEl =\n",
              "          document.querySelector('#df-a618bfc6-f218-436c-95c5-4b0b94fa97f3 button.colab-df-convert');\n",
              "        buttonEl.style.display =\n",
              "          google.colab.kernel.accessAllowed ? 'block' : 'none';\n",
              "\n",
              "        async function convertToInteractive(key) {\n",
              "          const element = document.querySelector('#df-a618bfc6-f218-436c-95c5-4b0b94fa97f3');\n",
              "          const dataTable =\n",
              "            await google.colab.kernel.invokeFunction('convertToInteractive',\n",
              "                                                     [key], {});\n",
              "          if (!dataTable) return;\n",
              "\n",
              "          const docLinkHtml = 'Like what you see? Visit the ' +\n",
              "            '<a target=\"_blank\" href=https://colab.research.google.com/notebooks/data_table.ipynb>data table notebook</a>'\n",
              "            + ' to learn more about interactive tables.';\n",
              "          element.innerHTML = '';\n",
              "          dataTable['output_type'] = 'display_data';\n",
              "          await google.colab.output.renderOutput(dataTable, element);\n",
              "          const docLink = document.createElement('div');\n",
              "          docLink.innerHTML = docLinkHtml;\n",
              "          element.appendChild(docLink);\n",
              "        }\n",
              "      </script>\n",
              "    </div>\n",
              "  </div>\n",
              "  "
            ]
          },
          "metadata": {},
          "execution_count": 117
        }
      ]
    },
    {
      "cell_type": "code",
      "source": [
        "row, column = df_copy_fea.shape\n",
        "print('Row',row, 'Column', column)"
      ],
      "metadata": {
        "colab": {
          "base_uri": "https://localhost:8080/"
        },
        "id": "7k-QoSXV6495",
        "outputId": "7b426ea1-0ddb-445b-8bfc-73052deed8c9"
      },
      "execution_count": null,
      "outputs": [
        {
          "output_type": "stream",
          "name": "stdout",
          "text": [
            "Row 11500 Column 48\n"
          ]
        }
      ]
    },
    {
      "cell_type": "code",
      "source": [
        "seizure = df_copy_fea.loc[[1],:]\n",
        "seizure = seizure.drop(47,1)\n",
        "print(seizure.values[0])"
      ],
      "metadata": {
        "colab": {
          "base_uri": "https://localhost:8080/"
        },
        "id": "iE9Bq6e9v-gp",
        "outputId": "acbc8f25-5fc5-435e-9ce6-93c4685adfbe"
      },
      "execution_count": null,
      "outputs": [
        {
          "output_type": "stream",
          "name": "stdout",
          "text": [
            "[-1.98678945e-01  7.27023775e+01 -1.24299631e+03 -4.88612159e+02\n",
            "  1.41056013e+03  1.77482017e+03  5.99383780e+02  5.04747903e+02\n",
            "  1.21864776e+03  1.48510237e+06  1.13524886e+03 -1.51381810e+03\n",
            " -5.06059703e+02  1.80820176e+02  1.40262382e+03 -4.55530905e+01\n",
            " -1.40467782e+02  8.16538872e+02  6.66735730e+05  5.69283531e+02\n",
            " -7.23611943e+02 -1.80580005e+02  1.25722567e+02  8.67058241e+02\n",
            " -1.90127791e+01 -2.70765694e+01  4.84052517e+02  2.34306839e+05\n",
            "  3.14521631e+02 -2.30912721e+02 -4.07946409e+01  3.82036676e+01\n",
            "  2.03621093e+02  1.79624829e-01 -2.30597353e+00  2.13641636e+02\n",
            "  4.56427485e+04  1.06013127e+02 -3.94409305e+01 -6.57478541e+00\n",
            "  4.87054457e+00  4.26623440e+01 -6.34462060e-01 -6.83798451e-01\n",
            "  3.09002345e+01  9.54824490e+02  1.51014152e+01]\n"
          ]
        },
        {
          "output_type": "stream",
          "name": "stderr",
          "text": [
            "/usr/local/lib/python3.7/dist-packages/ipykernel_launcher.py:2: FutureWarning: In a future version of pandas all arguments of DataFrame.drop except for the argument 'labels' will be keyword-only\n",
            "  \n"
          ]
        }
      ]
    },
    {
      "cell_type": "code",
      "source": [
        "no_seizure = df_copy_fea.loc[[4],:]\n",
        "print(no_seizure.values[0])"
      ],
      "metadata": {
        "colab": {
          "base_uri": "https://localhost:8080/"
        },
        "id": "wzPRjSuIwSiB",
        "outputId": "bf9c20f8-e698-4d0d-beda-9220c38dcc72"
      },
      "execution_count": null,
      "outputs": [
        {
          "output_type": "stream",
          "name": "stdout",
          "text": [
            "[ 6.21977513e-01  2.54967787e+00 -2.76585954e+02 -2.55283369e+02\n",
            "  1.27130434e+01  9.29773327e+01 -7.98556649e+01 -9.67955480e+01\n",
            "  1.39487881e+02  1.94568689e+04  1.36113655e+02 -1.24463139e+02\n",
            " -5.02950914e+01  1.26508291e+01  7.02016930e+01 -1.34670085e+01\n",
            " -1.67205525e+01  6.70791547e+01  4.49961299e+03  5.29745425e+01\n",
            " -9.12145539e+01 -4.01660244e+01  2.66365103e+01  8.36070923e+01\n",
            "  3.98434712e+00 -5.26863808e+00  5.21261190e+01  2.71713228e+03\n",
            "  4.24516570e+01 -4.68079165e+01 -1.43754088e+01  2.19915717e+01\n",
            "  4.82552788e+01  2.24142911e-01  1.49924247e+00  2.88664256e+01\n",
            "  8.33270527e+02  2.21673715e+01 -9.75449152e+00 -3.20627258e+00\n",
            "  3.66792278e+00  9.53792450e+00  6.31303085e-02  1.77616685e-01\n",
            "  7.17312950e+00  5.14537868e+01  4.89157552e+00  0.00000000e+00]\n"
          ]
        }
      ]
    },
    {
      "cell_type": "code",
      "source": [
        "plt.figure(figsize=(16,8))\n",
        "plt.subplot(2,1,1)\n",
        "plt.title('Non-Seizure')\n",
        "plt.plot(no_seizure.values[0], label = 'Non-Seizure', color='green')\n",
        "plt.subplot(2,1,2)\n",
        "plt.title('Seizure')\n",
        "plt.plot(seizure.values[0], label= 'Seizure', color='red')\n",
        "plt.show()"
      ],
      "metadata": {
        "colab": {
          "base_uri": "https://localhost:8080/",
          "height": 501
        },
        "id": "rLpOylrbwf6w",
        "outputId": "b899808e-c80d-427a-854c-5551a95c2f52"
      },
      "execution_count": null,
      "outputs": [
        {
          "output_type": "display_data",
          "data": {
            "text/plain": [
              "<Figure size 1152x576 with 2 Axes>"
            ],
            "image/png": "[encoded data removed]"
          },
          "metadata": {}
        }
      ]
    },
    {
      "cell_type": "code",
      "source": [
        "plt.hist((df_copy_fea.iloc[v])[47])\n",
        "(df_copy_fea.iloc[v][47]).value_counts() "
      ],
      "metadata": {
        "colab": {
          "base_uri": "https://localhost:8080/",
          "height": 190
        },
        "id": "eVonWsEvJIJz",
        "outputId": "6b7b8cc8-d275-49c2-b976-6f184573b32b"
      },
      "execution_count": null,
      "outputs": [
        {
          "output_type": "error",
          "ename": "NameError",
          "evalue": "ignored",
          "traceback": [
            "\u001b[0;31m---------------------------------------------------------------------------\u001b[0m",
            "\u001b[0;31mNameError\u001b[0m                                 Traceback (most recent call last)",
            "\u001b[0;32m<ipython-input-29-27c49adcadd0>\u001b[0m in \u001b[0;36m<module>\u001b[0;34m\u001b[0m\n\u001b[0;32m----> 1\u001b[0;31m \u001b[0mplt\u001b[0m\u001b[0;34m.\u001b[0m\u001b[0mhist\u001b[0m\u001b[0;34m(\u001b[0m\u001b[0;34m(\u001b[0m\u001b[0mdf_copy_fea\u001b[0m\u001b[0;34m.\u001b[0m\u001b[0miloc\u001b[0m\u001b[0;34m[\u001b[0m\u001b[0mv\u001b[0m\u001b[0;34m]\u001b[0m\u001b[0;34m)\u001b[0m\u001b[0;34m[\u001b[0m\u001b[0;36m47\u001b[0m\u001b[0;34m]\u001b[0m\u001b[0;34m)\u001b[0m\u001b[0;34m\u001b[0m\u001b[0;34m\u001b[0m\u001b[0m\n\u001b[0m\u001b[1;32m      2\u001b[0m \u001b[0;34m(\u001b[0m\u001b[0mdf_copy_fea\u001b[0m\u001b[0;34m.\u001b[0m\u001b[0miloc\u001b[0m\u001b[0;34m[\u001b[0m\u001b[0mv\u001b[0m\u001b[0;34m]\u001b[0m\u001b[0;34m[\u001b[0m\u001b[0;36m47\u001b[0m\u001b[0;34m]\u001b[0m\u001b[0;34m)\u001b[0m\u001b[0;34m.\u001b[0m\u001b[0mvalue_counts\u001b[0m\u001b[0;34m(\u001b[0m\u001b[0;34m)\u001b[0m\u001b[0;34m\u001b[0m\u001b[0;34m\u001b[0m\u001b[0m\n",
            "\u001b[0;31mNameError\u001b[0m: name 'v' is not defined"
          ]
        }
      ]
    },
    {
      "cell_type": "code",
      "source": [
        "from sklearn.utils import shuffle\n",
        "def createBalancedDataset(data,random_state):\n",
        "  #shuffling for random sampling\n",
        "  X = shuffle(data,random_state=random_state)\n",
        "  #getting first 6500 value\n",
        "  return X.sort_values(by=47, ascending=False).iloc[:6500].index"
      ],
      "metadata": {
        "id": "3vV_6q0gpWWg"
      },
      "execution_count": null,
      "outputs": []
    },
    {
      "cell_type": "code",
      "source": [
        "v=createBalancedDataset(df_copy_fea,42)"
      ],
      "metadata": {
        "id": "ml2UmXNo1Meo"
      },
      "execution_count": null,
      "outputs": []
    },
    {
      "cell_type": "code",
      "source": [
        "plt.hist((df_copy_fea.iloc[v])[47])\n",
        "(df_copy_fea.iloc[v][47]).value_counts() #more balanced dataset"
      ],
      "metadata": {
        "colab": {
          "base_uri": "https://localhost:8080/",
          "height": 323
        },
        "id": "c2hKqoTN1N-Z",
        "outputId": "ec30eb41-ce49-4467-8756-4da12d8f9c16"
      },
      "execution_count": null,
      "outputs": [
        {
          "output_type": "execute_result",
          "data": {
            "text/plain": [
              "0    4200\n",
              "1    2300\n",
              "Name: 47, dtype: int64"
            ]
          },
          "metadata": {},
          "execution_count": 123
        },
        {
          "output_type": "display_data",
          "data": {
            "text/plain": [
              "<Figure size 432x288 with 1 Axes>"
            ],
            "image/png": "[encoded data removed]"
          },
          "metadata": {
            "needs_background": "light"
          }
        }
      ]
    },
    {
      "cell_type": "code",
      "source": [
        "#normalizing dataset\n",
        "from sklearn.preprocessing import MinMaxScaler\n",
        "scaler = MinMaxScaler()\n",
        "scaler.fit(df_copy_fea.drop([47],axis=1))\n",
        "n_df_fea=pd.DataFrame(scaler.transform(df_copy_fea.drop([47],axis=1)))"
      ],
      "metadata": {
        "id": "neP2p2-F1PR7"
      },
      "execution_count": null,
      "outputs": []
    },
    {
      "cell_type": "code",
      "source": [
        "import numpy as np\n",
        "from sklearn.model_selection import train_test_split\n",
        "X_trainr, X_testr, y_trainr, y_testr = train_test_split(n_df_fea.iloc[v], target.iloc[v], test_size=0.33, random_state=42)"
      ],
      "metadata": {
        "id": "6tsj9MZk1SQz"
      },
      "execution_count": null,
      "outputs": []
    },
    {
      "cell_type": "markdown",
      "source": [
        "# KNN"
      ],
      "metadata": {
        "id": "hfvN8g3B5jab"
      }
    },
    {
      "cell_type": "code",
      "source": [
        "from sklearn.neighbors import KNeighborsClassifier\n",
        "from sklearn.metrics import classification_report\n",
        "\n",
        "knn = KNeighborsClassifier(n_neighbors=100)\n",
        "knn.fit(X_trainr, y_trainr)\n",
        "y_pred = knn.predict(X_testr)\n",
        "print(classification_report(y_testr, y_pred))"
      ],
      "metadata": {
        "colab": {
          "base_uri": "https://localhost:8080/"
        },
        "id": "wzVjS0xP5qlV",
        "outputId": "99ba06c3-8ad1-4fef-e8c9-6e3d9c682650"
      },
      "execution_count": null,
      "outputs": [
        {
          "output_type": "stream",
          "name": "stdout",
          "text": [
            "              precision    recall  f1-score   support\n",
            "\n",
            "           0       0.96      0.99      0.97      1373\n",
            "           1       0.98      0.92      0.95       772\n",
            "\n",
            "    accuracy                           0.97      2145\n",
            "   macro avg       0.97      0.96      0.96      2145\n",
            "weighted avg       0.97      0.97      0.97      2145\n",
            "\n"
          ]
        }
      ]
    },
    {
      "cell_type": "code",
      "source": [
        "print(\"Accuracy: \", accuracy_score(y_testr, y_pred))"
      ],
      "metadata": {
        "colab": {
          "base_uri": "https://localhost:8080/"
        },
        "id": "GriFOaprHCmF",
        "outputId": "5690f2be-ac5a-4e6e-fda1-be73f11217e9"
      },
      "execution_count": null,
      "outputs": [
        {
          "output_type": "stream",
          "name": "stdout",
          "text": [
            "Accuracy:  0.9664335664335665\n"
          ]
        }
      ]
    },
    {
      "cell_type": "code",
      "source": [
        "from sklearn.metrics import confusion_matrix\n",
        "conmat = confusion_matrix(y_testr, y_pred)\n",
        "sns.heatmap(conmat, annot=True, fmt=\"d\", cmap=\"Greens\")"
      ],
      "metadata": {
        "colab": {
          "base_uri": "https://localhost:8080/",
          "height": 286
        },
        "id": "xx2PGnqEIHtJ",
        "outputId": "d93f8e15-fb46-4ee0-a63e-c853c56717c0"
      },
      "execution_count": null,
      "outputs": [
        {
          "output_type": "execute_result",
          "data": {
            "text/plain": [
              "<matplotlib.axes._subplots.AxesSubplot at 0x7fc13ab04090>"
            ]
          },
          "metadata": {},
          "execution_count": 147
        },
        {
          "output_type": "display_data",
          "data": {
            "text/plain": [
              "<Figure size 432x288 with 2 Axes>"
            ],
            "image/png": "[encoded data removed]"
          },
          "metadata": {
            "needs_background": "light"
          }
        }
      ]
    },
    {
      "cell_type": "code",
      "source": [
        "fpr, tpr, thresholds = roc_curve(y_testr,y_pred)\n",
        "\n",
        "plt.plot(fpr, tpr, label='ROC curve', color=\"red\")\n",
        "plt.plot([0, 1], [0, 1], 'k--', label='Random guess', color=\"green\")\n",
        "plt.xlabel('False Positive Rate')\n",
        "plt.ylabel('True Positive Rate')\n",
        "plt.title('ROC Curve')\n",
        "plt.xlim([-0.02, 1])\n",
        "plt.ylim([0, 1.02])\n",
        "plt.legend(loc=\"lower right\")"
      ],
      "metadata": {
        "colab": {
          "base_uri": "https://localhost:8080/",
          "height": 319
        },
        "id": "APRk4nmhGfEs",
        "outputId": "a1ddb4c1-f2b8-4a65-9f31-615b21c91aa5"
      },
      "execution_count": null,
      "outputs": [
        {
          "output_type": "execute_result",
          "data": {
            "text/plain": [
              "<matplotlib.legend.Legend at 0x7fc13eea7e10>"
            ]
          },
          "metadata": {},
          "execution_count": 128
        },
        {
          "output_type": "display_data",
          "data": {
            "text/plain": [
              "<Figure size 432x288 with 1 Axes>"
            ],
            "image/png": "[encoded data removed]"
          },
          "metadata": {
            "needs_background": "light"
          }
        }
      ]
    },
    {
      "cell_type": "markdown",
      "source": [
        "# SVM"
      ],
      "metadata": {
        "id": "PbFnWNFv8HSB"
      }
    },
    {
      "cell_type": "code",
      "source": [
        "from sklearn import svm\n",
        "\n",
        "clf = svm.SVC(kernel=\"linear\")\n",
        "clf.fit(X_trainr, y_trainr)\n",
        "y_pred = clf.predict(X_testr)\n",
        "\n",
        "print(classification_report(y_testr, y_pred))"
      ],
      "metadata": {
        "colab": {
          "base_uri": "https://localhost:8080/"
        },
        "id": "QnYvZsG78LKL",
        "outputId": "54837bb3-a193-402a-ef75-3b23e5ce3630"
      },
      "execution_count": null,
      "outputs": [
        {
          "output_type": "stream",
          "name": "stdout",
          "text": [
            "              precision    recall  f1-score   support\n",
            "\n",
            "           0       0.97      0.99      0.98      1373\n",
            "           1       0.98      0.94      0.96       772\n",
            "\n",
            "    accuracy                           0.97      2145\n",
            "   macro avg       0.97      0.97      0.97      2145\n",
            "weighted avg       0.97      0.97      0.97      2145\n",
            "\n"
          ]
        }
      ]
    },
    {
      "cell_type": "code",
      "source": [
        "print(\"Accuracy: \", accuracy_score(y_testr, y_pred))"
      ],
      "metadata": {
        "colab": {
          "base_uri": "https://localhost:8080/"
        },
        "id": "RXshaUxrHIWh",
        "outputId": "8ea748f0-682c-4b6a-e166-7862b1942ff6"
      },
      "execution_count": null,
      "outputs": [
        {
          "output_type": "stream",
          "name": "stdout",
          "text": [
            "Accuracy:  0.972960372960373\n"
          ]
        }
      ]
    },
    {
      "cell_type": "code",
      "source": [
        "from sklearn.metrics import confusion_matrix\n",
        "conmat = confusion_matrix(y_testr, y_pred)\n",
        "sns.heatmap(conmat, annot=True, fmt=\"d\", cmap=\"Greens\")"
      ],
      "metadata": {
        "colab": {
          "base_uri": "https://localhost:8080/",
          "height": 286
        },
        "id": "5CU_WdnLIJuW",
        "outputId": "d0d45092-a73e-45a9-86aa-7c715f24a47d"
      },
      "execution_count": null,
      "outputs": [
        {
          "output_type": "execute_result",
          "data": {
            "text/plain": [
              "<matplotlib.axes._subplots.AxesSubplot at 0x7fc13a67d6d0>"
            ]
          },
          "metadata": {},
          "execution_count": 148
        },
        {
          "output_type": "display_data",
          "data": {
            "text/plain": [
              "<Figure size 432x288 with 2 Axes>"
            ],
            "image/png": "[encoded data removed]"
          },
          "metadata": {
            "needs_background": "light"
          }
        }
      ]
    },
    {
      "cell_type": "code",
      "source": [
        "fpr, tpr, thresholds = roc_curve(y_testr,y_pred)\n",
        "\n",
        "plt.plot(fpr, tpr, label='ROC curve', color=\"red\")\n",
        "plt.plot([0, 1], [0, 1], 'k--', label='Random guess', color=\"green\")\n",
        "plt.xlabel('False Positive Rate')\n",
        "plt.ylabel('True Positive Rate')\n",
        "plt.title('ROC Curve')\n",
        "plt.xlim([-0.02, 1])\n",
        "plt.ylim([0, 1.02])\n",
        "plt.legend(loc=\"lower right\")"
      ],
      "metadata": {
        "colab": {
          "base_uri": "https://localhost:8080/",
          "height": 319
        },
        "id": "ycuFUX6YHLQj",
        "outputId": "ce8dddb2-aca7-4612-b8d2-6fc3cd6a1964"
      },
      "execution_count": null,
      "outputs": [
        {
          "output_type": "execute_result",
          "data": {
            "text/plain": [
              "<matplotlib.legend.Legend at 0x7fc1397a90d0>"
            ]
          },
          "metadata": {},
          "execution_count": 131
        },
        {
          "output_type": "display_data",
          "data": {
            "text/plain": [
              "<Figure size 432x288 with 1 Axes>"
            ],
            "image/png": "[encoded data removed]"
          },
          "metadata": {
            "needs_background": "light"
          }
        }
      ]
    },
    {
      "cell_type": "markdown",
      "source": [
        "# Gaussian Naive Bayes\n",
        "\n",
        "\n"
      ],
      "metadata": {
        "id": "wBJuy0LN9EkU"
      }
    },
    {
      "cell_type": "code",
      "source": [
        "from sklearn.naive_bayes import GaussianNB\n",
        "model = GaussianNB()\n",
        "model.fit(X_trainr, y_trainr);\n",
        "y_pred = model.predict(X_testr)\n",
        "\n",
        "print(\"All features are inclueded\\n\",classification_report(y_testr, y_pred))"
      ],
      "metadata": {
        "colab": {
          "base_uri": "https://localhost:8080/"
        },
        "id": "XGeCu34v9n1v",
        "outputId": "320b02c2-1e2b-45ba-fe4f-8329e0d359a5"
      },
      "execution_count": null,
      "outputs": [
        {
          "output_type": "stream",
          "name": "stdout",
          "text": [
            "All features are inclueded\n",
            "               precision    recall  f1-score   support\n",
            "\n",
            "           0       0.91      0.97      0.94      1373\n",
            "           1       0.94      0.83      0.88       772\n",
            "\n",
            "    accuracy                           0.92      2145\n",
            "   macro avg       0.93      0.90      0.91      2145\n",
            "weighted avg       0.92      0.92      0.92      2145\n",
            "\n"
          ]
        }
      ]
    },
    {
      "cell_type": "code",
      "source": [
        "print(\"Accuracy: \", accuracy_score(y_testr, y_pred))"
      ],
      "metadata": {
        "colab": {
          "base_uri": "https://localhost:8080/"
        },
        "id": "TNh_a4deHP7S",
        "outputId": "969fc68b-70e2-4a9d-90a1-9752c442d40a"
      },
      "execution_count": null,
      "outputs": [
        {
          "output_type": "stream",
          "name": "stdout",
          "text": [
            "Accuracy:  0.972960372960373\n"
          ]
        }
      ]
    },
    {
      "cell_type": "code",
      "source": [
        "from sklearn.metrics import confusion_matrix\n",
        "conmat = confusion_matrix(y_testr, y_pred)\n",
        "sns.heatmap(conmat, annot=True, fmt=\"d\", cmap=\"Greens\")"
      ],
      "metadata": {
        "colab": {
          "base_uri": "https://localhost:8080/",
          "height": 286
        },
        "id": "OqRAcTOFILo0",
        "outputId": "4029fa21-f4b2-40f0-f0f7-ef229ef9f169"
      },
      "execution_count": null,
      "outputs": [
        {
          "output_type": "execute_result",
          "data": {
            "text/plain": [
              "<matplotlib.axes._subplots.AxesSubplot at 0x7fc13a5162d0>"
            ]
          },
          "metadata": {},
          "execution_count": 149
        },
        {
          "output_type": "display_data",
          "data": {
            "text/plain": [
              "<Figure size 432x288 with 2 Axes>"
            ],
            "image/png": "[encoded data removed]"
          },
          "metadata": {
            "needs_background": "light"
          }
        }
      ]
    },
    {
      "cell_type": "code",
      "source": [
        "fpr, tpr, thresholds = roc_curve(y_testr,y_pred)\n",
        "\n",
        "plt.plot(fpr, tpr, label='ROC curve', color=\"red\")\n",
        "plt.plot([0, 1], [0, 1], 'k--', label='Random guess', color=\"green\")\n",
        "plt.xlabel('False Positive Rate')\n",
        "plt.ylabel('True Positive Rate')\n",
        "plt.title('ROC Curve')\n",
        "plt.xlim([-0.02, 1])\n",
        "plt.ylim([0, 1.02])\n",
        "plt.legend(loc=\"lower right\")"
      ],
      "metadata": {
        "colab": {
          "base_uri": "https://localhost:8080/",
          "height": 319
        },
        "id": "aMjiVkWNHTMT",
        "outputId": "ab204f97-26da-4b9f-8b23-f255eddac6c8"
      },
      "execution_count": null,
      "outputs": [
        {
          "output_type": "execute_result",
          "data": {
            "text/plain": [
              "<matplotlib.legend.Legend at 0x7fc13b12d3d0>"
            ]
          },
          "metadata": {},
          "execution_count": 133
        },
        {
          "output_type": "display_data",
          "data": {
            "text/plain": [
              "<Figure size 432x288 with 1 Axes>"
            ],
            "image/png": "[encoded data removed]"
          },
          "metadata": {
            "needs_background": "light"
          }
        }
      ]
    },
    {
      "cell_type": "markdown",
      "source": [
        "# Random Forest"
      ],
      "metadata": {
        "id": "DuuWMojC-AXn"
      }
    },
    {
      "cell_type": "code",
      "source": [
        "from sklearn.ensemble import RandomForestClassifier\n",
        "#Create a Gaussian Classifier\n",
        "clf=RandomForestClassifier(n_estimators=1000)\n",
        "clf.fit(X_trainr, y_trainr)\n",
        "\n",
        "y_pred = clf.predict(X_testr)\n",
        "\n",
        "print(\"All features are inclueded\\n\",classification_report(y_testr, y_pred))"
      ],
      "metadata": {
        "colab": {
          "base_uri": "https://localhost:8080/"
        },
        "id": "9t8vD1Lb-EVP",
        "outputId": "d1793a36-4d42-4364-99c3-e6a1cdbebfbf"
      },
      "execution_count": null,
      "outputs": [
        {
          "output_type": "stream",
          "name": "stdout",
          "text": [
            "All features are inclueded\n",
            "               precision    recall  f1-score   support\n",
            "\n",
            "           0       0.98      0.99      0.99      1373\n",
            "           1       0.98      0.97      0.97       772\n",
            "\n",
            "    accuracy                           0.98      2145\n",
            "   macro avg       0.98      0.98      0.98      2145\n",
            "weighted avg       0.98      0.98      0.98      2145\n",
            "\n"
          ]
        }
      ]
    },
    {
      "cell_type": "code",
      "source": [
        "print(\"Accuracy: \", accuracy_score(y_testr, y_pred))"
      ],
      "metadata": {
        "colab": {
          "base_uri": "https://localhost:8080/"
        },
        "id": "4d86uW7NHZFU",
        "outputId": "9eb8b23d-c80b-4dfb-8a6e-b361e20bfbfa"
      },
      "execution_count": null,
      "outputs": [
        {
          "output_type": "stream",
          "name": "stdout",
          "text": [
            "Accuracy:  0.972960372960373\n"
          ]
        }
      ]
    },
    {
      "cell_type": "code",
      "source": [
        "from sklearn.metrics import confusion_matrix\n",
        "conmat = confusion_matrix(y_testr, y_pred)\n",
        "sns.heatmap(conmat, annot=True, fmt=\"d\", cmap=\"Greens\")"
      ],
      "metadata": {
        "colab": {
          "base_uri": "https://localhost:8080/",
          "height": 286
        },
        "id": "qQWqG0SZINa0",
        "outputId": "29f7448d-13b3-442d-b640-8ce9dc9f359a"
      },
      "execution_count": null,
      "outputs": [
        {
          "output_type": "execute_result",
          "data": {
            "text/plain": [
              "<matplotlib.axes._subplots.AxesSubplot at 0x7fc13a2f3290>"
            ]
          },
          "metadata": {},
          "execution_count": 150
        },
        {
          "output_type": "display_data",
          "data": {
            "text/plain": [
              "<Figure size 432x288 with 2 Axes>"
            ],
            "image/png": "[encoded data removed]"
          },
          "metadata": {
            "needs_background": "light"
          }
        }
      ]
    },
    {
      "cell_type": "code",
      "source": [
        "fpr, tpr, thresholds = roc_curve(y_testr,y_pred)\n",
        "\n",
        "plt.plot(fpr, tpr, label='ROC curve', color=\"red\")\n",
        "plt.plot([0, 1], [0, 1], 'k--', label='Random guess', color=\"green\")\n",
        "plt.xlabel('False Positive Rate')\n",
        "plt.ylabel('True Positive Rate')\n",
        "plt.title('ROC Curve')\n",
        "plt.xlim([-0.02, 1])\n",
        "plt.ylim([0, 1.02])\n",
        "plt.legend(loc=\"lower right\")"
      ],
      "metadata": {
        "colab": {
          "base_uri": "https://localhost:8080/",
          "height": 319
        },
        "id": "5vjKCfL3HXLx",
        "outputId": "7f1e9f44-aa25-487f-b999-a1aae97a1259"
      },
      "execution_count": null,
      "outputs": [
        {
          "output_type": "execute_result",
          "data": {
            "text/plain": [
              "<matplotlib.legend.Legend at 0x7fc13edcf3d0>"
            ]
          },
          "metadata": {},
          "execution_count": 135
        },
        {
          "output_type": "display_data",
          "data": {
            "text/plain": [
              "<Figure size 432x288 with 1 Axes>"
            ],
            "image/png": "[encoded data removed]"
          },
          "metadata": {
            "needs_background": "light"
          }
        }
      ]
    },
    {
      "cell_type": "markdown",
      "source": [
        "# Avona feature selection"
      ],
      "metadata": {
        "id": "R7jdRJmF3sIC"
      }
    },
    {
      "cell_type": "code",
      "source": [
        "from sklearn.feature_selection import SelectKBest\n",
        "from sklearn.feature_selection import f_classif\n",
        "\n",
        "fs = SelectKBest(score_func=f_classif, k='all')\n",
        "fs.fit(X_trainr, y_trainr)"
      ],
      "metadata": {
        "colab": {
          "base_uri": "https://localhost:8080/"
        },
        "id": "MqQelBPoyF5c",
        "outputId": "a73812be-aefc-404d-f9de-abe907d3918b"
      },
      "execution_count": null,
      "outputs": [
        {
          "output_type": "execute_result",
          "data": {
            "text/plain": [
              "SelectKBest(k='all')"
            ]
          },
          "metadata": {},
          "execution_count": 165
        }
      ]
    },
    {
      "cell_type": "code",
      "source": [
        "print([i for i in range(len(fs.scores_))])\n",
        "label =  [i for i in range(len(fs.scores_))]"
      ],
      "metadata": {
        "colab": {
          "base_uri": "https://localhost:8080/"
        },
        "id": "41DgDayn1IpA",
        "outputId": "c1c4bde0-3726-4974-9991-ae393c48071a"
      },
      "execution_count": null,
      "outputs": [
        {
          "output_type": "stream",
          "name": "stdout",
          "text": [
            "[0, 1, 2, 3, 4, 5, 6, 7, 8, 9, 10, 11, 12, 13, 14, 15, 16, 17, 18, 19, 20, 21, 22, 23, 24, 25, 26, 27, 28, 29, 30, 31, 32, 33, 34, 35, 36, 37, 38, 39, 40, 41, 42, 43, 44, 45, 46]\n"
          ]
        }
      ]
    },
    {
      "cell_type": "code",
      "source": [
        "from matplotlib import pyplot\n",
        "pyplot.figure(figsize=(24,8))\n",
        "pyplot.bar(label, fs.scores_, color='green')\n",
        "pyplot.show()"
      ],
      "metadata": {
        "colab": {
          "base_uri": "https://localhost:8080/",
          "height": 462
        },
        "id": "HbysiNhhyZWJ",
        "outputId": "0ffcc3de-2593-4b54-dd7d-bd0dd4c3e7c5"
      },
      "execution_count": null,
      "outputs": [
        {
          "output_type": "display_data",
          "data": {
            "text/plain": [
              "<Figure size 1728x576 with 1 Axes>"
            ],
            "image/png": "[encoded data removed]"
          },
          "metadata": {
            "needs_background": "light"
          }
        }
      ]
    },
    {
      "cell_type": "code",
      "source": [
        "from sklearn.feature_selection import SelectKBest\n",
        "from sklearn.feature_selection import f_classif\n",
        "#Selection most important 35 feature by using Anova test\n",
        "def selectFeature(X_trainr,y_trainr,X_testr):\n",
        "  sel_f = SelectKBest(f_classif, k=20)\n",
        "  X_train_f = sel_f.fit_transform(X_trainr, y_trainr)\n",
        "  mySelectedFeatures=[i for i in range(len(sel_f.get_support())) if sel_f.get_support()[i]==True]\n",
        "  j=0\n",
        "  unseable_columns=[]\n",
        "  #Creating a new dataset with these 35 features\n",
        "  for i in X_trainr.columns:\n",
        "    if(j not in mySelectedFeatures):\n",
        "      unseable_columns.append(i)\n",
        "    j+=1 \n",
        "  X_train_arranged=X_trainr.drop(columns=unseable_columns)\n",
        "  X_test_arranged=X_testr.drop(columns=unseable_columns)\n",
        "  return  X_train_arranged,X_test_arranged\n",
        "\n",
        "X_train_arranged,X_test_arranged=selectFeature(X_trainr,y_trainr,X_testr)  "
      ],
      "metadata": {
        "id": "Al1qy_Ou1U2m"
      },
      "execution_count": null,
      "outputs": []
    },
    {
      "cell_type": "code",
      "source": [
        "X_train_arranged.columns #The most important columns according to Anova"
      ],
      "metadata": {
        "colab": {
          "base_uri": "https://localhost:8080/"
        },
        "id": "03SbqCYI1cWn",
        "outputId": "110708f7-d8b0-49a7-c9e1-a03b7cb87da4"
      },
      "execution_count": null,
      "outputs": [
        {
          "output_type": "execute_result",
          "data": {
            "text/plain": [
              "Int64Index([2, 5, 8, 10, 11, 14, 17, 19, 20, 21, 23, 26, 28, 29, 32, 35, 37,\n",
              "            38, 44, 46],\n",
              "           dtype='int64')"
            ]
          },
          "metadata": {},
          "execution_count": 206
        }
      ]
    },
    {
      "cell_type": "code",
      "source": [
        "X_train_arranged.head()"
      ],
      "metadata": {
        "colab": {
          "base_uri": "https://localhost:8080/",
          "height": 270
        },
        "id": "OcIZpXjS3DlE",
        "outputId": "1d636459-4bb9-4c40-e074-1ea905e964ad"
      },
      "execution_count": null,
      "outputs": [
        {
          "output_type": "execute_result",
          "data": {
            "text/plain": [
              "            2         5         8         10        11        14        17  \\\n",
              "9474  0.767584  0.160623  0.253830  0.262537  0.759448  0.352489  0.307424   \n",
              "3358  0.956638  0.060364  0.022756  0.020755  0.974982  0.031409  0.028857   \n",
              "8164  0.857781  0.111078  0.146078  0.141731  0.764778  0.356053  0.367247   \n",
              "5055  0.899173  0.109887  0.084245  0.074313  0.924058  0.082996  0.072580   \n",
              "2356  0.958800  0.041401  0.008511  0.007145  0.994168  0.022004  0.017205   \n",
              "\n",
              "            19        20        21        23        26        28        29  \\\n",
              "9474  0.290180  0.599589  0.916561  0.398460  0.396960  0.318772  0.697894   \n",
              "3358  0.030817  0.970544  0.979580  0.020485  0.027236  0.025609  0.983402   \n",
              "8164  0.372508  0.867561  0.879902  0.193854  0.184358  0.164159  0.895231   \n",
              "5055  0.065872  0.933330  0.973962  0.040714  0.054908  0.044674  0.942807   \n",
              "2356  0.010579  0.972037  0.971961  0.017697  0.029836  0.028284  0.965389   \n",
              "\n",
              "            32        35        37        38        44        46  \n",
              "9474  0.331545  0.308227  0.307291  0.738763  0.213649  0.324766  \n",
              "3358  0.021296  0.021843  0.024802  0.966644  0.020219  0.043228  \n",
              "8164  0.117146  0.142275  0.142492  0.842954  0.136720  0.217454  \n",
              "5055  0.077195  0.057918  0.052368  0.955616  0.036782  0.057709  \n",
              "2356  0.041588  0.037086  0.039704  0.973690  0.038030  0.050838  "
            ],
            "text/html": [
              "\n",
              "  <div id=\"df-1cb2c5c5-89d6-415b-be85-a4bd367e937e\">\n",
              "    <div class=\"colab-df-container\">\n",
              "      <div>\n",
              "<style scoped>\n",
              "    .dataframe tbody tr th:only-of-type {\n",
              "        vertical-align: middle;\n",
              "    }\n",
              "\n",
              "    .dataframe tbody tr th {\n",
              "        vertical-align: top;\n",
              "    }\n",
              "\n",
              "    .dataframe thead th {\n",
              "        text-align: right;\n",
              "    }\n",
              "</style>\n",
              "<table border=\"1\" class=\"dataframe\">\n",
              "  <thead>\n",
              "    <tr style=\"text-align: right;\">\n",
              "      <th></th>\n",
              "      <th>2</th>\n",
              "      <th>5</th>\n",
              "      <th>8</th>\n",
              "      <th>10</th>\n",
              "      <th>11</th>\n",
              "      <th>14</th>\n",
              "      <th>17</th>\n",
              "      <th>19</th>\n",
              "      <th>20</th>\n",
              "      <th>21</th>\n",
              "      <th>23</th>\n",
              "      <th>26</th>\n",
              "      <th>28</th>\n",
              "      <th>29</th>\n",
              "      <th>32</th>\n",
              "      <th>35</th>\n",
              "      <th>37</th>\n",
              "      <th>38</th>\n",
              "      <th>44</th>\n",
              "      <th>46</th>\n",
              "    </tr>\n",
              "  </thead>\n",
              "  <tbody>\n",
              "    <tr>\n",
              "      <th>9474</th>\n",
              "      <td>0.767584</td>\n",
              "      <td>0.160623</td>\n",
              "      <td>0.253830</td>\n",
              "      <td>0.262537</td>\n",
              "      <td>0.759448</td>\n",
              "      <td>0.352489</td>\n",
              "      <td>0.307424</td>\n",
              "      <td>0.290180</td>\n",
              "      <td>0.599589</td>\n",
              "      <td>0.916561</td>\n",
              "      <td>0.398460</td>\n",
              "      <td>0.396960</td>\n",
              "      <td>0.318772</td>\n",
              "      <td>0.697894</td>\n",
              "      <td>0.331545</td>\n",
              "      <td>0.308227</td>\n",
              "      <td>0.307291</td>\n",
              "      <td>0.738763</td>\n",
              "      <td>0.213649</td>\n",
              "      <td>0.324766</td>\n",
              "    </tr>\n",
              "    <tr>\n",
              "      <th>3358</th>\n",
              "      <td>0.956638</td>\n",
              "      <td>0.060364</td>\n",
              "      <td>0.022756</td>\n",
              "      <td>0.020755</td>\n",
              "      <td>0.974982</td>\n",
              "      <td>0.031409</td>\n",
              "      <td>0.028857</td>\n",
              "      <td>0.030817</td>\n",
              "      <td>0.970544</td>\n",
              "      <td>0.979580</td>\n",
              "      <td>0.020485</td>\n",
              "      <td>0.027236</td>\n",
              "      <td>0.025609</td>\n",
              "      <td>0.983402</td>\n",
              "      <td>0.021296</td>\n",
              "      <td>0.021843</td>\n",
              "      <td>0.024802</td>\n",
              "      <td>0.966644</td>\n",
              "      <td>0.020219</td>\n",
              "      <td>0.043228</td>\n",
              "    </tr>\n",
              "    <tr>\n",
              "      <th>8164</th>\n",
              "      <td>0.857781</td>\n",
              "      <td>0.111078</td>\n",
              "      <td>0.146078</td>\n",
              "      <td>0.141731</td>\n",
              "      <td>0.764778</td>\n",
              "      <td>0.356053</td>\n",
              "      <td>0.367247</td>\n",
              "      <td>0.372508</td>\n",
              "      <td>0.867561</td>\n",
              "      <td>0.879902</td>\n",
              "      <td>0.193854</td>\n",
              "      <td>0.184358</td>\n",
              "      <td>0.164159</td>\n",
              "      <td>0.895231</td>\n",
              "      <td>0.117146</td>\n",
              "      <td>0.142275</td>\n",
              "      <td>0.142492</td>\n",
              "      <td>0.842954</td>\n",
              "      <td>0.136720</td>\n",
              "      <td>0.217454</td>\n",
              "    </tr>\n",
              "    <tr>\n",
              "      <th>5055</th>\n",
              "      <td>0.899173</td>\n",
              "      <td>0.109887</td>\n",
              "      <td>0.084245</td>\n",
              "      <td>0.074313</td>\n",
              "      <td>0.924058</td>\n",
              "      <td>0.082996</td>\n",
              "      <td>0.072580</td>\n",
              "      <td>0.065872</td>\n",
              "      <td>0.933330</td>\n",
              "      <td>0.973962</td>\n",
              "      <td>0.040714</td>\n",
              "      <td>0.054908</td>\n",
              "      <td>0.044674</td>\n",
              "      <td>0.942807</td>\n",
              "      <td>0.077195</td>\n",
              "      <td>0.057918</td>\n",
              "      <td>0.052368</td>\n",
              "      <td>0.955616</td>\n",
              "      <td>0.036782</td>\n",
              "      <td>0.057709</td>\n",
              "    </tr>\n",
              "    <tr>\n",
              "      <th>2356</th>\n",
              "      <td>0.958800</td>\n",
              "      <td>0.041401</td>\n",
              "      <td>0.008511</td>\n",
              "      <td>0.007145</td>\n",
              "      <td>0.994168</td>\n",
              "      <td>0.022004</td>\n",
              "      <td>0.017205</td>\n",
              "      <td>0.010579</td>\n",
              "      <td>0.972037</td>\n",
              "      <td>0.971961</td>\n",
              "      <td>0.017697</td>\n",
              "      <td>0.029836</td>\n",
              "      <td>0.028284</td>\n",
              "      <td>0.965389</td>\n",
              "      <td>0.041588</td>\n",
              "      <td>0.037086</td>\n",
              "      <td>0.039704</td>\n",
              "      <td>0.973690</td>\n",
              "      <td>0.038030</td>\n",
              "      <td>0.050838</td>\n",
              "    </tr>\n",
              "  </tbody>\n",
              "</table>\n",
              "</div>\n",
              "      <button class=\"colab-df-convert\" onclick=\"convertToInteractive('df-1cb2c5c5-89d6-415b-be85-a4bd367e937e')\"\n",
              "              title=\"Convert this dataframe to an interactive table.\"\n",
              "              style=\"display:none;\">\n",
              "        \n",
              "  <svg xmlns=\"http://www.w3.org/2000/svg\" height=\"24px\"viewBox=\"0 0 24 24\"\n",
              "       width=\"24px\">\n",
              "    <path d=\"M0 0h24v24H0V0z\" fill=\"none\"/>\n",
              "    <path d=\"M18.56 5.44l.94 2.06.94-2.06 2.06-.94-2.06-.94-.94-2.06-.94 2.06-2.06.94zm-11 1L8.5 8.5l.94-2.06 2.06-.94-2.06-.94L8.5 2.5l-.94 2.06-2.06.94zm10 10l.94 2.06.94-2.06 2.06-.94-2.06-.94-.94-2.06-.94 2.06-2.06.94z\"/><path d=\"M17.41 7.96l-1.37-1.37c-.4-.4-.92-.59-1.43-.59-.52 0-1.04.2-1.43.59L10.3 9.45l-7.72 7.72c-.78.78-.78 2.05 0 2.83L4 21.41c.39.39.9.59 1.41.59.51 0 1.02-.2 1.41-.59l7.78-7.78 2.81-2.81c.8-.78.8-2.07 0-2.86zM5.41 20L4 18.59l7.72-7.72 1.47 1.35L5.41 20z\"/>\n",
              "  </svg>\n",
              "      </button>\n",
              "      \n",
              "  <style>\n",
              "    .colab-df-container {\n",
              "      display:flex;\n",
              "      flex-wrap:wrap;\n",
              "      gap: 12px;\n",
              "    }\n",
              "\n",
              "    .colab-df-convert {\n",
              "      background-color: #E8F0FE;\n",
              "      border: none;\n",
              "      border-radius: 50%;\n",
              "      cursor: pointer;\n",
              "      display: none;\n",
              "      fill: #1967D2;\n",
              "      height: 32px;\n",
              "      padding: 0 0 0 0;\n",
              "      width: 32px;\n",
              "    }\n",
              "\n",
              "    .colab-df-convert:hover {\n",
              "      background-color: #E2EBFA;\n",
              "      box-shadow: 0px 1px 2px rgba(60, 64, 67, 0.3), 0px 1px 3px 1px rgba(60, 64, 67, 0.15);\n",
              "      fill: #174EA6;\n",
              "    }\n",
              "\n",
              "    [theme=dark] .colab-df-convert {\n",
              "      background-color: #3B4455;\n",
              "      fill: #D2E3FC;\n",
              "    }\n",
              "\n",
              "    [theme=dark] .colab-df-convert:hover {\n",
              "      background-color: #434B5C;\n",
              "      box-shadow: 0px 1px 3px 1px rgba(0, 0, 0, 0.15);\n",
              "      filter: drop-shadow(0px 1px 2px rgba(0, 0, 0, 0.3));\n",
              "      fill: #FFFFFF;\n",
              "    }\n",
              "  </style>\n",
              "\n",
              "      <script>\n",
              "        const buttonEl =\n",
              "          document.querySelector('#df-1cb2c5c5-89d6-415b-be85-a4bd367e937e button.colab-df-convert');\n",
              "        buttonEl.style.display =\n",
              "          google.colab.kernel.accessAllowed ? 'block' : 'none';\n",
              "\n",
              "        async function convertToInteractive(key) {\n",
              "          const element = document.querySelector('#df-1cb2c5c5-89d6-415b-be85-a4bd367e937e');\n",
              "          const dataTable =\n",
              "            await google.colab.kernel.invokeFunction('convertToInteractive',\n",
              "                                                     [key], {});\n",
              "          if (!dataTable) return;\n",
              "\n",
              "          const docLinkHtml = 'Like what you see? Visit the ' +\n",
              "            '<a target=\"_blank\" href=https://colab.research.google.com/notebooks/data_table.ipynb>data table notebook</a>'\n",
              "            + ' to learn more about interactive tables.';\n",
              "          element.innerHTML = '';\n",
              "          dataTable['output_type'] = 'display_data';\n",
              "          await google.colab.output.renderOutput(dataTable, element);\n",
              "          const docLink = document.createElement('div');\n",
              "          docLink.innerHTML = docLinkHtml;\n",
              "          element.appendChild(docLink);\n",
              "        }\n",
              "      </script>\n",
              "    </div>\n",
              "  </div>\n",
              "  "
            ]
          },
          "metadata": {},
          "execution_count": 207
        }
      ]
    },
    {
      "cell_type": "code",
      "source": [
        "row, coloum = X_train_arranged.shape\n",
        "print(row, coloum)"
      ],
      "metadata": {
        "colab": {
          "base_uri": "https://localhost:8080/"
        },
        "id": "I3-bGidrHbuv",
        "outputId": "c426c49f-55c5-4634-f497-cbdf58f7e613"
      },
      "execution_count": null,
      "outputs": [
        {
          "output_type": "stream",
          "name": "stdout",
          "text": [
            "4355 20\n"
          ]
        }
      ]
    },
    {
      "cell_type": "markdown",
      "source": [
        "# KNN"
      ],
      "metadata": {
        "id": "VWyWOQ-KHoBC"
      }
    },
    {
      "cell_type": "code",
      "source": [
        "from sklearn.neighbors import KNeighborsClassifier\n",
        "from sklearn.metrics import classification_report\n",
        "\n",
        "knn = KNeighborsClassifier(n_neighbors=100)\n",
        "knn.fit(X_train_arranged, y_trainr)\n",
        "y_pred = knn.predict(X_test_arranged)\n",
        "print(classification_report(y_testr, y_pred))"
      ],
      "metadata": {
        "colab": {
          "base_uri": "https://localhost:8080/"
        },
        "id": "OO_6AzpyHsAl",
        "outputId": "71a26761-6a5c-49a1-c434-1d598b7fb603"
      },
      "execution_count": null,
      "outputs": [
        {
          "output_type": "stream",
          "name": "stdout",
          "text": [
            "              precision    recall  f1-score   support\n",
            "\n",
            "           0       0.97      0.98      0.98      1373\n",
            "           1       0.97      0.95      0.96       772\n",
            "\n",
            "    accuracy                           0.97      2145\n",
            "   macro avg       0.97      0.96      0.97      2145\n",
            "weighted avg       0.97      0.97      0.97      2145\n",
            "\n"
          ]
        }
      ]
    },
    {
      "cell_type": "code",
      "source": [
        "print(\"Accuracy: \", accuracy_score(y_testr, y_pred))"
      ],
      "metadata": {
        "colab": {
          "base_uri": "https://localhost:8080/"
        },
        "id": "lgD8mUSmH4zf",
        "outputId": "dbdf3def-2421-45c6-f4ca-2272cf6b9820"
      },
      "execution_count": null,
      "outputs": [
        {
          "output_type": "stream",
          "name": "stdout",
          "text": [
            "Accuracy:  0.9701631701631701\n"
          ]
        }
      ]
    },
    {
      "cell_type": "code",
      "source": [
        "from sklearn.metrics import confusion_matrix\n",
        "conmat = confusion_matrix(y_testr, y_pred)\n",
        "sns.heatmap(conmat, annot=True, fmt=\"d\", cmap=\"Greens\")"
      ],
      "metadata": {
        "colab": {
          "base_uri": "https://localhost:8080/",
          "height": 286
        },
        "id": "XKLQS6i_IQgr",
        "outputId": "b439945e-299a-4d0d-e90b-031e08a98f91"
      },
      "execution_count": null,
      "outputs": [
        {
          "output_type": "execute_result",
          "data": {
            "text/plain": [
              "<matplotlib.axes._subplots.AxesSubplot at 0x7fc13ad070d0>"
            ]
          },
          "metadata": {},
          "execution_count": 211
        },
        {
          "output_type": "display_data",
          "data": {
            "text/plain": [
              "<Figure size 432x288 with 2 Axes>"
            ],
            "image/png": "[encoded data removed]"
          },
          "metadata": {
            "needs_background": "light"
          }
        }
      ]
    },
    {
      "cell_type": "code",
      "source": [
        "fpr, tpr, thresholds = roc_curve(y_testr,y_pred)\n",
        "\n",
        "plt.plot(fpr, tpr, label='ROC curve', color=\"red\")\n",
        "plt.plot([0, 1], [0, 1], 'k--', label='Random guess', color=\"green\")\n",
        "plt.xlabel('False Positive Rate')\n",
        "plt.ylabel('True Positive Rate')\n",
        "plt.title('ROC Curve')\n",
        "plt.xlim([-0.02, 1])\n",
        "plt.ylim([0, 1.02])\n",
        "plt.legend(loc=\"lower right\")"
      ],
      "metadata": {
        "colab": {
          "base_uri": "https://localhost:8080/",
          "height": 319
        },
        "id": "GCncO9_qIUHN",
        "outputId": "8a1d0dcf-3361-4ecc-f615-62fc8264ad9b"
      },
      "execution_count": null,
      "outputs": [
        {
          "output_type": "execute_result",
          "data": {
            "text/plain": [
              "<matplotlib.legend.Legend at 0x7fc13b0b3610>"
            ]
          },
          "metadata": {},
          "execution_count": 212
        },
        {
          "output_type": "display_data",
          "data": {
            "text/plain": [
              "<Figure size 432x288 with 1 Axes>"
            ],
            "image/png": "[encoded data removed]"
          },
          "metadata": {
            "needs_background": "light"
          }
        }
      ]
    },
    {
      "cell_type": "markdown",
      "source": [
        "# SVM"
      ],
      "metadata": {
        "id": "lFlcBc5sIXtz"
      }
    },
    {
      "cell_type": "code",
      "source": [
        "from sklearn import svm\n",
        "\n",
        "clf = svm.SVC(kernel=\"linear\")\n",
        "clf.fit(X_train_arranged, y_trainr)\n",
        "y_pred = clf.predict(X_test_arranged)\n",
        "\n",
        "print(classification_report(y_testr, y_pred))"
      ],
      "metadata": {
        "colab": {
          "base_uri": "https://localhost:8080/"
        },
        "id": "2tqhmVHWIaWP",
        "outputId": "7f3539eb-913b-4fd6-d3ba-f7bde23451c5"
      },
      "execution_count": null,
      "outputs": [
        {
          "output_type": "stream",
          "name": "stdout",
          "text": [
            "              precision    recall  f1-score   support\n",
            "\n",
            "           0       0.96      0.98      0.97      1373\n",
            "           1       0.97      0.92      0.95       772\n",
            "\n",
            "    accuracy                           0.96      2145\n",
            "   macro avg       0.96      0.95      0.96      2145\n",
            "weighted avg       0.96      0.96      0.96      2145\n",
            "\n"
          ]
        }
      ]
    },
    {
      "cell_type": "code",
      "source": [
        "print(\"Accuracy: \", accuracy_score(y_testr, y_pred))"
      ],
      "metadata": {
        "colab": {
          "base_uri": "https://localhost:8080/"
        },
        "id": "7bNeP7fSIhL-",
        "outputId": "966d1059-b4d4-4a69-bf82-fe69dd43764e"
      },
      "execution_count": null,
      "outputs": [
        {
          "output_type": "stream",
          "name": "stdout",
          "text": [
            "Accuracy:  0.9622377622377623\n"
          ]
        }
      ]
    },
    {
      "cell_type": "code",
      "source": [
        "from sklearn.metrics import confusion_matrix\n",
        "conmat = confusion_matrix(y_testr, y_pred)\n",
        "sns.heatmap(conmat, annot=True, fmt=\"d\", cmap=\"Greens\")"
      ],
      "metadata": {
        "colab": {
          "base_uri": "https://localhost:8080/",
          "height": 286
        },
        "id": "UnGr-1d5IjeY",
        "outputId": "f1ccdd97-89cf-4a15-b7ce-d2850bf3f881"
      },
      "execution_count": null,
      "outputs": [
        {
          "output_type": "execute_result",
          "data": {
            "text/plain": [
              "<matplotlib.axes._subplots.AxesSubplot at 0x7fc13a6b5150>"
            ]
          },
          "metadata": {},
          "execution_count": 227
        },
        {
          "output_type": "display_data",
          "data": {
            "text/plain": [
              "<Figure size 432x288 with 2 Axes>"
            ],
            "image/png": "[encoded data removed]"
          },
          "metadata": {
            "needs_background": "light"
          }
        }
      ]
    },
    {
      "cell_type": "code",
      "source": [
        "fpr, tpr, thresholds = roc_curve(y_testr,y_pred)\n",
        "\n",
        "plt.plot(fpr, tpr, label='ROC curve', color=\"red\")\n",
        "plt.plot([0, 1], [0, 1], 'k--', label='Random guess', color=\"green\")\n",
        "plt.xlabel('False Positive Rate')\n",
        "plt.ylabel('True Positive Rate')\n",
        "plt.title('ROC Curve')\n",
        "plt.xlim([-0.02, 1])\n",
        "plt.ylim([0, 1.02])\n",
        "plt.legend(loc=\"lower right\")"
      ],
      "metadata": {
        "colab": {
          "base_uri": "https://localhost:8080/",
          "height": 319
        },
        "id": "OPoKFE9XIltT",
        "outputId": "3dde66ca-c02a-49fd-e39a-e01ca2cb6141"
      },
      "execution_count": null,
      "outputs": [
        {
          "output_type": "execute_result",
          "data": {
            "text/plain": [
              "<matplotlib.legend.Legend at 0x7fc13a05ef90>"
            ]
          },
          "metadata": {},
          "execution_count": 228
        },
        {
          "output_type": "display_data",
          "data": {
            "text/plain": [
              "<Figure size 432x288 with 1 Axes>"
            ],
            "image/png": "[encoded data removed]"
          },
          "metadata": {
            "needs_background": "light"
          }
        }
      ]
    },
    {
      "cell_type": "markdown",
      "source": [
        "# Gaussian Naive Bayes"
      ],
      "metadata": {
        "id": "dAK9hDWBKFCJ"
      }
    },
    {
      "cell_type": "code",
      "source": [
        "from sklearn.naive_bayes import GaussianNB\n",
        "model = GaussianNB()\n",
        "model.fit(X_train_arranged, y_trainr);\n",
        "y_pred = model.predict(X_test_arranged)\n",
        "\n",
        "print(\"All features are inclueded\\n\",classification_report(y_testr, y_pred))"
      ],
      "metadata": {
        "colab": {
          "base_uri": "https://localhost:8080/"
        },
        "id": "Xp7ItBx6KM2D",
        "outputId": "6497b5d5-c3b9-4054-c54e-76c996f7f33a"
      },
      "execution_count": null,
      "outputs": [
        {
          "output_type": "stream",
          "name": "stdout",
          "text": [
            "All features are inclueded\n",
            "               precision    recall  f1-score   support\n",
            "\n",
            "           0       0.93      0.97      0.95      1373\n",
            "           1       0.95      0.87      0.91       772\n",
            "\n",
            "    accuracy                           0.94      2145\n",
            "   macro avg       0.94      0.92      0.93      2145\n",
            "weighted avg       0.94      0.94      0.94      2145\n",
            "\n"
          ]
        }
      ]
    },
    {
      "cell_type": "code",
      "source": [
        "print(\"Accuracy: \", accuracy_score(y_testr, y_pred))"
      ],
      "metadata": {
        "colab": {
          "base_uri": "https://localhost:8080/"
        },
        "id": "zLBaKSV4KRaQ",
        "outputId": "96e092f9-9cf7-4db5-ab74-0f8045b94356"
      },
      "execution_count": null,
      "outputs": [
        {
          "output_type": "stream",
          "name": "stdout",
          "text": [
            "Accuracy:  0.9356643356643357\n"
          ]
        }
      ]
    },
    {
      "cell_type": "code",
      "source": [
        "from sklearn.metrics import confusion_matrix\n",
        "conmat = confusion_matrix(y_testr, y_pred)\n",
        "sns.heatmap(conmat, annot=True, fmt=\"d\", cmap=\"Greens\")"
      ],
      "metadata": {
        "colab": {
          "base_uri": "https://localhost:8080/",
          "height": 286
        },
        "id": "iHKVQLt_KTGG",
        "outputId": "8efd1103-7a3c-4aaf-910e-17dd84a27b40"
      },
      "execution_count": null,
      "outputs": [
        {
          "output_type": "execute_result",
          "data": {
            "text/plain": [
              "<matplotlib.axes._subplots.AxesSubplot at 0x7fc13aa09e10>"
            ]
          },
          "metadata": {},
          "execution_count": 219
        },
        {
          "output_type": "display_data",
          "data": {
            "text/plain": [
              "<Figure size 432x288 with 2 Axes>"
            ],
            "image/png": "[encoded data removed]"
          },
          "metadata": {
            "needs_background": "light"
          }
        }
      ]
    },
    {
      "cell_type": "code",
      "source": [
        "fpr, tpr, thresholds = roc_curve(y_testr,y_pred)\n",
        "\n",
        "plt.plot(fpr, tpr, label='ROC curve', color=\"red\")\n",
        "plt.plot([0, 1], [0, 1], 'k--', label='Random guess', color=\"green\")\n",
        "plt.xlabel('False Positive Rate')\n",
        "plt.ylabel('True Positive Rate')\n",
        "plt.title('ROC Curve')\n",
        "plt.xlim([-0.02, 1])\n",
        "plt.ylim([0, 1.02])\n",
        "plt.legend(loc=\"lower right\")"
      ],
      "metadata": {
        "colab": {
          "base_uri": "https://localhost:8080/",
          "height": 319
        },
        "id": "uvuX3fkXKVTX",
        "outputId": "c7d837ba-392f-4932-b9e2-a78f9c35f96d"
      },
      "execution_count": null,
      "outputs": [
        {
          "output_type": "execute_result",
          "data": {
            "text/plain": [
              "<matplotlib.legend.Legend at 0x7fc13a8631d0>"
            ]
          },
          "metadata": {},
          "execution_count": 220
        },
        {
          "output_type": "display_data",
          "data": {
            "text/plain": [
              "<Figure size 432x288 with 1 Axes>"
            ],
            "image/png": "[encoded data removed]"
          },
          "metadata": {
            "needs_background": "light"
          }
        }
      ]
    },
    {
      "cell_type": "markdown",
      "source": [
        "# Random Forest"
      ],
      "metadata": {
        "id": "ESObIKupKdEM"
      }
    },
    {
      "cell_type": "code",
      "source": [
        "from sklearn.ensemble import RandomForestClassifier\n",
        "\n",
        "clf=RandomForestClassifier(n_estimators=100)\n",
        "clf.fit(X_train_arranged, y_trainr)\n",
        "\n",
        "y_pred = clf.predict(X_test_arranged)\n",
        "\n",
        "print(\"All features are inclueded\\n\",classification_report(y_testr, y_pred))"
      ],
      "metadata": {
        "colab": {
          "base_uri": "https://localhost:8080/"
        },
        "id": "CK90l5_7K0HU",
        "outputId": "06c7b41d-3a04-48b4-a034-20c8707f185f"
      },
      "execution_count": null,
      "outputs": [
        {
          "output_type": "stream",
          "name": "stdout",
          "text": [
            "All features are inclueded\n",
            "               precision    recall  f1-score   support\n",
            "\n",
            "           0       0.98      0.99      0.98      1373\n",
            "           1       0.98      0.96      0.97       772\n",
            "\n",
            "    accuracy                           0.98      2145\n",
            "   macro avg       0.98      0.97      0.98      2145\n",
            "weighted avg       0.98      0.98      0.98      2145\n",
            "\n"
          ]
        }
      ]
    },
    {
      "cell_type": "code",
      "source": [
        "print(\"Accuracy: \", accuracy_score(y_testr, y_pred))"
      ],
      "metadata": {
        "colab": {
          "base_uri": "https://localhost:8080/"
        },
        "id": "IzfQCtVgK3HH",
        "outputId": "39b14ea1-415b-4009-9706-5f008f6808fd"
      },
      "execution_count": null,
      "outputs": [
        {
          "output_type": "stream",
          "name": "stdout",
          "text": [
            "Accuracy:  0.9771561771561772\n"
          ]
        }
      ]
    },
    {
      "cell_type": "code",
      "source": [
        "from sklearn.metrics import confusion_matrix\n",
        "conmat = confusion_matrix(y_testr, y_pred)\n",
        "sns.heatmap(conmat, annot=True, fmt=\"d\", cmap=\"Greens\")"
      ],
      "metadata": {
        "colab": {
          "base_uri": "https://localhost:8080/",
          "height": 286
        },
        "id": "iAvkVDo2K4Un",
        "outputId": "c13d05ec-da2b-4042-a87e-fd5fd5bdc936"
      },
      "execution_count": null,
      "outputs": [
        {
          "output_type": "execute_result",
          "data": {
            "text/plain": [
              "<matplotlib.axes._subplots.AxesSubplot at 0x7fc13a4a6410>"
            ]
          },
          "metadata": {},
          "execution_count": 223
        },
        {
          "output_type": "display_data",
          "data": {
            "text/plain": [
              "<Figure size 432x288 with 2 Axes>"
            ],
            "image/png": "[encoded data removed]"
          },
          "metadata": {
            "needs_background": "light"
          }
        }
      ]
    },
    {
      "cell_type": "code",
      "source": [
        "fpr, tpr, thresholds = roc_curve(y_testr,y_pred)\n",
        "\n",
        "plt.plot(fpr, tpr, label='ROC curve', color=\"red\")\n",
        "plt.plot([0, 1], [0, 1], 'k--', label='Random guess', color=\"green\")\n",
        "plt.xlabel('False Positive Rate')\n",
        "plt.ylabel('True Positive Rate')\n",
        "plt.title('ROC Curve')\n",
        "plt.xlim([-0.02, 1])\n",
        "plt.ylim([0, 1.02])\n",
        "plt.legend(loc=\"lower right\")"
      ],
      "metadata": {
        "colab": {
          "base_uri": "https://localhost:8080/",
          "height": 319
        },
        "id": "o-Q6aFl1K70e",
        "outputId": "bdf9a6b9-fc19-4f9d-c8fc-94f2874a8b31"
      },
      "execution_count": null,
      "outputs": [
        {
          "output_type": "execute_result",
          "data": {
            "text/plain": [
              "<matplotlib.legend.Legend at 0x7fc13a290090>"
            ]
          },
          "metadata": {},
          "execution_count": 224
        },
        {
          "output_type": "display_data",
          "data": {
            "text/plain": [
              "<Figure size 432x288 with 1 Axes>"
            ],
            "image/png": "[encoded data removed]"
          },
          "metadata": {
            "needs_background": "light"
          }
        }
      ]
    }
  ]
}